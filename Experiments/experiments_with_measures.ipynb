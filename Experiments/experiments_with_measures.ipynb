{
 "cells": [
  {
   "cell_type": "code",
   "execution_count": 1,
   "metadata": {},
   "outputs": [],
   "source": [
    "from text_similarity import text_similarity"
   ]
  },
  {
   "cell_type": "code",
   "execution_count": 5,
   "metadata": {},
   "outputs": [],
   "source": [
    "text1 = 'Через 20 лет вы будете больше разочарованы теми вещами, которые вы не делали, чем теми, которые вы сделали. Так отчальте от тихой пристани. Почувствуйте попутный ветер в вашем парусе. Двигайтесь вперед, действуйте, открывайте! - Марк Твен'\n",
    "text2 = 'Глубокое обучение — совокупность методов машинного обучения (с учителем, с частичным привлечением учителя, без учителя, с подкреплением), основанных на обучении представлениям , а не специализированных алгоритмах под конкретные задачи.'\n",
    "text3 = 'Машинное обучение — класс методов искусственного интеллекта, характерной чертой которых является не прямое решение задачи, а обучение за счёт применения решений множества сходных задач.'\n",
    "text4 = 'Нейронные сети — это вычислительные системы, основанные на принципах биологических нейронных сетей, составляющих мозг животных, такие системы учатся (постепенно улучшают свои способности) выполнять задачи, как правило, без программирования для решения конкретных задач.'"
   ]
  },
  {
   "cell_type": "code",
   "execution_count": 6,
   "metadata": {},
   "outputs": [
    {
     "name": "stdout",
     "output_type": "stream",
     "text": [
      "Similarity score of documents is: -0.007673004343534313\n"
     ]
    }
   ],
   "source": [
    "text_similarity(text1, text2)"
   ]
  },
  {
   "cell_type": "code",
   "execution_count": 7,
   "metadata": {},
   "outputs": [
    {
     "name": "stdout",
     "output_type": "stream",
     "text": [
      "Similarity score of documents is: 0.5401348952549331\n"
     ]
    }
   ],
   "source": [
    "text_similarity(text2, text3)"
   ]
  },
  {
   "cell_type": "code",
   "execution_count": 8,
   "metadata": {},
   "outputs": [
    {
     "name": "stdout",
     "output_type": "stream",
     "text": [
      "Similarity score of documents is: 0.49356370699345514\n"
     ]
    }
   ],
   "source": [
    "text_similarity(text2, text4)"
   ]
  },
  {
   "cell_type": "code",
   "execution_count": 9,
   "metadata": {},
   "outputs": [
    {
     "name": "stdout",
     "output_type": "stream",
     "text": [
      "Similarity score of documents is: 0.5206186336896358\n"
     ]
    }
   ],
   "source": [
    "text_similarity(text3, text4)"
   ]
  },
  {
   "cell_type": "code",
   "execution_count": 15,
   "metadata": {},
   "outputs": [],
   "source": [
    "from similarity import similarity"
   ]
  },
  {
   "cell_type": "code",
   "execution_count": 21,
   "metadata": {},
   "outputs": [
    {
     "name": "stdout",
     "output_type": "stream",
     "text": [
      "Similarity score of documents is: 1.0\n"
     ]
    }
   ],
   "source": [
    "from text_similarity import text_similarity\n",
    "text_similarity(text1, text1)"
   ]
  },
  {
   "cell_type": "code",
   "execution_count": 27,
   "metadata": {},
   "outputs": [
    {
     "data": {
      "text/plain": [
       "'Через 20 лет вы будете больше разочарованы теми вещами, которые вы не делали, чем теми, которые вы сделали. Так отчальте от тихой пристани. Почувствуйте попутный ветер в вашем парусе. Двигайтесь вперед, действуйте, открывайте! - Марк Твен'"
      ]
     },
     "execution_count": 27,
     "metadata": {},
     "output_type": "execute_result"
    }
   ],
   "source": [
    "text1"
   ]
  },
  {
   "cell_type": "code",
   "execution_count": null,
   "metadata": {},
   "outputs": [],
   "source": [
    "for i in range(1, 5):\n",
    "    for j in range"
   ]
  },
  {
   "cell_type": "code",
   "execution_count": 18,
   "metadata": {},
   "outputs": [
    {
     "data": {
      "text/plain": [
       "'Глубокое обучение — совокупность методов машинного обучения (с учителем, с частичным привлечением учителя, без учителя, с подкреплением), основанных на обучении представлениям , а не специализированных алгоритмах под конкретные задачи.'"
      ]
     },
     "execution_count": 18,
     "metadata": {},
     "output_type": "execute_result"
    }
   ],
   "source": [
    "text2"
   ]
  },
  {
   "cell_type": "code",
   "execution_count": 28,
   "metadata": {},
   "outputs": [
    {
     "data": {
      "text/plain": [
       "'Через 20 лет вы будете больше разочарованы теми вещами, которые вы не делали, чем теми, которые вы сделали. Так отчальте от тихой пристани. Почувствуйте попутный ветер в вашем парусе. Двигайтесь вперед, действуйте, открывайте! - Марк Твен'"
      ]
     },
     "execution_count": 28,
     "metadata": {},
     "output_type": "execute_result"
    }
   ],
   "source": [
    "text1"
   ]
  },
  {
   "cell_type": "code",
   "execution_count": 13,
   "metadata": {},
   "outputs": [],
   "source": [
    "text5 = 'Утвержден Порядок прохождения профессионального отбора и профессионального обучения работниками, принимаемыми на работу, непосредственно связанную с движением транспортных средств автомобильного транспорта и городского наземного электрического транспорта.'\n",
    "text8 = 'данный файл содержит информацию о процессе профессионального отбора и обучения работников, связанных с управлением транспортными средствами в автомобильном и городском наземном электрическом транспорте. В файле могут быть описаны требования к уровню профессионального образования, процедуры проведения медицинских осмотров, а также законодательные акты, регулирующие процесс набора и обучения персонала в данной сфере. '\n",
    "\n",
    "text6 = 'Файл содержит Положение о стажировке и аттестации водителей автомобилей и машинистов-трактористов колесных самоходных машин в АК \"АЛРОСА\" (ПАО). В нем представлена подробная информация о процессе стажировки и аттестации, а также обязанностях и ответственности участников. В документе приведены определения и термины, используемые в Положении, а также общие положения, регулирующие процесс стажировки и аттестации водителей. Он также описывает роль комиссии, принимающей решения по аттестации, и последствия, связанные с этими решениями.'\n",
    "text7 = 'Аннотация предоставляет читателю общее представление о содержании документа и его значимости для процесса стажировки и аттестации водителей в АК \"АЛРОСА\" (ПАО).'"
   ]
  },
  {
   "cell_type": "code",
   "execution_count": 32,
   "metadata": {},
   "outputs": [],
   "source": [
    "text_first = 'Данный файл содержит информацию о процессе профессионального отбора и обучения работников, связанных с управлением транспортными средствами в автомобильном и городском наземном электрическом транспорте. В файле могут быть описаны требования к уровню профессионального образования, процедуры проведения медицинских осмотров, а также законодательные акты, регулирующие процесс набора и обучения персонала в данной сфере.'\n",
    "text_last = 'Файл содержит Положение о закупке товаров, работ, услуг для нужд АО «РЖД Управление активами». Данный документ определяет порядок проведения конкурентных и неконкурентных закупок и распространяется на деятельность Общества. В тексте содержатся основные положения, регулирующие процесс закупки товаров, работ и услуг, а также указывается, какие случаи не подпадают под действие настоящего Положения и регулируются другими нормативными актами. Кроме того, документ содержит информацию о требованиях, предъявляемых к юридическим лицам, являющимся взаимозависимыми с АО «РЖД Управление активами», и обоснованиях, которые должны быть представлены для включения в перечень взаимозависимых лиц. В целом, данный PDF файл является важным руководством для всех, кто занимается закупками товаров, работ и услуг для нужд АО «РЖД Управление активами». Он содержит полезную информацию о порядке проведения конкурентных и неконкурентных закупок, а также о требованиях, которые должны быть соблюдены при проведении таких закупок.'"
   ]
  },
  {
   "cell_type": "code",
   "execution_count": 33,
   "metadata": {},
   "outputs": [
    {
     "name": "stdout",
     "output_type": "stream",
     "text": [
      "Similarity score of documents is: 0.7729683509842747\n"
     ]
    }
   ],
   "source": [
    "text_similarity(text_first, text_last)"
   ]
  },
  {
   "cell_type": "code",
   "execution_count": 14,
   "metadata": {},
   "outputs": [
    {
     "name": "stdout",
     "output_type": "stream",
     "text": [
      "Similarity score of documents is: 0.7440722003029746\n"
     ]
    }
   ],
   "source": [
    "text_similarity(text6, text8)"
   ]
  },
  {
   "cell_type": "code",
   "execution_count": 17,
   "metadata": {},
   "outputs": [],
   "source": [
    "text0 = 'Документом устанавливаются общие положения, круг участников, обязанности, ответственность, требования к стажировке и аттестации соответствующих категорий сотрудников. Также утверждаются стадии стажировки водителей, ее объем и содержание. Помимо этого, документом предусматривается создание Комисии по аттестации навыков и знаний водителя, регламентируется порядок принятия ею решения об успешном или неуспешном прохождении стажировки.'\n",
    "text9 = 'Порядок распространяется на ЮЛ и ИП, осуществляющих на территории РФ деятельность, связанную с эксплуатацией транспортных средств. Приказом закрепляется перечень документов, в соответствии с которыми устанавливается наличие у кандидата на должность тех или иных необходимых навыков: трудовая книжка, водительское удостоверение и др. Также определен процесс последующего проведения собеседования с кандидатом.'\n",
    "text10 = 'В профессиональном стандарте закреплено описание трудовых функций водителя внедорожных автомототранспортных средств, а также их обобщенная характеристика. Основная цель данного вида профессиональной деятельности — безопасная перевозка грузов и людей внедорожным мототранспортным и автотранспортным средством при различных дорожных и метеорологических условиях.'\n",
    "text11 = 'Вводятся примерные программы переподготовки водителей транспортных средств с категорий \"B\", \"C\", \"D\" на категорию \"Tm\", с категории \"B\" на категорию \"A\", с категории \"B\" на подкатегорию \"A1\" и с подкатегории \"В1\" на категорию \"B\". К приказу прилагаются примерные учебные планы программ, а также примерные рабочие программы учебных предметов.'"
   ]
  },
  {
   "cell_type": "code",
   "execution_count": 16,
   "metadata": {},
   "outputs": [
    {
     "name": "stdout",
     "output_type": "stream",
     "text": [
      "Similarity score of documents is: 0.6765066256425152\n"
     ]
    }
   ],
   "source": [
    "text_similarity(text0, text9)"
   ]
  },
  {
   "cell_type": "code",
   "execution_count": 18,
   "metadata": {},
   "outputs": [
    {
     "name": "stdout",
     "output_type": "stream",
     "text": [
      "Similarity score of documents is: 0.49176069839937\n"
     ]
    }
   ],
   "source": [
    "text_similarity(text0, text10)"
   ]
  },
  {
   "cell_type": "code",
   "execution_count": 19,
   "metadata": {},
   "outputs": [
    {
     "name": "stdout",
     "output_type": "stream",
     "text": [
      "Similarity score of documents is: 0.487512848145013\n"
     ]
    }
   ],
   "source": [
    "text_similarity(text0, text11)"
   ]
  },
  {
   "cell_type": "code",
   "execution_count": null,
   "metadata": {},
   "outputs": [],
   "source": []
  },
  {
   "cell_type": "code",
   "execution_count": 34,
   "metadata": {},
   "outputs": [
    {
     "name": "stdout",
     "output_type": "stream",
     "text": [
      "Similarity score of documents is: 0.8286216709792062\n",
      "None\n"
     ]
    }
   ],
   "source": [
    "tt = 'Проектом предлагается создать доступный для потребителей внесудебный механизм урегулирования потребительских споров с использованием онлайн-платформ.'\n",
    "\n",
    "tt1 = 'Законопроект, посвященный созданию внесудебного механизма урегулирования потребительских споров с использованием онлайн-платформ, был внесен в Государственную Думу РФ.'\n",
    "tt2 = 'Предлагается создать доступный для потребителей внесудебный механизм урегулирования потребительских споров с использованием онлайн-платформ. Определяются правила проведения процедур урегулирования споров, а также обязанности оператора платформы, на которой предполагается реализация данного механизма.'\n",
    "tt3 = 'Предлагается закрепить перечень требований к медиаторам, которым они должны соответствовать для осуществления медиативной деятельности на профессиональной основе. Также предусматривается положение о том, что процедура медиации может быть установлена в качестве досудебного порядка урегулирования споров. В свою очередь, сроки проведения процедуры медиации будут исключаться из общих сроков рассмотрения дел в судах общей юрисдикции.'\n",
    "tt4 = 'Расширяются основания привлечения к ответственности операторов услуг платежной инфраструктуры. Также устанавливаются конкретные обязанности операторов платежных систем и платежной инфраструктуры в случае приостановления или прекращения обслуживания карт клиента по инициативе платежной системы.'\n",
    "\n",
    "print(text_similarity(tt, tt1))"
   ]
  },
  {
   "cell_type": "code",
   "execution_count": 37,
   "metadata": {},
   "outputs": [],
   "source": [
    "import spacy\n",
    "nlp = spacy.load(\"ru_core_news_sm\")"
   ]
  },
  {
   "cell_type": "code",
   "execution_count": 35,
   "metadata": {},
   "outputs": [],
   "source": [
    "import numpy as np"
   ]
  },
  {
   "cell_type": "code",
   "execution_count": 38,
   "metadata": {},
   "outputs": [
    {
     "name": "stdout",
     "output_type": "stream",
     "text": [
      "0.82862157\n"
     ]
    }
   ],
   "source": [
    "print(np.dot(nlp(tt).vector, nlp(tt1).vector) / (np.linalg.norm(nlp(tt).vector) * np.linalg.norm(nlp(tt1).vector)))"
   ]
  },
  {
   "cell_type": "code",
   "execution_count": 42,
   "metadata": {},
   "outputs": [
    {
     "data": {
      "text/plain": [
       "(96,)"
      ]
     },
     "execution_count": 42,
     "metadata": {},
     "output_type": "execute_result"
    }
   ],
   "source": [
    "nlp(tt1).vector.shape"
   ]
  },
  {
   "cell_type": "code",
   "execution_count": 46,
   "metadata": {},
   "outputs": [
    {
     "name": "stdout",
     "output_type": "stream",
     "text": [
      "0.37039646416232397\n",
      "0.3778136247337751\n",
      "0.24186171817551913\n",
      "0.22207383075536694\n"
     ]
    }
   ],
   "source": [
    "print(1 / np.linalg.norm(nlp(tt).vector - nlp(tt1).vector))\n",
    "print(1 / np.linalg.norm(nlp(tt).vector - nlp(tt2).vector))\n",
    "print(1 / np.linalg.norm(nlp(tt).vector - nlp(tt3).vector))\n",
    "print(1 / np.linalg.norm(nlp(tt).vector - nlp(tt4).vector))"
   ]
  },
  {
   "cell_type": "code",
   "execution_count": 50,
   "metadata": {},
   "outputs": [],
   "source": [
    "from math import*\n",
    "\n",
    "def jaccard_similarity(x,y):\n",
    "\n",
    "    intersection_cardinality = len(set.intersection(*[set(x), set(y)]))\n",
    "    union_cardinality = len(set.union(*[set(x), set(y)]))\n",
    "    return intersection_cardinality/float(union_cardinality)"
   ]
  },
  {
   "cell_type": "code",
   "execution_count": 57,
   "metadata": {},
   "outputs": [],
   "source": [
    "from math import*\n",
    "\n",
    "def square_rooted(x):\n",
    "\n",
    "    return round(sqrt(sum([a*a for a in x])),3)\n",
    "\n",
    "def cosine_similarity(x,y):\n",
    "\n",
    "    numerator = sum(a*b for a,b in zip(x,y))\n",
    "    denominator = square_rooted(x)*square_rooted(y)\n",
    "    return round(numerator/float(denominator),3)"
   ]
  },
  {
   "cell_type": "code",
   "execution_count": 63,
   "metadata": {},
   "outputs": [
    {
     "name": "stdout",
     "output_type": "stream",
     "text": [
      "Similarity score of documents is: 0.8286216709792062\n"
     ]
    }
   ],
   "source": [
    "text_similarity(tt, tt1)"
   ]
  },
  {
   "cell_type": "code",
   "execution_count": 62,
   "metadata": {},
   "outputs": [
    {
     "name": "stdout",
     "output_type": "stream",
     "text": [
      "1.0\n",
      "0.0\n",
      "0.0\n",
      "0.0\n"
     ]
    }
   ],
   "source": [
    "print(jaccard_similarity(nlp(tt).vector, nlp(tt).vector))\n",
    "print(jaccard_similarity(nlp(tt).vector, nlp(tt2).vector))\n",
    "print(jaccard_similarity(nlp(tt).vector, nlp(tt3).vector))\n",
    "print(jaccard_similarity(nlp(tt).vector, nlp(tt4).vector))"
   ]
  },
  {
   "cell_type": "code",
   "execution_count": 60,
   "metadata": {},
   "outputs": [
    {
     "name": "stdout",
     "output_type": "stream",
     "text": [
      "0.829\n",
      "0.836\n",
      "0.523\n",
      "0.564\n"
     ]
    }
   ],
   "source": [
    "print(cosine_similarity(nlp(tt).vector, nlp(tt1).vector))\n",
    "print(cosine_similarity(nlp(tt).vector, nlp(tt2).vector))\n",
    "print(cosine_similarity(nlp(tt).vector, nlp(tt3).vector))\n",
    "print(cosine_similarity(nlp(tt).vector, nlp(tt4).vector))"
   ]
  },
  {
   "attachments": {},
   "cell_type": "markdown",
   "metadata": {},
   "source": [
    "# LNA s annotatsiyami"
   ]
  },
  {
   "cell_type": "code",
   "execution_count": 69,
   "metadata": {},
   "outputs": [],
   "source": [
    "pol_k = 'Утверждено Положение о стажировке и аттестации водителей автомобилей и машинистов – трактористов колесных самоходных машин в АК «АЛРОСА» (ПАО).'\n",
    "pol_r = 'Документом устанавливаются общие положения, круг участников, обязанности, ответственность, требования к стажировке и аттестации соответствующих категорий сотрудников. Также утверждаются стадии стажировки водителей, ее объем и содержание. Помимо этого, документом предусматривается создание Комисии по аттестации навыков и знаний водителя, регламентируется порядок принятия ею решения об успешном или неуспешном прохождении стажировки.'\n",
    "pol = pol_k + \" \" + pol_r\n",
    "\n",
    "pol1_k = 'Утвержден Порядок прохождения профессионального отбора и профессионального обучения работниками, принимаемыми на работу, непосредственно связанную с движением транспортных средств автомобильного транспорта и городского наземного электрического транспорта.'\n",
    "pol1_r = 'Порядок распространяется на ЮЛ и ИП, осуществляющих на территории РФ деятельность, связанную с эксплуатацией транспортных средств. Приказом закрепляется перечень документов, в соответствии с которыми устанавливается наличие у кандидата на должность тех или иных необходимых навыков: трудовая книжка, водительское удостоверение и др. Также определен процесс последующего проведения собеседования с кандидатом.'\n",
    "pol1 = pol1_k + \" \" + pol1_r\n",
    "\n",
    "pol2_k = 'Утвержден профессиональный стандарт \"Водитель внедорожных автомототранспортных средств\".'\n",
    "pol2_r = 'В профессиональном стандарте закреплено описание трудовых функций водителя внедорожных автомототранспортных средств, а также их обобщенная характеристика. Основная цель данного вида профессиональной деятельности — безопасная перевозка грузов и людей внедорожным мототранспортным и автотранспортным средством при различных дорожных и метеорологических условиях.'\n",
    "pol2 = pol2_k + \" \" + pol2_r\n",
    "\n",
    "pol3_k = 'С 1 марта 2023 года уточняются примерные программы профессионального обучения водителей транспортных средств соответствующих категорий и подкатегорий.'\n",
    "pol3_r = 'Вводятся примерные программы переподготовки водителей транспортных средств с категорий \"B\", \"C\", \"D\" на категорию \"Tm\", с категории \"B\" на категорию \"A\", с категории \"B\" на подкатегорию \"A1\" и с подкатегории \"В1\" на категорию \"B\". К приказу прилагаются примерные учебные планы программ, а также примерные рабочие программы учебных предметов.'\n",
    "pol3 = pol3_k + \" \" + pol3_r"
   ]
  },
  {
   "cell_type": "code",
   "execution_count": 89,
   "metadata": {},
   "outputs": [],
   "source": [
    "from math import*\n",
    "from decimal import Decimal\n",
    "\n",
    "def euclidean_distance(x,y):\n",
    "    x = nlp(x).vector\n",
    "    y = nlp(y).vector\n",
    "    return sqrt(sum(pow(a-b,2) for a, b in zip(x, y)))\n",
    "\n",
    "def manhattan_distance(x,y):\n",
    "    x = nlp(x).vector\n",
    "    y = nlp(y).vector\n",
    "    return sum(abs(a-b) for a,b in zip(x,y))\n",
    "\n",
    "def nth_root(value, n_root):\n",
    "    root_value = 1/float(n_root)\n",
    "    return round (Decimal(value) ** Decimal(root_value),3)\n",
    "\n",
    "def minkowski_distance(x,y,p_value):\n",
    "    x = nlp(x).vector\n",
    "    y = nlp(y).vector\n",
    "    return nth_root(sum(pow(abs(a-b),p_value) for a,b in zip(x, y)),p_value)"
   ]
  },
  {
   "cell_type": "code",
   "execution_count": 78,
   "metadata": {},
   "outputs": [
    {
     "name": "stdout",
     "output_type": "stream",
     "text": [
      "0.3662651124836458\n",
      "0.30803871224354556\n",
      "0.2898608259335312\n"
     ]
    }
   ],
   "source": [
    "print(1/euclidean_distance(pol, pol1))\n",
    "print(1/euclidean_distance(pol, pol2))\n",
    "print(1/euclidean_distance(pol, pol3))"
   ]
  },
  {
   "cell_type": "code",
   "execution_count": 87,
   "metadata": {},
   "outputs": [
    {
     "name": "stdout",
     "output_type": "stream",
     "text": [
      "0.04599506502259645\n",
      "0.03969059104782516\n",
      "0.03717154453868802\n"
     ]
    }
   ],
   "source": [
    "print(1/manhattan_distance(pol, pol1))\n",
    "print(1/manhattan_distance(pol, pol2))\n",
    "print(1/manhattan_distance(pol, pol3))"
   ]
  },
  {
   "cell_type": "code",
   "execution_count": 117,
   "metadata": {},
   "outputs": [
    {
     "name": "stdout",
     "output_type": "stream",
     "text": [
      "1.253132832080200501253132832\n",
      "0.8169934640522875816993464052\n",
      "0.6793478260869565217391304348\n"
     ]
    }
   ],
   "source": [
    "p = 100\n",
    "print(1/minkowski_distance(pol_r, pol1_r, p))\n",
    "print(1/minkowski_distance(pol_r, pol2_r, p))\n",
    "print(1/minkowski_distance(pol_r, pol3_r, p))"
   ]
  },
  {
   "cell_type": "code",
   "execution_count": 138,
   "metadata": {},
   "outputs": [],
   "source": [
    "def square_rooted(x):\n",
    "    return round(sqrt(sum([a*a for a in x])),3)\n",
    "\n",
    "def cosine_similarity(x,y):\n",
    "    x = nlp(x).vector\n",
    "    y = nlp(y).vector\n",
    "    numerator = sum(a*b for a,b in zip(x,y))\n",
    "    denominator = square_rooted(x)*square_rooted(y)\n",
    "    return round(numerator/float(denominator),3)\n",
    "\n",
    "def jaccard_similarity(x,y):\n",
    "    # x = nlp(x).vector\n",
    "    # y = nlp(y).vector\n",
    "    intersection_cardinality = len(set.intersection(*[set(x), set(y)]))\n",
    "    union_cardinality = len(set.union(*[set(x), set(y)]))\n",
    "    return round(intersection_cardinality/float(union_cardinality), 3)"
   ]
  },
  {
   "cell_type": "code",
   "execution_count": 139,
   "metadata": {},
   "outputs": [
    {
     "name": "stdout",
     "output_type": "stream",
     "text": [
      "0.677\n",
      "0.61\n",
      "0.659\n"
     ]
    }
   ],
   "source": [
    "print(cosine_similarity(pol, pol1))\n",
    "print(cosine_similarity(pol, pol2))\n",
    "print(cosine_similarity(pol, pol3))"
   ]
  },
  {
   "cell_type": "code",
   "execution_count": 142,
   "metadata": {},
   "outputs": [
    {
     "name": "stdout",
     "output_type": "stream",
     "text": [
      "0.685\n",
      "0.623\n",
      "0.516\n"
     ]
    }
   ],
   "source": [
    "print(jaccard_similarity(pol, pol1))\n",
    "print(jaccard_similarity(pol, pol2))\n",
    "print(jaccard_similarity(pol, pol3))"
   ]
  },
  {
   "attachments": {},
   "cell_type": "markdown",
   "metadata": {},
   "source": [
    "# Лента_Комплексный_метчинг_3_компонента"
   ]
  },
  {
   "cell_type": "code",
   "execution_count": 153,
   "metadata": {},
   "outputs": [],
   "source": [
    "lenta0k = 'Проектом предлагается создать доступный для потребителей внесудебный механизм урегулирования потребительских споров с использованием онлайн-платформ.'\n",
    "lenta0r = 'До настоящего времени в России отсутствовало правовое регулирование отношений по реализации процедур онлайн-урегулирования споров (ОУС). Согласно законопроекту, сторонами таких споров смогут выступать потребители и адресаты требований, а также нейтральные лица — специалисты, эксперты, медиаторы. При этом услуги для потребителей будут бесплатными. Помимо этого, в процессе урегулирования спора с использованием платформы будет возможно изменение требований потребителя по согласованию с ним. Также с помощью сервиса ОУС граждане смогут отслеживать все стадии рассмотрения обращения.'\n",
    "lenta0 = lenta0k + ' ' + lenta0r\n",
    "\n",
    "lenta1k = 'Законопроект, посвященный созданию внесудебного механизма урегулирования потребительских споров с использованием онлайн-платформ, был внесен в Государственную Думу РФ.'\n",
    "lenta1r = 'Законопроектом впервые урегулированы отношения по реализации процедур онлайн-урегулирования споров (ОУС). Предлагается создать доступный для потребителей внесудебный механизм урегулирования потребительских споров с использованием онлайн-платформ. Постановлением статс-секретарь - заместитель Министра юстиции РФ Логинов А.В. назначен официальным представителем Правительства РФ при рассмотрении палатами Федерального Собрания РФ проекта ФЗ.'\n",
    "lenta1 = lenta1k + ' ' + lenta1r\n",
    "\n",
    "lenta2k = 'Предлагается создать доступный для потребителей внесудебный механизм урегулирования потребительских споров с использованием онлайн-платформ. Определяются правила проведения процедур урегулирования споров, а также обязанности оператора платформы, на которой предполагается реализация данного механизма.'\n",
    "lenta2r = 'До настоящего времени в России отсутствовало правовое регулирование отношений по реализации процедур онлайн-урегулирования споров (ОУС). Необходимость создания системы механизмов ОУС вызвана главным образом возрастающим числом жалоб потребителей, связанных с онлайн-покупками и оказанием онлайн-услуг, необходимостью сократить издержки потребителей ‎и государства на ведение судебной защиты нарушенных прав потребителей,  а также издержки бизнеса на администрирование обработки и хранения претензий потребителей в бумажной форме. Предполагается, что услуги для потребителей в рамках механизмов ОУС будут бесплатными. Операторам платформ ОУС предлагается самостоятельно определять способы ОУС и устанавливать требования к их процедурам. Помимо этого, проектом установлены предельные сроки, в рамках которых потребителями могут быть заявлены соответствующие требования через платформы.'\n",
    "lenta2 = lenta2k + ' ' + lenta2r\n",
    "\n",
    "lenta3k = 'Предлагается закрепить перечень требований к медиаторам, которым они должны соответствовать для осуществления медиативной деятельности на профессиональной основе. Также предусматривается положение о том, что процедура медиации может быть установлена в качестве досудебного порядка урегулирования споров. В свою очередь, сроки проведения процедуры медиации будут исключаться из общих сроков рассмотрения дел в судах общей юрисдикции.'\n",
    "lenta3r = 'Также законопроектом предлагается закрепить обязательность осуществления медиативной деятельность в России только на профессиональной основе — до настоящего времени осуществлять медиацию также могут медиаторы на непрофессиональной основе. Помимо этого, в качестве дополнительной опции, направленной на повышение качества медиативных услуг, предлагается ввести новое положение о том, что организации, осуществляющие деятельность по обеспечению проведения процедуры медиации, могут проходить подтверждение соответствия в форме добровольной сертификации. Кроме того, предлагается дополнить Закон о медиации нормой, согласно которой в случае, если дело ранее было передано на рассмотрение третейского или государственного суда, и после этого сторонами принято решение о применении медиации, медиатором может выступать только медиатор-член СРО или медиатор, привлекаемый организацией, осуществляющей деятельность по обеспечению проведения процедуры медиации, являющейся членом СРО.'\n",
    "lenta3 = lenta3k + ' ' + lenta3r\n",
    "\n",
    "lenta4k = 'Расширяются основания привлечения к ответственности операторов услуг платежной инфраструктуры. Также устанавливаются конкретные обязанности операторов платежных систем и платежной инфраструктуры в случае приостановления или прекращения обслуживания карт клиента по инициативе платежной системы.'\n",
    "lenta4r = 'В частности, оператор обязуется: 1) информировать клиента об условиях использования электронного средства платежа, в частности о любых ограничениях способов и мест использования, случаях повышенного риска; 2) предоставлять клиенту документы и информацию, которые связаны с использованием клиентом его электронного средства платежа. Помимо этого, законопроектом предлагается установить требование о включении в правила платежных систем перечня оснований и порядка приостановления или прекращения использования клиентом электронного средства платежа по инициативе оператора платежной системы или оператора услуг платежной инфраструктуры.'\n",
    "lenta4 = lenta4k + ' ' + lenta4r\n",
    "\n",
    "lenta5k = 'Предусматриваются дополнительные механизмы для защиты прав потребителей, приобретающих товары (услуги) в интернете. Закон «О защите прав потребителей» дополняется термином «агрегатор товаров (услуг) в сети «Интернет» в качестве самостоятельного субъекта ответственности перед потребителями. Под агрегатором понимается информационный посредник, вступающий с потребителями в возмездные отношения, но не заключающий сделки купли-продажи товаров или оказания услуг.'\n",
    "lenta5r = 'Указанные изменения вызваны злоупотреблениями, обусловленными отсутствием четкой правовой регламентации деятельности хозяйствующих субъектов, не идентифицируемых как «классические» продавцы (исполнители), которые фактически оказываются вне юрисдикции законодательства о защите прав потребителей и не несут бремя соблюдения прав потребителей на информацию о продавце (изготовителе, исполнителе), реализуемых товарах, предлагаемых услугах и др. Проектом предлагается приравнять статус агрегаторов товаров (услуг) в сети «Интернет» к статусу продавцов (исполнителей) соответственно, в зависимости от рода информации на представляемую агрегатором продукцию (товары, услуги).'\n",
    "lenta5 = lenta5k + ' ' + lenta5r"
   ]
  },
  {
   "cell_type": "code",
   "execution_count": 168,
   "metadata": {},
   "outputs": [
    {
     "name": "stdout",
     "output_type": "stream",
     "text": [
      "0.37039647461938685\n",
      "0.37781361088404636\n",
      "0.24186171493087463\n",
      "0.22207382662769018\n",
      "0.266675742097467\n"
     ]
    }
   ],
   "source": [
    "print(1/euclidean_distance(lenta0k, lenta1k))\n",
    "print(1/euclidean_distance(lenta0k, lenta2k))\n",
    "print(1/euclidean_distance(lenta0k, lenta3k))\n",
    "print(1/euclidean_distance(lenta0k, lenta4k))\n",
    "print(1/euclidean_distance(lenta0k, lenta5k))"
   ]
  },
  {
   "cell_type": "code",
   "execution_count": 155,
   "metadata": {},
   "outputs": [
    {
     "name": "stdout",
     "output_type": "stream",
     "text": [
      "0.3359851894589871\n",
      "0.5593512162231601\n",
      "0.4391658683361983\n",
      "0.3879974255282744\n",
      "0.35948161960165864\n"
     ]
    }
   ],
   "source": [
    "print(1/euclidean_distance(lenta0r, lenta1r))\n",
    "print(1/euclidean_distance(lenta0r, lenta2r))\n",
    "print(1/euclidean_distance(lenta0r, lenta3r))\n",
    "print(1/euclidean_distance(lenta0r, lenta4r))\n",
    "print(1/euclidean_distance(lenta0r, lenta5r))"
   ]
  },
  {
   "cell_type": "code",
   "execution_count": 156,
   "metadata": {},
   "outputs": [
    {
     "name": "stdout",
     "output_type": "stream",
     "text": [
      "0.41470759615032615\n",
      "0.679665934197558\n",
      "0.4814456061297632\n",
      "0.41275633073846957\n",
      "0.42564468876317024\n"
     ]
    }
   ],
   "source": [
    "print(1/euclidean_distance(lenta0, lenta1))\n",
    "print(1/euclidean_distance(lenta0, lenta2))\n",
    "print(1/euclidean_distance(lenta0, lenta3))\n",
    "print(1/euclidean_distance(lenta0, lenta4))\n",
    "print(1/euclidean_distance(lenta0, lenta5))"
   ]
  },
  {
   "cell_type": "code",
   "execution_count": 157,
   "metadata": {},
   "outputs": [
    {
     "name": "stdout",
     "output_type": "stream",
     "text": [
      "0.044955582009370124\n",
      "0.04996631179760765\n",
      "0.030786608239278243\n",
      "0.029910609235004625\n",
      "0.03366696414749917\n"
     ]
    }
   ],
   "source": [
    "print(1/manhattan_distance(lenta0k, lenta1k))\n",
    "print(1/manhattan_distance(lenta0k, lenta2k))\n",
    "print(1/manhattan_distance(lenta0k, lenta3k))\n",
    "print(1/manhattan_distance(lenta0k, lenta4k))\n",
    "print(1/manhattan_distance(lenta0k, lenta5k))"
   ]
  },
  {
   "cell_type": "code",
   "execution_count": 158,
   "metadata": {},
   "outputs": [
    {
     "name": "stdout",
     "output_type": "stream",
     "text": [
      "0.04482761244482693\n",
      "0.07416670564025774\n",
      "0.05556552983313683\n",
      "0.05122269335957836\n",
      "0.04610805678262912\n"
     ]
    }
   ],
   "source": [
    "print(1/manhattan_distance(lenta0r, lenta1r))\n",
    "print(1/manhattan_distance(lenta0r, lenta2r))\n",
    "print(1/manhattan_distance(lenta0r, lenta3r))\n",
    "print(1/manhattan_distance(lenta0r, lenta4r))\n",
    "print(1/manhattan_distance(lenta0r, lenta5r))"
   ]
  },
  {
   "cell_type": "code",
   "execution_count": 159,
   "metadata": {},
   "outputs": [
    {
     "name": "stdout",
     "output_type": "stream",
     "text": [
      "0.05488481251843612\n",
      "0.09007925738025961\n",
      "0.059177175756284235\n",
      "0.05429940271248506\n",
      "0.05331142260061499\n"
     ]
    }
   ],
   "source": [
    "print(1/manhattan_distance(lenta0, lenta1))\n",
    "print(1/manhattan_distance(lenta0, lenta2))\n",
    "print(1/manhattan_distance(lenta0, lenta3))\n",
    "print(1/manhattan_distance(lenta0, lenta4))\n",
    "print(1/manhattan_distance(lenta0, lenta5))"
   ]
  },
  {
   "cell_type": "code",
   "execution_count": 160,
   "metadata": {},
   "outputs": [
    {
     "name": "stdout",
     "output_type": "stream",
     "text": [
      "0.829\n",
      "0.836\n",
      "0.523\n",
      "0.564\n",
      "0.631\n"
     ]
    }
   ],
   "source": [
    "print(cosine_similarity(lenta0k, lenta1k))\n",
    "print(cosine_similarity(lenta0k, lenta2k))\n",
    "print(cosine_similarity(lenta0k, lenta3k))\n",
    "print(cosine_similarity(lenta0k, lenta4k))\n",
    "print(cosine_similarity(lenta0k, lenta5k))"
   ]
  },
  {
   "cell_type": "code",
   "execution_count": 161,
   "metadata": {},
   "outputs": [
    {
     "name": "stdout",
     "output_type": "stream",
     "text": [
      "0.657\n",
      "0.842\n",
      "0.716\n",
      "0.702\n",
      "0.639\n"
     ]
    }
   ],
   "source": [
    "print(cosine_similarity(lenta0r, lenta1r))\n",
    "print(cosine_similarity(lenta0r, lenta2r))\n",
    "print(cosine_similarity(lenta0r, lenta3r))\n",
    "print(cosine_similarity(lenta0r, lenta4r))\n",
    "print(cosine_similarity(lenta0r, lenta5r))"
   ]
  },
  {
   "cell_type": "code",
   "execution_count": 162,
   "metadata": {},
   "outputs": [
    {
     "name": "stdout",
     "output_type": "stream",
     "text": [
      "0.763\n",
      "0.894\n",
      "0.761\n",
      "0.756\n",
      "0.73\n"
     ]
    }
   ],
   "source": [
    "print(cosine_similarity(lenta0, lenta1))\n",
    "print(cosine_similarity(lenta0, lenta2))\n",
    "print(cosine_similarity(lenta0, lenta3))\n",
    "print(cosine_similarity(lenta0, lenta4))\n",
    "print(cosine_similarity(lenta0, lenta5))"
   ]
  },
  {
   "cell_type": "code",
   "execution_count": 163,
   "metadata": {},
   "outputs": [
    {
     "name": "stdout",
     "output_type": "stream",
     "text": [
      "0.75\n",
      "0.848\n",
      "0.75\n",
      "0.667\n",
      "0.651\n"
     ]
    }
   ],
   "source": [
    "print(jaccard_similarity(lenta0k, lenta1k))\n",
    "print(jaccard_similarity(lenta0k, lenta2k))\n",
    "print(jaccard_similarity(lenta0k, lenta3k))\n",
    "print(jaccard_similarity(lenta0k, lenta4k))\n",
    "print(jaccard_similarity(lenta0k, lenta5k))"
   ]
  },
  {
   "cell_type": "code",
   "execution_count": 164,
   "metadata": {},
   "outputs": [
    {
     "name": "stdout",
     "output_type": "stream",
     "text": [
      "0.725\n",
      "0.894\n",
      "0.851\n",
      "0.7\n",
      "0.694\n"
     ]
    }
   ],
   "source": [
    "print(jaccard_similarity(lenta0r, lenta1r))\n",
    "print(jaccard_similarity(lenta0r, lenta2r))\n",
    "print(jaccard_similarity(lenta0r, lenta3r))\n",
    "print(jaccard_similarity(lenta0r, lenta4r))\n",
    "print(jaccard_similarity(lenta0r, lenta5r))"
   ]
  },
  {
   "cell_type": "code",
   "execution_count": 165,
   "metadata": {},
   "outputs": [
    {
     "name": "stdout",
     "output_type": "stream",
     "text": [
      "0.769\n",
      "0.894\n",
      "0.833\n",
      "0.74\n",
      "0.76\n"
     ]
    }
   ],
   "source": [
    "print(jaccard_similarity(lenta0, lenta1))\n",
    "print(jaccard_similarity(lenta0, lenta2))\n",
    "print(jaccard_similarity(lenta0, lenta3))\n",
    "print(jaccard_similarity(lenta0, lenta4))\n",
    "print(jaccard_similarity(lenta0, lenta5))"
   ]
  },
  {
   "cell_type": "code",
   "execution_count": 169,
   "metadata": {},
   "outputs": [],
   "source": [
    "new = 'Разработано Положение для урегулирования порядка подготовки договоров, согласования их условий, заключения, регистрации, учета, хранения и контроля за исполнением договоров в АК «АЛРОСА» (ПАО), в том числе в её структурных и обособленных подразделениях, а также в подконтрольных юридических лицах.'\n",
    "second = 'Внесены значительные изменения в законодательство о госзакупках. В частности, сокращено количество конкурентных способов определения поставщика. Также закреплено, что централизованные закупки теперь также возможны для бюджетных учреждений и унитарных предприятий.'"
   ]
  },
  {
   "cell_type": "code",
   "execution_count": 171,
   "metadata": {},
   "outputs": [
    {
     "data": {
      "text/plain": [
       "0.525"
      ]
     },
     "execution_count": 171,
     "metadata": {},
     "output_type": "execute_result"
    }
   ],
   "source": [
    "cosine_similarity(new, second)"
   ]
  },
  {
   "attachments": {},
   "cell_type": "markdown",
   "metadata": {},
   "source": [
    "22.06.2023"
   ]
  },
  {
   "cell_type": "code",
   "execution_count": 173,
   "metadata": {},
   "outputs": [],
   "source": [
    "# list1\n",
    "act0 = 'Разработано Положение для урегулирования порядка подготовки договоров, согласования их условий, заключения, регистрации, учета, хранения и контроля за исполнением договоров в АК «АЛРОСА» (ПАО), в том числе в её структурных и обособленных подразделениях, а также в подконтрольных юридических лицах.'\n",
    "\n",
    "act1 = 'Внесены значительные изменения в законодательство о госзакупках. В частности, сокращено количество конкурентных способов определения поставщика. Также закреплено, что централизованные закупки теперь также возможны для бюджетных учреждений и унитарных предприятий.'\n",
    "act2 = 'Скорректированы положения законодательства о долевом строительстве. В частности, предусматривается создание федерального реестра проблемных объектов.'\n",
    "act3 = 'Принят ФЗ \"О защите конкуренции\", который определяет организационные и правовые основы предупреждения и пресечения монополистической деятельности и недобросовестной конкуренции.'\n",
    "act4 = 'Предлагается дополнить НК РФ понятием «счет цифрового рубля», которое позволяет определить основание возникновения правоотношений, связанных с возможностью осуществления операций с цифровыми рублями.'\n",
    "act5 = 'Установлен перечень видов продукции (товаров), работ, услуг, производство, выполнение которых осуществляется с использованием определенной доли вторичного сырья в их составе и в отношении которых осуществляется стимулирование деятельности по их производству, выполнению. В него, в частности, включены: сталь, производимая с использованием вторичных черных металлов, чугун, производимый с использованием вторичных черных металлов, ферросплавы, производимые с использованием вторичных черных металлов'\n",
    "act6 = 'Предлагается внести изменение в статью 422 НК РФ в части установления нормы, согласно которой для плательщиков, относящихся к субъектам малого и среднего предпринимательства, предусматривается освобождение от обложения страховыми взносами сумм начисленных районных коэффициентов и процентных надбавок к заработной плате лиц, работающих в организациях, расположенных в районах Крайнего Севера и приравненных к ним местностях, а также сумм, выплачиваемых работнику в связи с предоставлением дополнительных оплачиваемых отпусков, предусмотренных на общих основаниях, лицам, работающим в районах Крайнего Севера и приравненных к ним местностях'\n",
    "act7 = 'В связи с вышеизложенным представленный проект федерального закона предусматривает дополнение статьи 168 ТК РФ положением, в соответствии с которым размер возмещения суточных, связанных со служебными командировками, должен  быть не ниже 1/30 величины минимального размера оплаты труда, установленного в соответствующих субъектах РФ, за  каждый день нахождения в служебной командировке'\n",
    "act8 = 'Согласно предложенному законопроекту каждому пенсионеру, которому назначена страховая пенсия по старости, раз в год в декабре месяце будет выплачиваться дополнительная страховая пенсия по старости (так называемая «тринадцатая пенсия»)'\n",
    "act9 = 'Законопроектом в целях улучшения пенсионного обеспечения родителей предлагается внести изменения в статью 15 Федерального закона «О страховых пенсиях», согласно которым коэффициенты за полный календарный год засчитываемого в страховой стаж периода ухода за ребенком увеличиваются в два раза, то есть 3,6 - в отношении периода ухода за первым ребенком, 7,2 - за вторым, 10,8 - за третьим или четвертым ребенком'\n",
    "act10 = 'Роспотребнадзор предложил закрепить рекомендации по профилактике гриппа, острых респираторных вирусных инфекций и новой коронавирусной инфекции в эпидемическом сезоне 2023-2024 годов для руководителей организаций и государственных органов. В частности, рекомендуется принять меры по недопущению переохлаждения лиц, работающих ‎на открытом воздухе в зимний период, обеспечив наличие помещений для обогрева и приема пищи.'"
   ]
  },
  {
   "cell_type": "code",
   "execution_count": 196,
   "metadata": {},
   "outputs": [],
   "source": [
    "# list2\n",
    "act0 = 'Утверждена форма согласия физического лица на размещение его биометрических ПД в региональном сегменте Единой биометрической системы (ЕБС). Также установлены правила получения такого согласия.'\n",
    "\n",
    "act1 = 'Принят ФЗ о Единой биометрической системе (ЕБС), с помощью которой будут собирать и обрабатывать биометрию.'\n",
    "act2 = 'Устанавливается порядок направления организацией, осуществляющей аутентификацию на основе биометрии физлиц, мотивированного запроса оператору Единой биометрической системы (ЕБС) о результатах проверки биометрии.'\n",
    "act3 = 'Скорректированы требования к проверке простых электронных подписей, которыми подписаны согласия на обработку персональных данных, при их хранении.'\n",
    "act4 = 'Предлагается дополнить НК РФ понятием «счет цифрового рубля», которое позволяет определить основание возникновения правоотношений, связанных с возможностью осуществления операций с цифровыми рублями.'\n",
    "act5 = 'Установлен перечень видов продукции (товаров), работ, услуг, производство, выполнение которых осуществляется с использованием определенной доли вторичного сырья в их составе и в отношении которых осуществляется стимулирование деятельности по их производству, выполнению. В него, в частности, включены: сталь, производимая с использованием вторичных черных металлов, чугун, производимый с использованием вторичных черных металлов, ферросплавы, производимые с использованием вторичных черных металлов'\n",
    "act6 = 'Предлагается внести изменение в статью 422 НК РФ в части установления нормы, согласно которой для плательщиков, относящихся к субъектам малого и среднего предпринимательства, предусматривается освобождение от обложения страховыми взносами сумм начисленных районных коэффициентов и процентных надбавок к заработной плате лиц, работающих в организациях, расположенных в районах Крайнего Севера и приравненных к ним местностях, а также сумм, выплачиваемых работнику в связи с предоставлением дополнительных оплачиваемых отпусков, предусмотренных на общих основаниях, лицам, работающим в районах Крайнего Севера и приравненных к ним местностях'\n",
    "act7 = 'В связи с вышеизложенным представленный проект федерального закона предусматривает дополнение статьи 168 ТК РФ положением, в соответствии с которым размер возмещения суточных, связанных со служебными командировками, должен  быть не ниже 1/30 величины минимального размера оплаты труда, установленного в соответствующих субъектах РФ, за  каждый день нахождения в служебной командировке'\n",
    "act8 = 'Согласно предложенному законопроекту каждому пенсионеру, которому назначена страховая пенсия по старости, раз в год в декабре месяце будет выплачиваться дополнительная страховая пенсия по старости (так называемая «тринадцатая пенсия»)'\n",
    "act9 = 'Законопроектом в целях улучшения пенсионного обеспечения родителей предлагается внести изменения в статью 15 Федерального закона «О страховых пенсиях», согласно которым коэффициенты за полный календарный год засчитываемого в страховой стаж периода ухода за ребенком увеличиваются в два раза, то есть 3,6 - в отношении периода ухода за первым ребенком, 7,2 - за вторым, 10,8 - за третьим или четвертым ребенком'\n",
    "act10 = 'Роспотребнадзор предложил закрепить рекомендации по профилактике гриппа, острых респираторных вирусных инфекций и новой коронавирусной инфекции в эпидемическом сезоне 2023-2024 годов для руководителей организаций и государственных органов. В частности, рекомендуется принять меры по недопущению переохлаждения лиц, работающих ‎на открытом воздухе в зимний период, обеспечив наличие помещений для обогрева и приема пищи.'"
   ]
  },
  {
   "cell_type": "code",
   "execution_count": 179,
   "metadata": {},
   "outputs": [
    {
     "data": {
      "text/plain": [
       "'act1'"
      ]
     },
     "execution_count": 179,
     "metadata": {},
     "output_type": "execute_result"
    }
   ],
   "source": [
    "\"act\" + str(1)"
   ]
  },
  {
   "cell_type": "code",
   "execution_count": 197,
   "metadata": {},
   "outputs": [
    {
     "name": "stdout",
     "output_type": "stream",
     "text": [
      "0.191\n",
      "0.276\n",
      "0.264\n",
      "0.255\n",
      "0.248\n",
      "0.232\n",
      "0.251\n",
      "0.191\n",
      "0.239\n",
      "0.236\n"
     ]
    }
   ],
   "source": [
    "print(round(1/euclidean_distance(act0, act1), 3))\n",
    "print(round(1/euclidean_distance(act0, act2), 3))\n",
    "print(round(1/euclidean_distance(act0, act3), 3))\n",
    "print(round(1/euclidean_distance(act0, act4), 3))\n",
    "print(round(1/euclidean_distance(act0, act5), 3))\n",
    "print(round(1/euclidean_distance(act0, act6), 3))\n",
    "print(round(1/euclidean_distance(act0, act7), 3))\n",
    "print(round(1/euclidean_distance(act0, act8), 3))\n",
    "print(round(1/euclidean_distance(act0, act9), 3))\n",
    "print(round(1/euclidean_distance(act0, act10), 3))"
   ]
  },
  {
   "cell_type": "code",
   "execution_count": null,
   "metadata": {},
   "outputs": [],
   "source": [
    "print(round(1/euclidean_distance(act0, act1), 3))\n",
    "print(round(1/euclidean_distance(act0, act2), 3))\n",
    "print(round(1/euclidean_distance(act0, act3), 3))\n",
    "print(round(1/euclidean_distance(act0, act4), 3))\n",
    "print(round(1/euclidean_distance(act0, act5), 3))\n",
    "print(round(1/euclidean_distance(act0, act6), 3))\n",
    "print(round(1/euclidean_distance(act0, act7), 3))\n",
    "print(round(1/euclidean_distance(act0, act8), 3))\n",
    "print(round(1/euclidean_distance(act0, act9), 3))\n",
    "print(round(1/euclidean_distance(act0, act10), 3))"
   ]
  },
  {
   "cell_type": "code",
   "execution_count": 199,
   "metadata": {},
   "outputs": [
    {
     "name": "stdout",
     "output_type": "stream",
     "text": [
      "0.0248\n",
      "0.0352\n",
      "0.0343\n",
      "0.0336\n",
      "0.0313\n",
      "0.0292\n",
      "0.033\n",
      "0.0246\n",
      "0.0316\n",
      "0.0303\n"
     ]
    }
   ],
   "source": [
    "print(round(1/manhattan_distance(act0, act1), 4))\n",
    "print(round(1/manhattan_distance(act0, act2), 4))\n",
    "print(round(1/manhattan_distance(act0, act3), 4))\n",
    "print(round(1/manhattan_distance(act0, act4), 4))\n",
    "print(round(1/manhattan_distance(act0, act5), 4))\n",
    "print(round(1/manhattan_distance(act0, act6), 4))\n",
    "print(round(1/manhattan_distance(act0, act7), 4))\n",
    "print(round(1/manhattan_distance(act0, act8), 4))\n",
    "print(round(1/manhattan_distance(act0, act9), 4))\n",
    "print(round(1/manhattan_distance(act0, act10), 4))"
   ]
  },
  {
   "cell_type": "code",
   "execution_count": 202,
   "metadata": {},
   "outputs": [
    {
     "name": "stdout",
     "output_type": "stream",
     "text": [
      "0.099\n",
      "0.576\n",
      "0.551\n",
      "0.501\n",
      "0.44\n",
      "0.361\n",
      "0.42\n",
      "0.262\n",
      "0.373\n",
      "0.403\n"
     ]
    }
   ],
   "source": [
    "print(round(cosine_similarity(act0, act1), 3))\n",
    "print(round(cosine_similarity(act0, act2), 3))\n",
    "print(round(cosine_similarity(act0, act3), 3))\n",
    "print(round(cosine_similarity(act0, act4), 3))\n",
    "print(round(cosine_similarity(act0, act5), 3))\n",
    "print(round(cosine_similarity(act0, act6), 3))\n",
    "print(round(cosine_similarity(act0, act7), 3))\n",
    "print(round(cosine_similarity(act0, act8), 3))\n",
    "print(round(cosine_similarity(act0, act9), 3))\n",
    "print(round(cosine_similarity(act0, act10), 3))"
   ]
  }
 ],
 "metadata": {
  "kernelspec": {
   "display_name": "Python 3",
   "language": "python",
   "name": "python3"
  },
  "language_info": {
   "codemirror_mode": {
    "name": "ipython",
    "version": 3
   },
   "file_extension": ".py",
   "mimetype": "text/x-python",
   "name": "python",
   "nbconvert_exporter": "python",
   "pygments_lexer": "ipython3",
   "version": "3.11.1"
  },
  "orig_nbformat": 4
 },
 "nbformat": 4,
 "nbformat_minor": 2
}
