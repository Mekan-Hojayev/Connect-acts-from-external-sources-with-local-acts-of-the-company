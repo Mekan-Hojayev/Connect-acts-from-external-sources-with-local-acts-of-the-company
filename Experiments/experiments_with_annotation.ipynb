{
 "cells": [
  {
   "cell_type": "code",
   "execution_count": 3,
   "metadata": {},
   "outputs": [],
   "source": [
    "import requests"
   ]
  },
  {
   "cell_type": "code",
   "execution_count": 4,
   "metadata": {},
   "outputs": [],
   "source": [
    "url = 'https://dev.pravo.tracktrack.ru/laws/Utkonos_draft_17/e2rqwfdsiuvjn#'"
   ]
  },
  {
   "cell_type": "code",
   "execution_count": 5,
   "metadata": {},
   "outputs": [],
   "source": [
    "res = requests.get(url)"
   ]
  },
  {
   "cell_type": "code",
   "execution_count": 6,
   "metadata": {},
   "outputs": [],
   "source": [
    "text = res.text"
   ]
  },
  {
   "cell_type": "code",
   "execution_count": 7,
   "metadata": {},
   "outputs": [
    {
     "name": "stdout",
     "output_type": "stream",
     "text": [
      "<!doctype html><html lang=\"ru\"><head><meta charset=\"UTF-8\"/><meta name=\"viewport\" content=\"width=device-width,initial-scale=1,user-scalable=0\"><meta name=\"theme-color\" content=\"#000000\"><link rel=\"manifest\" href=\"/manifest.json\"><link rel=\"icon\" type=\"shortcut icon\" sizes=\"16x16\" href=\"/favicons/favicon.ico\"><title>ÐÑÐ°Ð²Ð¾Ð²Ð¾Ð¹ Ð¼Ð¾Ð´ÑÐ»Ñ TrackTrack</title><link rel=\"preconnect\" href=\"https://fonts.googleapis.com\"><link rel=\"preconnect\" href=\"https://fonts.gstatic.com\" crossorigin><script src=\"https://cdnjs.cloudflare.com/ajax/libs/html2pdf.js/0.10.1/html2pdf.bundle.min.js\" integrity=\"sha512-GsLlZN/3F2ErC5ifS5QtgpiJtWd43JWSuIgh7mbzZ8zBps+dvLusV+eNQATqgA/HdeKFVgA5v3S/cIrLF7QnIg==\" crossorigin=\"anonymous\" referrerpolicy=\"no-referrer\"></script><script>!function(){var i=window.analytics=window.analytics||[];if(!i.initialize)if(i.invoked)window.console&&console.error&&console.error(\"Segment snippet included twice.\");else{i.invoked=!0,i.methods=[\"trackSubmit\",\"trackClick\",\"trackLink\",\"trackForm\",\"pageview\",\"identify\",\"reset\",\"group\",\"track\",\"ready\",\"alias\",\"debug\",\"page\",\"once\",\"off\",\"on\",\"addSourceMiddleware\",\"addIntegrationMiddleware\",\"setAnonymousId\",\"addDestinationMiddleware\"],i.factory=function(e){return function(){var t=Array.prototype.slice.call(arguments);return t.unshift(e),i.push(t),i}};for(var t=0;t<i.methods.length;t++){var e=i.methods[t];i[e]=i.factory(e)}i.load=function(t,e){var a=document.createElement(\"script\");a.type=\"text/javascript\",a.async=!0,a.src=\"https://cdn.segment.com/analytics.js/v1/\"+t+\"/analytics.min.js\";var o=document.getElementsByTagName(\"script\")[0];o.parentNode.insertBefore(a,o),i._loadOptions=e},i._writeKey=\"axHhpo03SG9J6XgVKPskiICNQi5bkxy1\",i.SNIPPET_VERSION=\"4.13.2\",\"dev.pravo.tracktrack.ru\"===window.location.host?i.load(\"axHhpo03SG9J6XgVKPskiICNQi5bkxy1\"):\"tracktrack.ru\"!==window.location.host&&\"tracktrack.su\"!==window.location.host||i.load(\"uQoiDzJApIZDZ026BDaFBXEZQ6wqZAxT\")}}()</script><script src=\"https://www.google.com/recaptcha/api.js\" async defer=\"defer\"></script><style>@font-face{font-family:NeueHaasUnicaW1G;src:url(/media/NeueHaasUnicaW1G-Medium.woff2) format('woff2'),url(/media/NeueHaasUnicaW1G-Medium.woff) format('woff');font-weight:500;font-style:normal;font-display:swap}@font-face{font-family:NeueHaasUnicaW1G;src:url(/media/NeueHaasUnicaW1G-Regular.woff2) format('woff2'),url(/media/NeueHaasUnicaW1G-Regular.woff) format('woff');font-weight:400;font-style:normal;font-display:swap}@font-face{font-family:NeueHaasUnicaW1G;src:url(/media/NeueHaasUnicaW1G-Heavy.woff2) format('woff2'),url(/media/NeueHaasUnicaW1G-Heavy.woff) format('woff');font-weight:900;font-style:normal;font-display:swap}</style><link href=\"https://fonts.googleapis.com/css2?family=IBM+Plex+Sans:ital,wght@0,300;0,400;0,500;0,600;0,700;0,800;1,300;1,400;1,500;1,600;1,700;1,800&display=swap\" rel=\"stylesheet\"><link rel=\"preload\" href=\"/media/NeueHaasUnicaW1G-Regular.woff2\" as=\"font\" type=\"font/woff2\" crossorigin><link rel=\"preload\" href=\"/media/NeueHaasUnicaW1G-Medium.woff2\" as=\"font\" type=\"font/woff2\" crossorigin><link rel=\"preload\" href=\"/media/NeueHaasUnicaW1G-Heavy.woff2\" as=\"font\" type=\"font/woff2\" crossorigin><link rel=\"preload\" href=\"/media/NeueHaasUnicaW1G-Regular.woff\" as=\"font\" type=\"font/woff\" crossorigin><link rel=\"preload\" href=\"/media/NeueHaasUnicaW1G-Medium.woff\" as=\"font\" type=\"font/woff\" crossorigin><link rel=\"preload\" href=\"/media/NeueHaasUnicaW1G-Heavy.woff\" as=\"font\" type=\"font/woff\" crossorigin></head><body><div id=\"root\"></div><script type=\"text/javascript\" src=\"https://dev.pravo.tracktrack.ru/js/main.72a86616.js\"></script></body></html>\n"
     ]
    }
   ],
   "source": [
    "print(text)"
   ]
  },
  {
   "cell_type": "code",
   "execution_count": 8,
   "metadata": {},
   "outputs": [],
   "source": [
    "from bs4 import BeautifulSoup"
   ]
  },
  {
   "cell_type": "code",
   "execution_count": 9,
   "metadata": {},
   "outputs": [],
   "source": [
    "import urllib.request"
   ]
  },
  {
   "cell_type": "code",
   "execution_count": 10,
   "metadata": {},
   "outputs": [],
   "source": [
    "from IPython.display import HTML"
   ]
  },
  {
   "cell_type": "code",
   "execution_count": 11,
   "metadata": {},
   "outputs": [],
   "source": [
    "import re"
   ]
  },
  {
   "cell_type": "code",
   "execution_count": 15,
   "metadata": {},
   "outputs": [
    {
     "name": "stdout",
     "output_type": "stream",
     "text": [
      "Collecting lxml\n",
      "  Using cached lxml-4.9.2-cp311-cp311-win_amd64.whl (3.8 MB)\n",
      "Installing collected packages: lxml\n",
      "Successfully installed lxml-4.9.2\n"
     ]
    }
   ],
   "source": [
    "!pip install lxml"
   ]
  },
  {
   "cell_type": "code",
   "execution_count": 20,
   "metadata": {},
   "outputs": [
    {
     "data": {
      "text/plain": [
       "bs4.BeautifulSoup"
      ]
     },
     "execution_count": 20,
     "metadata": {},
     "output_type": "execute_result"
    }
   ],
   "source": [
    "r = urllib.request.urlopen('https://dev.pravo.tracktrack.ru/laws/Utkonos_draft_17/e2rqwfdsiuvjn#').read()\n",
    "soup = BeautifulSoup(r, 'html')\n",
    "type(soup)"
   ]
  },
  {
   "cell_type": "code",
   "execution_count": 21,
   "metadata": {},
   "outputs": [],
   "source": [
    "for link in soup.find_all('a', attrs = {'href': re.compile(\"^http\")}):\n",
    "    print(link)"
   ]
  },
  {
   "cell_type": "code",
   "execution_count": 27,
   "metadata": {},
   "outputs": [],
   "source": [
    "from text_similarity import text_similarity"
   ]
  },
  {
   "cell_type": "code",
   "execution_count": null,
   "metadata": {},
   "outputs": [],
   "source": [
    "text1 = ''"
   ]
  },
  {
   "attachments": {},
   "cell_type": "markdown",
   "metadata": {},
   "source": [
    "# new"
   ]
  },
  {
   "cell_type": "code",
   "execution_count": 28,
   "metadata": {},
   "outputs": [
    {
     "name": "stdout",
     "output_type": "stream",
     "text": [
      "Collecting sentence-transformers\n",
      "  Downloading sentence-transformers-2.2.2.tar.gz (85 kB)\n",
      "                                              0.0/86.0 kB ? eta -:--:--\n",
      "                                              0.0/86.0 kB ? eta -:--:--\n",
      "     ----                                     10.2/86.0 kB ? eta -:--:--\n",
      "     -------------                          30.7/86.0 kB 262.6 kB/s eta 0:00:01\n",
      "     ---------------------------            61.4/86.0 kB 469.7 kB/s eta 0:00:01\n",
      "     ------------------------------------   81.9/86.0 kB 508.4 kB/s eta 0:00:01\n",
      "     ------------------------------------   81.9/86.0 kB 508.4 kB/s eta 0:00:01\n",
      "     -------------------------------------- 86.0/86.0 kB 373.0 kB/s eta 0:00:00\n",
      "  Preparing metadata (setup.py): started\n",
      "  Preparing metadata (setup.py): finished with status 'done'\n",
      "Requirement already satisfied: transformers<5.0.0,>=4.6.0 in c:\\users\\mekan\\appdata\\local\\programs\\python\\python311\\lib\\site-packages (from sentence-transformers) (4.26.1)\n",
      "Requirement already satisfied: tqdm in c:\\users\\mekan\\appdata\\local\\programs\\python\\python311\\lib\\site-packages (from sentence-transformers) (4.65.0)\n",
      "Requirement already satisfied: torch>=1.6.0 in c:\\users\\mekan\\appdata\\local\\programs\\python\\python311\\lib\\site-packages (from sentence-transformers) (2.0.0)\n",
      "Requirement already satisfied: torchvision in c:\\users\\mekan\\appdata\\local\\programs\\python\\python311\\lib\\site-packages (from sentence-transformers) (0.15.1)\n",
      "Requirement already satisfied: numpy in c:\\users\\mekan\\appdata\\local\\programs\\python\\python311\\lib\\site-packages (from sentence-transformers) (1.24.2)\n",
      "Requirement already satisfied: scikit-learn in c:\\users\\mekan\\appdata\\local\\programs\\python\\python311\\lib\\site-packages (from sentence-transformers) (1.2.1)\n",
      "Requirement already satisfied: scipy in c:\\users\\mekan\\appdata\\local\\programs\\python\\python311\\lib\\site-packages (from sentence-transformers) (1.10.0)\n",
      "Requirement already satisfied: nltk in c:\\users\\mekan\\appdata\\local\\programs\\python\\python311\\lib\\site-packages (from sentence-transformers) (3.8.1)\n",
      "Collecting sentencepiece (from sentence-transformers)\n",
      "  Downloading sentencepiece-0.1.99-cp311-cp311-win_amd64.whl (977 kB)\n",
      "                                              0.0/977.5 kB ? eta -:--:--\n",
      "     ---                                     92.2/977.5 kB 2.6 MB/s eta 0:00:01\n",
      "     ----                                   122.9/977.5 kB 1.4 MB/s eta 0:00:01\n",
      "     -----------                            286.7/977.5 kB 2.5 MB/s eta 0:00:01\n",
      "     --------------                         368.6/977.5 kB 2.5 MB/s eta 0:00:01\n",
      "     ----------------------                 583.7/977.5 kB 3.1 MB/s eta 0:00:01\n",
      "     -----------------------------          757.8/977.5 kB 3.7 MB/s eta 0:00:01\n",
      "     ------------------------------------   942.1/977.5 kB 3.5 MB/s eta 0:00:01\n",
      "     -------------------------------------  972.8/977.5 kB 3.6 MB/s eta 0:00:01\n",
      "     -------------------------------------- 977.5/977.5 kB 2.8 MB/s eta 0:00:00\n",
      "Requirement already satisfied: huggingface-hub>=0.4.0 in c:\\users\\mekan\\appdata\\local\\programs\\python\\python311\\lib\\site-packages (from sentence-transformers) (0.13.1)\n",
      "Requirement already satisfied: filelock in c:\\users\\mekan\\appdata\\local\\programs\\python\\python311\\lib\\site-packages (from huggingface-hub>=0.4.0->sentence-transformers) (3.9.0)\n",
      "Requirement already satisfied: requests in c:\\users\\mekan\\appdata\\local\\programs\\python\\python311\\lib\\site-packages (from huggingface-hub>=0.4.0->sentence-transformers) (2.28.2)\n",
      "Requirement already satisfied: pyyaml>=5.1 in c:\\users\\mekan\\appdata\\local\\programs\\python\\python311\\lib\\site-packages (from huggingface-hub>=0.4.0->sentence-transformers) (6.0)\n",
      "Requirement already satisfied: typing-extensions>=3.7.4.3 in c:\\users\\mekan\\appdata\\local\\programs\\python\\python311\\lib\\site-packages (from huggingface-hub>=0.4.0->sentence-transformers) (4.5.0)\n",
      "Requirement already satisfied: packaging>=20.9 in c:\\users\\mekan\\appdata\\roaming\\python\\python311\\site-packages (from huggingface-hub>=0.4.0->sentence-transformers) (23.0)\n",
      "Requirement already satisfied: sympy in c:\\users\\mekan\\appdata\\local\\programs\\python\\python311\\lib\\site-packages (from torch>=1.6.0->sentence-transformers) (1.11.1)\n",
      "Requirement already satisfied: networkx in c:\\users\\mekan\\appdata\\local\\programs\\python\\python311\\lib\\site-packages (from torch>=1.6.0->sentence-transformers) (3.0)\n",
      "Requirement already satisfied: jinja2 in c:\\users\\mekan\\appdata\\local\\programs\\python\\python311\\lib\\site-packages (from torch>=1.6.0->sentence-transformers) (3.1.2)\n",
      "Requirement already satisfied: colorama in c:\\users\\mekan\\appdata\\roaming\\python\\python311\\site-packages (from tqdm->sentence-transformers) (0.4.6)\n",
      "Requirement already satisfied: regex!=2019.12.17 in c:\\users\\mekan\\appdata\\local\\programs\\python\\python311\\lib\\site-packages (from transformers<5.0.0,>=4.6.0->sentence-transformers) (2022.10.31)\n",
      "Requirement already satisfied: tokenizers!=0.11.3,<0.14,>=0.11.1 in c:\\users\\mekan\\appdata\\local\\programs\\python\\python311\\lib\\site-packages (from transformers<5.0.0,>=4.6.0->sentence-transformers) (0.13.2)\n",
      "Requirement already satisfied: click in c:\\users\\mekan\\appdata\\local\\programs\\python\\python311\\lib\\site-packages (from nltk->sentence-transformers) (8.1.3)\n",
      "Requirement already satisfied: joblib in c:\\users\\mekan\\appdata\\local\\programs\\python\\python311\\lib\\site-packages (from nltk->sentence-transformers) (1.2.0)\n",
      "Requirement already satisfied: threadpoolctl>=2.0.0 in c:\\users\\mekan\\appdata\\local\\programs\\python\\python311\\lib\\site-packages (from scikit-learn->sentence-transformers) (3.1.0)\n",
      "Requirement already satisfied: pillow!=8.3.*,>=5.3.0 in c:\\users\\mekan\\appdata\\local\\programs\\python\\python311\\lib\\site-packages (from torchvision->sentence-transformers) (9.4.0)\n",
      "Requirement already satisfied: MarkupSafe>=2.0 in c:\\users\\mekan\\appdata\\local\\programs\\python\\python311\\lib\\site-packages (from jinja2->torch>=1.6.0->sentence-transformers) (2.1.2)\n",
      "Requirement already satisfied: charset-normalizer<4,>=2 in c:\\users\\mekan\\appdata\\local\\programs\\python\\python311\\lib\\site-packages (from requests->huggingface-hub>=0.4.0->sentence-transformers) (3.1.0)\n",
      "Requirement already satisfied: idna<4,>=2.5 in c:\\users\\mekan\\appdata\\local\\programs\\python\\python311\\lib\\site-packages (from requests->huggingface-hub>=0.4.0->sentence-transformers) (3.4)\n",
      "Requirement already satisfied: urllib3<1.27,>=1.21.1 in c:\\users\\mekan\\appdata\\local\\programs\\python\\python311\\lib\\site-packages (from requests->huggingface-hub>=0.4.0->sentence-transformers) (1.26.14)\n",
      "Requirement already satisfied: certifi>=2017.4.17 in c:\\users\\mekan\\appdata\\local\\programs\\python\\python311\\lib\\site-packages (from requests->huggingface-hub>=0.4.0->sentence-transformers) (2022.12.7)\n",
      "Requirement already satisfied: mpmath>=0.19 in c:\\users\\mekan\\appdata\\local\\programs\\python\\python311\\lib\\site-packages (from sympy->torch>=1.6.0->sentence-transformers) (1.3.0)\n",
      "Building wheels for collected packages: sentence-transformers\n",
      "  Building wheel for sentence-transformers (setup.py): started\n",
      "  Building wheel for sentence-transformers (setup.py): finished with status 'done'\n",
      "  Created wheel for sentence-transformers: filename=sentence_transformers-2.2.2-py3-none-any.whl size=125960 sha256=2a66b83e8e0cfd7747907d5399ad85bfbe065de8a026ab87dd5df48f94da9abc\n",
      "  Stored in directory: c:\\users\\mekan\\appdata\\local\\pip\\cache\\wheels\\ff\\27\\bf\\ffba8b318b02d7f691a57084ee154e26ed24d012b0c7805881\n",
      "Successfully built sentence-transformers\n",
      "Installing collected packages: sentencepiece, sentence-transformers\n",
      "Successfully installed sentence-transformers-2.2.2 sentencepiece-0.1.99\n"
     ]
    }
   ],
   "source": [
    "!pip install -U sentence-transformers"
   ]
  },
  {
   "cell_type": "code",
   "execution_count": 30,
   "metadata": {},
   "outputs": [
    {
     "data": {
      "text/plain": [
       "tensor([[0.8299]])"
      ]
     },
     "execution_count": 30,
     "metadata": {},
     "output_type": "execute_result"
    }
   ],
   "source": [
    "from sentence_transformers import SentenceTransformer, util\n",
    "rus_text1 = 'Определены и регламентированы такие стадии договорной работы, как назначение ответственного исполнителя, подготовка к заключению договора, предварительное согласование проекта договора для целей закупки и др. Отдельно определен стандарт на содержание договора, определяющий его язык, обязательные условия, а также его особенности в зависимости от вида сделки. Документом также закреплен перечень сделок, запрещенных к заключению. '\n",
    "rus_text2 = 'Помимо этого документом также установлены единые требования к содержанию извещения о закупке, документации о закупке всеми конкурентными способами, срокам их размещения, представления, разъяснения их положений, внесения в них изменений, а также единые требования к составу и содержанию заявок на участие в закупках. Также предусмотрены новые случаи применения закрытых конкурентных способов закупочной деятельности в сферах обороны и космоса, а срок действия решений об их согласовании увеличен с 90 до 180 дней. Кроме того, к закупкам от 20 млн руб. будут допускать только тех, кто ранее исполнил любой госконтракт на сумму от 20% начальной максимальной цены контракта (НМЦК).'\n",
    "\n",
    "sentences = [rus_text1, rus_text2]\n",
    "\n",
    "model = SentenceTransformer('sentence-transformers/all-MiniLM-L6-v2')\n",
    "\n",
    "#Compute embedding for both lists\n",
    "embedding_1= model.encode(sentences[0], convert_to_tensor=True)\n",
    "embedding_2 = model.encode(sentences[1], convert_to_tensor=True)\n",
    "\n",
    "util.pytorch_cos_sim(embedding_1, embedding_2)\n",
    "## tensor([[0.6003]])"
   ]
  },
  {
   "cell_type": "code",
   "execution_count": 41,
   "metadata": {},
   "outputs": [
    {
     "data": {
      "text/plain": [
       "0.8299134969711304"
      ]
     },
     "execution_count": 41,
     "metadata": {},
     "output_type": "execute_result"
    }
   ],
   "source": [
    "util.pytorch_cos_sim(embedding_1, embedding_2)[0][0].item()"
   ]
  },
  {
   "cell_type": "code",
   "execution_count": 56,
   "metadata": {},
   "outputs": [
    {
     "name": "stderr",
     "output_type": "stream",
     "text": [
      "Downloading (…)d3f9f/.gitattributes: 100%|██████████| 391/391 [00:00<00:00, 7.51kB/s]\n",
      "Downloading (…)da686d3f9f/README.md: 1.93kB [00:00, 277kB/s]\n",
      "Downloading (…)686d3f9f/config.json: 100%|██████████| 655/655 [00:00<00:00, 326kB/s]\n",
      "Downloading pytorch_model.bin: 100%|██████████| 1.71G/1.71G [04:14<00:00, 6.70MB/s]\n",
      "Downloading (…)cial_tokens_map.json: 100%|██████████| 112/112 [00:00<00:00, 14.0kB/s]\n",
      "Downloading (…)okenizer_config.json: 100%|██████████| 323/323 [00:00<00:00, 53.8kB/s]\n",
      "Downloading (…)da686d3f9f/vocab.txt: 1.78MB [00:00, 5.92MB/s]\n",
      "No sentence-transformers model found with name C:\\Users\\Mekan/.cache\\torch\\sentence_transformers\\ai-forever_sbert_large_nlu_ru. Creating a new one with MEAN pooling.\n"
     ]
    }
   ],
   "source": [
    "model = SentenceTransformer('ai-forever/sbert_large_nlu_ru')"
   ]
  },
  {
   "cell_type": "code",
   "execution_count": 88,
   "metadata": {},
   "outputs": [
    {
     "data": {
      "text/plain": [
       "SentenceTransformer(\n",
       "  (0): Transformer({'max_seq_length': 512, 'do_lower_case': False}) with Transformer model: BertModel \n",
       "  (1): Pooling({'word_embedding_dimension': 1024, 'pooling_mode_cls_token': False, 'pooling_mode_mean_tokens': True, 'pooling_mode_max_tokens': False, 'pooling_mode_mean_sqrt_len_tokens': False})\n",
       ")"
      ]
     },
     "execution_count": 88,
     "metadata": {},
     "output_type": "execute_result"
    }
   ],
   "source": [
    "model"
   ]
  },
  {
   "cell_type": "code",
   "execution_count": 89,
   "metadata": {},
   "outputs": [],
   "source": [
    "def sentence_similarity(text1, text2):\n",
    "    sentences = [text1, text2]\n",
    "    \n",
    "    embedding_1= model.encode(sentences[0], convert_to_tensor=True)\n",
    "    embedding_2 = model.encode(sentences[1], convert_to_tensor=True)\n",
    "\n",
    "    return util.pytorch_cos_sim(embedding_1, embedding_2)[0][0].item()"
   ]
  },
  {
   "cell_type": "code",
   "execution_count": 90,
   "metadata": {},
   "outputs": [],
   "source": [
    "rus_text3 = 'Кроме того, документом упрощены правила проведения повторной экспертизы проектной документации. Также закрепляется, что для завершения строительства проблемных объектов регионы смогут создавать специальные фонды, которые будут финансироваться через Фонд защиты прав дольщиков. Помимо этого, по договорам, предусматривающим передачу машиномест и нежилых помещений, возмещение будет выплачиваться в размере цены соответствующего договора независимо от уплаты застройщиком обязательных отчислений (взносов) в компенсационный фонд.'"
   ]
  },
  {
   "cell_type": "code",
   "execution_count": 91,
   "metadata": {},
   "outputs": [],
   "source": [
    "# list1\n",
    "act0 = 'Разработано Положение для урегулирования порядка подготовки договоров, согласования их условий, заключения, регистрации, учета, хранения и контроля за исполнением договоров в АК «АЛРОСА» (ПАО), в том числе в её структурных и обособленных подразделениях, а также в подконтрольных юридических лицах. Определены и регламентированы такие стадии договорной работы, как назначение ответственного исполнителя, подготовка к заключению договора, предварительное согласование проекта договора для целей закупки и др. Отдельно определен стандарт на содержание договора, определяющий его язык, обязательные условия, а также его особенности в зависимости от вида сделки. Документом также закреплен перечень сделок, запрещенных к заключению.'\n",
    "\n",
    "act1 = 'Внесены значительные изменения в законодательство о госзакупках. В частности, сокращено количество конкурентных способов определения поставщика. Также закреплено, что централизованные закупки теперь также возможны для бюджетных учреждений и унитарных предприятий. Помимо этого документом также установлены единые требования к содержанию извещения о закупке, документации о закупке всеми конкурентными способами, срокам их размещения, представления, разъяснения их положений, внесения в них изменений, а также единые требования к составу и содержанию заявок на участие в закупках. Также предусмотрены новые случаи применения закрытых конкурентных способов закупочной деятельности в сферах обороны и космоса, а срок действия решений об их согласовании увеличен с 90 до 180 дней. Кроме того, к закупкам от 20 млн руб. будут допускать только тех, кто ранее исполнил любой госконтракт на сумму от 20% начальной максимальной цены контракта (НМЦК).'\n",
    "act2 = 'Скорректированы положения законодательства о долевом строительстве. В частности, предусматривается создание федерального реестра проблемных объектов. Кроме того, документом упрощены правила проведения повторной экспертизы проектной документации. Также закрепляется, что для завершения строительства проблемных объектов регионы смогут создавать специальные фонды, которые будут финансироваться через Фонд защиты прав дольщиков. Помимо этого, по договорам, предусматривающим передачу машиномест и нежилых помещений, возмещение будет выплачиваться в размере цены соответствующего договора независимо от уплаты застройщиком обязательных отчислений (взносов) в компенсационный фонд.'\n",
    "act3 = 'Принят ФЗ \"О защите конкуренции\", который определяет организационные и правовые основы предупреждения и пресечения монополистической деятельности и недобросовестной конкуренции. Законом определяются не только функции и полномочия антимонопольного органа, ФАС России, но и устанавливается ответственность за нарушение антимонопольного законодательства, а также последующий процесс рассмотрения дел о его нарушении. Также в ФЗ предусматриваются различные формы недобросовестной конкуренции, например, дискриминация, введение в заблуждение или некорректное сравнение.'\n",
    "act4 = 'Предлагается дополнить НК РФ понятием «счет цифрового рубля», которое позволяет определить основание возникновения правоотношений, связанных с возможностью осуществления операций с цифровыми рублями.'\n",
    "act5 = 'Установлен перечень видов продукции (товаров), работ, услуг, производство, выполнение которых осуществляется с использованием определенной доли вторичного сырья в их составе и в отношении которых осуществляется стимулирование деятельности по их производству, выполнению. В него, в частности, включены: сталь, производимая с использованием вторичных черных металлов, чугун, производимый с использованием вторичных черных металлов, ферросплавы, производимые с использованием вторичных черных металлов'\n",
    "act6 = 'Предлагается внести изменение в статью 422 НК РФ в части установления нормы, согласно которой для плательщиков, относящихся к субъектам малого и среднего предпринимательства, предусматривается освобождение от обложения страховыми взносами сумм начисленных районных коэффициентов и процентных надбавок к заработной плате лиц, работающих в организациях, расположенных в районах Крайнего Севера и приравненных к ним местностях, а также сумм, выплачиваемых работнику в связи с предоставлением дополнительных оплачиваемых отпусков, предусмотренных на общих основаниях, лицам, работающим в районах Крайнего Севера и приравненных к ним местностях'\n",
    "act7 = 'В связи с вышеизложенным представленный проект федерального закона предусматривает дополнение статьи 168 ТК РФ положением, в соответствии с которым размер возмещения суточных, связанных со служебными командировками, должен  быть не ниже 1/30 величины минимального размера оплаты труда, установленного в соответствующих субъектах РФ, за  каждый день нахождения в служебной командировке'\n",
    "act8 = 'Согласно предложенному законопроекту каждому пенсионеру, которому назначена страховая пенсия по старости, раз в год в декабре месяце будет выплачиваться дополнительная страховая пенсия по старости (так называемая «тринадцатая пенсия»)'\n",
    "act9 = 'Законопроектом в целях улучшения пенсионного обеспечения родителей предлагается внести изменения в статью 15 Федерального закона «О страховых пенсиях», согласно которым коэффициенты за полный календарный год засчитываемого в страховой стаж периода ухода за ребенком увеличиваются в два раза, то есть 3,6 - в отношении периода ухода за первым ребенком, 7,2 - за вторым, 10,8 - за третьим или четвертым ребенком'\n",
    "act10 = 'Роспотребнадзор предложил закрепить рекомендации по профилактике гриппа, острых респираторных вирусных инфекций и новой коронавирусной инфекции в эпидемическом сезоне 2023-2024 годов для руководителей организаций и государственных органов. В частности, рекомендуется принять меры по недопущению переохлаждения лиц, работающих ‎на открытом воздухе в зимний период, обеспечив наличие помещений для обогрева и приема пищи.'"
   ]
  },
  {
   "cell_type": "code",
   "execution_count": 92,
   "metadata": {},
   "outputs": [
    {
     "name": "stdout",
     "output_type": "stream",
     "text": [
      "0.836\n",
      "0.809\n",
      "0.817\n",
      "0.792\n",
      "0.852\n",
      "0.754\n",
      "0.753\n",
      "0.693\n",
      "0.681\n",
      "0.602\n"
     ]
    }
   ],
   "source": [
    "print(round(sentence_similarity(act0, act1), 3))\n",
    "print(round(sentence_similarity(act0, act2), 3))\n",
    "print(round(sentence_similarity(act0, act3), 3))\n",
    "print(round(sentence_similarity(act0, act4), 3))\n",
    "print(round(sentence_similarity(act0, act5), 3))\n",
    "print(round(sentence_similarity(act0, act6), 3))\n",
    "print(round(sentence_similarity(act0, act7), 3))\n",
    "print(round(sentence_similarity(act0, act8), 3))\n",
    "print(round(sentence_similarity(act0, act9), 3))\n",
    "print(round(sentence_similarity(act0, act10), 3))"
   ]
  },
  {
   "cell_type": "code",
   "execution_count": 93,
   "metadata": {},
   "outputs": [],
   "source": [
    "# list2\n",
    "act0 = 'Утверждена форма согласия физического лица на размещение его биометрических ПД в региональном сегменте Единой биометрической системы (ЕБС). Также установлены правила получения такого согласия.'\n",
    "\n",
    "act1 = 'Принят ФЗ о Единой биометрической системе (ЕБС), с помощью которой будут собирать и обрабатывать биометрию.'\n",
    "act2 = 'Устанавливается порядок направления организацией, осуществляющей аутентификацию на основе биометрии физлиц, мотивированного запроса оператору Единой биометрической системы (ЕБС) о результатах проверки биометрии.'\n",
    "act3 = 'Скорректированы требования к проверке простых электронных подписей, которыми подписаны согласия на обработку персональных данных, при их хранении.'\n",
    "act4 = 'Предлагается дополнить НК РФ понятием «счет цифрового рубля», которое позволяет определить основание возникновения правоотношений, связанных с возможностью осуществления операций с цифровыми рублями.'\n",
    "act5 = 'Установлен перечень видов продукции (товаров), работ, услуг, производство, выполнение которых осуществляется с использованием определенной доли вторичного сырья в их составе и в отношении которых осуществляется стимулирование деятельности по их производству, выполнению. В него, в частности, включены: сталь, производимая с использованием вторичных черных металлов, чугун, производимый с использованием вторичных черных металлов, ферросплавы, производимые с использованием вторичных черных металлов'\n",
    "act6 = 'Предлагается внести изменение в статью 422 НК РФ в части установления нормы, согласно которой для плательщиков, относящихся к субъектам малого и среднего предпринимательства, предусматривается освобождение от обложения страховыми взносами сумм начисленных районных коэффициентов и процентных надбавок к заработной плате лиц, работающих в организациях, расположенных в районах Крайнего Севера и приравненных к ним местностях, а также сумм, выплачиваемых работнику в связи с предоставлением дополнительных оплачиваемых отпусков, предусмотренных на общих основаниях, лицам, работающим в районах Крайнего Севера и приравненных к ним местностях'\n",
    "act7 = 'В связи с вышеизложенным представленный проект федерального закона предусматривает дополнение статьи 168 ТК РФ положением, в соответствии с которым размер возмещения суточных, связанных со служебными командировками, должен  быть не ниже 1/30 величины минимального размера оплаты труда, установленного в соответствующих субъектах РФ, за  каждый день нахождения в служебной командировке'\n",
    "act8 = 'Согласно предложенному законопроекту каждому пенсионеру, которому назначена страховая пенсия по старости, раз в год в декабре месяце будет выплачиваться дополнительная страховая пенсия по старости (так называемая «тринадцатая пенсия»)'\n",
    "act9 = 'Законопроектом в целях улучшения пенсионного обеспечения родителей предлагается внести изменения в статью 15 Федерального закона «О страховых пенсиях», согласно которым коэффициенты за полный календарный год засчитываемого в страховой стаж периода ухода за ребенком увеличиваются в два раза, то есть 3,6 - в отношении периода ухода за первым ребенком, 7,2 - за вторым, 10,8 - за третьим или четвертым ребенком'\n",
    "act10 = 'Роспотребнадзор предложил закрепить рекомендации по профилактике гриппа, острых респираторных вирусных инфекций и новой коронавирусной инфекции в эпидемическом сезоне 2023-2024 годов для руководителей организаций и государственных органов. В частности, рекомендуется принять меры по недопущению переохлаждения лиц, работающих ‎на открытом воздухе в зимний период, обеспечив наличие помещений для обогрева и приема пищи.'"
   ]
  },
  {
   "cell_type": "code",
   "execution_count": 94,
   "metadata": {},
   "outputs": [
    {
     "name": "stdout",
     "output_type": "stream",
     "text": [
      "0.843\n",
      "0.939\n",
      "0.895\n",
      "0.791\n",
      "0.754\n",
      "0.703\n",
      "0.746\n",
      "0.678\n",
      "0.668\n",
      "0.637\n"
     ]
    }
   ],
   "source": [
    "# past\n",
    "print(round(sentence_similarity(act0, act1), 3))\n",
    "print(round(sentence_similarity(act0, act2), 3))\n",
    "print(round(sentence_similarity(act0, act3), 3))\n",
    "print(round(sentence_similarity(act0, act4), 3))\n",
    "print(round(sentence_similarity(act0, act5), 3))\n",
    "print(round(sentence_similarity(act0, act6), 3))\n",
    "print(round(sentence_similarity(act0, act7), 3))\n",
    "print(round(sentence_similarity(act0, act8), 3))\n",
    "print(round(sentence_similarity(act0, act9), 3))\n",
    "print(round(sentence_similarity(act0, act10), 3))"
   ]
  },
  {
   "attachments": {},
   "cell_type": "markdown",
   "metadata": {},
   "source": [
    "# LNA s annotasiyami"
   ]
  },
  {
   "cell_type": "code",
   "execution_count": 95,
   "metadata": {},
   "outputs": [],
   "source": [
    "pol_k = 'Утверждено Положение о стажировке и аттестации водителей автомобилей и машинистов – трактористов колесных самоходных машин в АК «АЛРОСА» (ПАО).'\n",
    "pol_r = 'Документом устанавливаются общие положения, круг участников, обязанности, ответственность, требования к стажировке и аттестации соответствующих категорий сотрудников. Также утверждаются стадии стажировки водителей, ее объем и содержание. Помимо этого, документом предусматривается создание Комисии по аттестации навыков и знаний водителя, регламентируется порядок принятия ею решения об успешном или неуспешном прохождении стажировки.'\n",
    "pol = pol_k + \" \" + pol_r\n",
    "\n",
    "pol1_k = 'Утвержден Порядок прохождения профессионального отбора и профессионального обучения работниками, принимаемыми на работу, непосредственно связанную с движением транспортных средств автомобильного транспорта и городского наземного электрического транспорта.'\n",
    "pol1_r = 'Порядок распространяется на ЮЛ и ИП, осуществляющих на территории РФ деятельность, связанную с эксплуатацией транспортных средств. Приказом закрепляется перечень документов, в соответствии с которыми устанавливается наличие у кандидата на должность тех или иных необходимых навыков: трудовая книжка, водительское удостоверение и др. Также определен процесс последующего проведения собеседования с кандидатом.'\n",
    "pol1 = pol1_k + \" \" + pol1_r\n",
    "\n",
    "pol2_k = 'Утвержден профессиональный стандарт \"Водитель внедорожных автомототранспортных средств\".'\n",
    "pol2_r = 'В профессиональном стандарте закреплено описание трудовых функций водителя внедорожных автомототранспортных средств, а также их обобщенная характеристика. Основная цель данного вида профессиональной деятельности — безопасная перевозка грузов и людей внедорожным мототранспортным и автотранспортным средством при различных дорожных и метеорологических условиях.'\n",
    "pol2 = pol2_k + \" \" + pol2_r\n",
    "\n",
    "pol3_k = 'С 1 марта 2023 года уточняются примерные программы профессионального обучения водителей транспортных средств соответствующих категорий и подкатегорий.'\n",
    "pol3_r = 'Вводятся примерные программы переподготовки водителей транспортных средств с категорий \"B\", \"C\", \"D\" на категорию \"Tm\", с категории \"B\" на категорию \"A\", с категории \"B\" на подкатегорию \"A1\" и с подкатегории \"В1\" на категорию \"B\". К приказу прилагаются примерные учебные планы программ, а также примерные рабочие программы учебных предметов.'\n",
    "pol3 = pol3_k + \" \" + pol3_r"
   ]
  },
  {
   "cell_type": "code",
   "execution_count": 96,
   "metadata": {},
   "outputs": [
    {
     "name": "stdout",
     "output_type": "stream",
     "text": [
      "0.883\n",
      "0.805\n",
      "0.787\n"
     ]
    }
   ],
   "source": [
    "print(round(sentence_similarity(pol, pol1), 3))\n",
    "print(round(sentence_similarity(pol, pol2), 3))\n",
    "print(round(sentence_similarity(pol, pol3), 3))"
   ]
  },
  {
   "attachments": {},
   "cell_type": "markdown",
   "metadata": {},
   "source": [
    "# Lenta"
   ]
  },
  {
   "cell_type": "code",
   "execution_count": 97,
   "metadata": {},
   "outputs": [],
   "source": [
    "lenta0k = 'Проектом предлагается создать доступный для потребителей внесудебный механизм урегулирования потребительских споров с использованием онлайн-платформ.'\n",
    "lenta0r = 'До настоящего времени в России отсутствовало правовое регулирование отношений по реализации процедур онлайн-урегулирования споров (ОУС). Согласно законопроекту, сторонами таких споров смогут выступать потребители и адресаты требований, а также нейтральные лица — специалисты, эксперты, медиаторы. При этом услуги для потребителей будут бесплатными. Помимо этого, в процессе урегулирования спора с использованием платформы будет возможно изменение требований потребителя по согласованию с ним. Также с помощью сервиса ОУС граждане смогут отслеживать все стадии рассмотрения обращения.'\n",
    "lenta0 = lenta0k + ' ' + lenta0r\n",
    "\n",
    "lenta1k = 'Законопроект, посвященный созданию внесудебного механизма урегулирования потребительских споров с использованием онлайн-платформ, был внесен в Государственную Думу РФ.'\n",
    "lenta1r = 'Законопроектом впервые урегулированы отношения по реализации процедур онлайн-урегулирования споров (ОУС). Предлагается создать доступный для потребителей внесудебный механизм урегулирования потребительских споров с использованием онлайн-платформ. Постановлением статс-секретарь - заместитель Министра юстиции РФ Логинов А.В. назначен официальным представителем Правительства РФ при рассмотрении палатами Федерального Собрания РФ проекта ФЗ.'\n",
    "lenta1 = lenta1k + ' ' + lenta1r\n",
    "\n",
    "lenta2k = 'Предлагается создать доступный для потребителей внесудебный механизм урегулирования потребительских споров с использованием онлайн-платформ. Определяются правила проведения процедур урегулирования споров, а также обязанности оператора платформы, на которой предполагается реализация данного механизма.'\n",
    "lenta2r = 'До настоящего времени в России отсутствовало правовое регулирование отношений по реализации процедур онлайн-урегулирования споров (ОУС). Необходимость создания системы механизмов ОУС вызвана главным образом возрастающим числом жалоб потребителей, связанных с онлайн-покупками и оказанием онлайн-услуг, необходимостью сократить издержки потребителей ‎и государства на ведение судебной защиты нарушенных прав потребителей,  а также издержки бизнеса на администрирование обработки и хранения претензий потребителей в бумажной форме. Предполагается, что услуги для потребителей в рамках механизмов ОУС будут бесплатными. Операторам платформ ОУС предлагается самостоятельно определять способы ОУС и устанавливать требования к их процедурам. Помимо этого, проектом установлены предельные сроки, в рамках которых потребителями могут быть заявлены соответствующие требования через платформы.'\n",
    "lenta2 = lenta2k + ' ' + lenta2r\n",
    "\n",
    "lenta3k = 'Предлагается закрепить перечень требований к медиаторам, которым они должны соответствовать для осуществления медиативной деятельности на профессиональной основе. Также предусматривается положение о том, что процедура медиации может быть установлена в качестве досудебного порядка урегулирования споров. В свою очередь, сроки проведения процедуры медиации будут исключаться из общих сроков рассмотрения дел в судах общей юрисдикции.'\n",
    "lenta3r = 'Также законопроектом предлагается закрепить обязательность осуществления медиативной деятельность в России только на профессиональной основе — до настоящего времени осуществлять медиацию также могут медиаторы на непрофессиональной основе. Помимо этого, в качестве дополнительной опции, направленной на повышение качества медиативных услуг, предлагается ввести новое положение о том, что организации, осуществляющие деятельность по обеспечению проведения процедуры медиации, могут проходить подтверждение соответствия в форме добровольной сертификации. Кроме того, предлагается дополнить Закон о медиации нормой, согласно которой в случае, если дело ранее было передано на рассмотрение третейского или государственного суда, и после этого сторонами принято решение о применении медиации, медиатором может выступать только медиатор-член СРО или медиатор, привлекаемый организацией, осуществляющей деятельность по обеспечению проведения процедуры медиации, являющейся членом СРО.'\n",
    "lenta3 = lenta3k + ' ' + lenta3r\n",
    "\n",
    "lenta4k = 'Расширяются основания привлечения к ответственности операторов услуг платежной инфраструктуры. Также устанавливаются конкретные обязанности операторов платежных систем и платежной инфраструктуры в случае приостановления или прекращения обслуживания карт клиента по инициативе платежной системы.'\n",
    "lenta4r = 'В частности, оператор обязуется: 1) информировать клиента об условиях использования электронного средства платежа, в частности о любых ограничениях способов и мест использования, случаях повышенного риска; 2) предоставлять клиенту документы и информацию, которые связаны с использованием клиентом его электронного средства платежа. Помимо этого, законопроектом предлагается установить требование о включении в правила платежных систем перечня оснований и порядка приостановления или прекращения использования клиентом электронного средства платежа по инициативе оператора платежной системы или оператора услуг платежной инфраструктуры.'\n",
    "lenta4 = lenta4k + ' ' + lenta4r\n",
    "\n",
    "lenta5k = 'Предусматриваются дополнительные механизмы для защиты прав потребителей, приобретающих товары (услуги) в интернете. Закон «О защите прав потребителей» дополняется термином «агрегатор товаров (услуг) в сети «Интернет» в качестве самостоятельного субъекта ответственности перед потребителями. Под агрегатором понимается информационный посредник, вступающий с потребителями в возмездные отношения, но не заключающий сделки купли-продажи товаров или оказания услуг.'\n",
    "lenta5r = 'Указанные изменения вызваны злоупотреблениями, обусловленными отсутствием четкой правовой регламентации деятельности хозяйствующих субъектов, не идентифицируемых как «классические» продавцы (исполнители), которые фактически оказываются вне юрисдикции законодательства о защите прав потребителей и не несут бремя соблюдения прав потребителей на информацию о продавце (изготовителе, исполнителе), реализуемых товарах, предлагаемых услугах и др. Проектом предлагается приравнять статус агрегаторов товаров (услуг) в сети «Интернет» к статусу продавцов (исполнителей) соответственно, в зависимости от рода информации на представляемую агрегатором продукцию (товары, услуги).'\n",
    "lenta5 = lenta5k + ' ' + lenta5r"
   ]
  },
  {
   "cell_type": "code",
   "execution_count": 98,
   "metadata": {},
   "outputs": [
    {
     "name": "stdout",
     "output_type": "stream",
     "text": [
      "0.856\n",
      "0.928\n",
      "0.864\n",
      "0.806\n",
      "0.852\n"
     ]
    }
   ],
   "source": [
    "print(round(sentence_similarity(lenta0, lenta1), 3))\n",
    "print(round(sentence_similarity(lenta0, lenta2), 3))\n",
    "print(round(sentence_similarity(lenta0, lenta3), 3))\n",
    "print(round(sentence_similarity(lenta0, lenta4), 3))\n",
    "print(round(sentence_similarity(lenta0, lenta5), 3))"
   ]
  },
  {
   "cell_type": "code",
   "execution_count": 99,
   "metadata": {},
   "outputs": [],
   "source": [
    "import numpy as np\n",
    "a = np.ones(10)\n",
    "b = np.zeros(20)"
   ]
  },
  {
   "cell_type": "code",
   "execution_count": 100,
   "metadata": {},
   "outputs": [
    {
     "data": {
      "text/plain": [
       "array([1., 1., 1., 1., 1., 1., 1., 1., 1., 1., 0., 0., 0., 0., 0., 0., 0.,\n",
       "       0., 0., 0., 0., 0., 0., 0., 0., 0., 0., 0., 0., 0.])"
      ]
     },
     "execution_count": 100,
     "metadata": {},
     "output_type": "execute_result"
    }
   ],
   "source": [
    "np.concatenate((a, b), axis=0)"
   ]
  },
  {
   "cell_type": "code",
   "execution_count": 101,
   "metadata": {},
   "outputs": [],
   "source": [
    "import PyPDF2"
   ]
  },
  {
   "cell_type": "code",
   "execution_count": 103,
   "metadata": {},
   "outputs": [
    {
     "data": {
      "text/plain": [
       "'3.0.1'"
      ]
     },
     "execution_count": 103,
     "metadata": {},
     "output_type": "execute_result"
    }
   ],
   "source": [
    "PyPDF2.__version__"
   ]
  },
  {
   "attachments": {},
   "cell_type": "markdown",
   "metadata": {},
   "source": [
    "# 27.06.2023"
   ]
  },
  {
   "cell_type": "code",
   "execution_count": 110,
   "metadata": {},
   "outputs": [],
   "source": [
    "from requests.auth import HTTPBasicAuth\n",
    "import base64\n",
    "import sys\n",
    "import requests\n",
    "\n",
    "user = 'mekan'\n",
    "password = \"LKh3296gh-ej\"\n",
    "ip = sys.argv[1]"
   ]
  },
  {
   "cell_type": "code",
   "execution_count": 6,
   "metadata": {},
   "outputs": [],
   "source": [
    "import openpyxl"
   ]
  },
  {
   "cell_type": "code",
   "execution_count": 186,
   "metadata": {},
   "outputs": [],
   "source": [
    "import PyPDF2\n",
    "# import openpyxl\n",
    "\n",
    "wb = openpyxl.load_workbook(r'C:\\Users\\Mekan\\Downloads\\Track Track\\27.06.2023\\Акты для тестирования вариантов формул векторного анализа.xlsx')\n",
    "ws = wb['Документ 4']\n",
    "# This will fail if there is no hyperlink to target\n",
    "url = ws.cell(row=2, column=2).hyperlink.target"
   ]
  },
  {
   "cell_type": "code",
   "execution_count": 189,
   "metadata": {},
   "outputs": [
    {
     "data": {
      "text/plain": [
       "'duma_1138398-7/'"
      ]
     },
     "execution_count": 189,
     "metadata": {},
     "output_type": "execute_result"
    }
   ],
   "source": [
    "url[37:52]"
   ]
  },
  {
   "cell_type": "code",
   "execution_count": 190,
   "metadata": {},
   "outputs": [
    {
     "name": "stdout",
     "output_type": "stream",
     "text": [
      "https://dev.elasticsearch-gw.tracktrack.su/documents/_doc/duma_1138398-7/\n"
     ]
    }
   ],
   "source": [
    "elastic = 'https://dev.elasticsearch-gw.tracktrack.su/documents/_doc/' + url[37:52]\n",
    "ip = sys.argv[1]\n",
    "request=requests.get(elastic, auth=HTTPBasicAuth(user, password))\n",
    "text = request.text\n",
    "print(elastic)"
   ]
  },
  {
   "cell_type": "code",
   "execution_count": 140,
   "metadata": {},
   "outputs": [
    {
     "data": {
      "text/plain": [
       "49003"
      ]
     },
     "execution_count": 140,
     "metadata": {},
     "output_type": "execute_result"
    }
   ],
   "source": [
    "len(text)"
   ]
  },
  {
   "cell_type": "code",
   "execution_count": 141,
   "metadata": {},
   "outputs": [
    {
     "name": "stdout",
     "output_type": "stream",
     "text": [
      "Similarity with  2 th document is: 0.9119\n",
      "Similarity with  3 th document is: 0.9205\n",
      "Similarity with  4 th document is: 0.9135\n"
     ]
    }
   ],
   "source": [
    "for i in range(2, 31):\n",
    "    wb = openpyxl.load_workbook(r'C:\\Users\\Mekan\\Downloads\\Track Track\\27.06.2023\\Акты для тестирования вариантов формул векторного анализа.xlsx')\n",
    "    ws = wb['Документ 3']\n",
    "# This will fail if there is no hyperlink to target\n",
    "    url = ws.cell(row=i, column=4).hyperlink.target\n",
    "    if len(url) == 79:\n",
    "        link = 'https://dev.elasticsearch-gw.tracktrack.su/documents/_doc/' + url[37:66]\n",
    "        ip = sys.argv[1]\n",
    "        res=requests.get(link, auth=HTTPBasicAuth(user, password))\n",
    "        print(\"Similarity with \", i, \"th document is:\", round(sentence_similarity(text, res.text), 4))\n",
    "        # print(url[37:66])"
   ]
  },
  {
   "cell_type": "code",
   "execution_count": 191,
   "metadata": {},
   "outputs": [
    {
     "name": "stderr",
     "output_type": "stream",
     "text": [
      "  0%|          | 0/29 [00:16<?, ?it/s]\n"
     ]
    },
    {
     "ename": "KeyboardInterrupt",
     "evalue": "",
     "output_type": "error",
     "traceback": [
      "\u001b[1;31m---------------------------------------------------------------------------\u001b[0m",
      "\u001b[1;31mKeyboardInterrupt\u001b[0m                         Traceback (most recent call last)",
      "Cell \u001b[1;32mIn[191], line 18\u001b[0m\n\u001b[0;32m     16\u001b[0m     ip \u001b[39m=\u001b[39m sys\u001b[39m.\u001b[39margv[\u001b[39m1\u001b[39m]\n\u001b[0;32m     17\u001b[0m     res\u001b[39m=\u001b[39mrequests\u001b[39m.\u001b[39mget(link, auth\u001b[39m=\u001b[39mHTTPBasicAuth(user, password))\n\u001b[1;32m---> 18\u001b[0m     \u001b[39mprint\u001b[39m(\u001b[39m\"\u001b[39m\u001b[39mSimilarity with\u001b[39m\u001b[39m\"\u001b[39m, i\u001b[39m-\u001b[39m\u001b[39m1\u001b[39m, \u001b[39m\"\u001b[39m\u001b[39mth document is:\u001b[39m\u001b[39m\"\u001b[39m, \u001b[39mround\u001b[39m(sentence_similarity(text, res\u001b[39m.\u001b[39;49mtext), \u001b[39m4\u001b[39m))\n\u001b[0;32m     20\u001b[0m \u001b[39mif\u001b[39;00m \u001b[39mlen\u001b[39m(url) \u001b[39m==\u001b[39m \u001b[39m51\u001b[39m:\n\u001b[0;32m     21\u001b[0m     link \u001b[39m=\u001b[39m \u001b[39m'\u001b[39m\u001b[39mhttps://dev.elasticsearch-gw.tracktrack.su/documents/_doc/\u001b[39m\u001b[39m'\u001b[39m \u001b[39m+\u001b[39m url[\u001b[39m27\u001b[39m:\u001b[39m41\u001b[39m]\n",
      "Cell \u001b[1;32mIn[89], line 4\u001b[0m, in \u001b[0;36msentence_similarity\u001b[1;34m(text1, text2)\u001b[0m\n\u001b[0;32m      1\u001b[0m \u001b[39mdef\u001b[39;00m \u001b[39msentence_similarity\u001b[39m(text1, text2):\n\u001b[0;32m      2\u001b[0m     sentences \u001b[39m=\u001b[39m [text1, text2]\n\u001b[1;32m----> 4\u001b[0m     embedding_1\u001b[39m=\u001b[39m model\u001b[39m.\u001b[39;49mencode(sentences[\u001b[39m0\u001b[39;49m], convert_to_tensor\u001b[39m=\u001b[39;49m\u001b[39mTrue\u001b[39;49;00m)\n\u001b[0;32m      5\u001b[0m     embedding_2 \u001b[39m=\u001b[39m model\u001b[39m.\u001b[39mencode(sentences[\u001b[39m1\u001b[39m], convert_to_tensor\u001b[39m=\u001b[39m\u001b[39mTrue\u001b[39;00m)\n\u001b[0;32m      7\u001b[0m     \u001b[39mreturn\u001b[39;00m util\u001b[39m.\u001b[39mpytorch_cos_sim(embedding_1, embedding_2)[\u001b[39m0\u001b[39m][\u001b[39m0\u001b[39m]\u001b[39m.\u001b[39mitem()\n",
      "File \u001b[1;32mc:\\Users\\Mekan\\AppData\\Local\\Programs\\Python\\Python311\\Lib\\site-packages\\sentence_transformers\\SentenceTransformer.py:165\u001b[0m, in \u001b[0;36mSentenceTransformer.encode\u001b[1;34m(self, sentences, batch_size, show_progress_bar, output_value, convert_to_numpy, convert_to_tensor, device, normalize_embeddings)\u001b[0m\n\u001b[0;32m    162\u001b[0m features \u001b[39m=\u001b[39m batch_to_device(features, device)\n\u001b[0;32m    164\u001b[0m \u001b[39mwith\u001b[39;00m torch\u001b[39m.\u001b[39mno_grad():\n\u001b[1;32m--> 165\u001b[0m     out_features \u001b[39m=\u001b[39m \u001b[39mself\u001b[39;49m\u001b[39m.\u001b[39;49mforward(features)\n\u001b[0;32m    167\u001b[0m     \u001b[39mif\u001b[39;00m output_value \u001b[39m==\u001b[39m \u001b[39m'\u001b[39m\u001b[39mtoken_embeddings\u001b[39m\u001b[39m'\u001b[39m:\n\u001b[0;32m    168\u001b[0m         embeddings \u001b[39m=\u001b[39m []\n",
      "File \u001b[1;32mc:\\Users\\Mekan\\AppData\\Local\\Programs\\Python\\Python311\\Lib\\site-packages\\torch\\nn\\modules\\container.py:217\u001b[0m, in \u001b[0;36mSequential.forward\u001b[1;34m(self, input)\u001b[0m\n\u001b[0;32m    215\u001b[0m \u001b[39mdef\u001b[39;00m \u001b[39mforward\u001b[39m(\u001b[39mself\u001b[39m, \u001b[39minput\u001b[39m):\n\u001b[0;32m    216\u001b[0m     \u001b[39mfor\u001b[39;00m module \u001b[39min\u001b[39;00m \u001b[39mself\u001b[39m:\n\u001b[1;32m--> 217\u001b[0m         \u001b[39minput\u001b[39m \u001b[39m=\u001b[39m module(\u001b[39minput\u001b[39;49m)\n\u001b[0;32m    218\u001b[0m     \u001b[39mreturn\u001b[39;00m \u001b[39minput\u001b[39m\n",
      "File \u001b[1;32mc:\\Users\\Mekan\\AppData\\Local\\Programs\\Python\\Python311\\Lib\\site-packages\\torch\\nn\\modules\\module.py:1501\u001b[0m, in \u001b[0;36mModule._call_impl\u001b[1;34m(self, *args, **kwargs)\u001b[0m\n\u001b[0;32m   1496\u001b[0m \u001b[39m# If we don't have any hooks, we want to skip the rest of the logic in\u001b[39;00m\n\u001b[0;32m   1497\u001b[0m \u001b[39m# this function, and just call forward.\u001b[39;00m\n\u001b[0;32m   1498\u001b[0m \u001b[39mif\u001b[39;00m \u001b[39mnot\u001b[39;00m (\u001b[39mself\u001b[39m\u001b[39m.\u001b[39m_backward_hooks \u001b[39mor\u001b[39;00m \u001b[39mself\u001b[39m\u001b[39m.\u001b[39m_backward_pre_hooks \u001b[39mor\u001b[39;00m \u001b[39mself\u001b[39m\u001b[39m.\u001b[39m_forward_hooks \u001b[39mor\u001b[39;00m \u001b[39mself\u001b[39m\u001b[39m.\u001b[39m_forward_pre_hooks\n\u001b[0;32m   1499\u001b[0m         \u001b[39mor\u001b[39;00m _global_backward_pre_hooks \u001b[39mor\u001b[39;00m _global_backward_hooks\n\u001b[0;32m   1500\u001b[0m         \u001b[39mor\u001b[39;00m _global_forward_hooks \u001b[39mor\u001b[39;00m _global_forward_pre_hooks):\n\u001b[1;32m-> 1501\u001b[0m     \u001b[39mreturn\u001b[39;00m forward_call(\u001b[39m*\u001b[39;49margs, \u001b[39m*\u001b[39;49m\u001b[39m*\u001b[39;49mkwargs)\n\u001b[0;32m   1502\u001b[0m \u001b[39m# Do not call functions when jit is used\u001b[39;00m\n\u001b[0;32m   1503\u001b[0m full_backward_hooks, non_full_backward_hooks \u001b[39m=\u001b[39m [], []\n",
      "File \u001b[1;32mc:\\Users\\Mekan\\AppData\\Local\\Programs\\Python\\Python311\\Lib\\site-packages\\sentence_transformers\\models\\Transformer.py:66\u001b[0m, in \u001b[0;36mTransformer.forward\u001b[1;34m(self, features)\u001b[0m\n\u001b[0;32m     63\u001b[0m \u001b[39mif\u001b[39;00m \u001b[39m'\u001b[39m\u001b[39mtoken_type_ids\u001b[39m\u001b[39m'\u001b[39m \u001b[39min\u001b[39;00m features:\n\u001b[0;32m     64\u001b[0m     trans_features[\u001b[39m'\u001b[39m\u001b[39mtoken_type_ids\u001b[39m\u001b[39m'\u001b[39m] \u001b[39m=\u001b[39m features[\u001b[39m'\u001b[39m\u001b[39mtoken_type_ids\u001b[39m\u001b[39m'\u001b[39m]\n\u001b[1;32m---> 66\u001b[0m output_states \u001b[39m=\u001b[39m \u001b[39mself\u001b[39;49m\u001b[39m.\u001b[39;49mauto_model(\u001b[39m*\u001b[39;49m\u001b[39m*\u001b[39;49mtrans_features, return_dict\u001b[39m=\u001b[39;49m\u001b[39mFalse\u001b[39;49;00m)\n\u001b[0;32m     67\u001b[0m output_tokens \u001b[39m=\u001b[39m output_states[\u001b[39m0\u001b[39m]\n\u001b[0;32m     69\u001b[0m features\u001b[39m.\u001b[39mupdate({\u001b[39m'\u001b[39m\u001b[39mtoken_embeddings\u001b[39m\u001b[39m'\u001b[39m: output_tokens, \u001b[39m'\u001b[39m\u001b[39mattention_mask\u001b[39m\u001b[39m'\u001b[39m: features[\u001b[39m'\u001b[39m\u001b[39mattention_mask\u001b[39m\u001b[39m'\u001b[39m]})\n",
      "File \u001b[1;32mc:\\Users\\Mekan\\AppData\\Local\\Programs\\Python\\Python311\\Lib\\site-packages\\torch\\nn\\modules\\module.py:1501\u001b[0m, in \u001b[0;36mModule._call_impl\u001b[1;34m(self, *args, **kwargs)\u001b[0m\n\u001b[0;32m   1496\u001b[0m \u001b[39m# If we don't have any hooks, we want to skip the rest of the logic in\u001b[39;00m\n\u001b[0;32m   1497\u001b[0m \u001b[39m# this function, and just call forward.\u001b[39;00m\n\u001b[0;32m   1498\u001b[0m \u001b[39mif\u001b[39;00m \u001b[39mnot\u001b[39;00m (\u001b[39mself\u001b[39m\u001b[39m.\u001b[39m_backward_hooks \u001b[39mor\u001b[39;00m \u001b[39mself\u001b[39m\u001b[39m.\u001b[39m_backward_pre_hooks \u001b[39mor\u001b[39;00m \u001b[39mself\u001b[39m\u001b[39m.\u001b[39m_forward_hooks \u001b[39mor\u001b[39;00m \u001b[39mself\u001b[39m\u001b[39m.\u001b[39m_forward_pre_hooks\n\u001b[0;32m   1499\u001b[0m         \u001b[39mor\u001b[39;00m _global_backward_pre_hooks \u001b[39mor\u001b[39;00m _global_backward_hooks\n\u001b[0;32m   1500\u001b[0m         \u001b[39mor\u001b[39;00m _global_forward_hooks \u001b[39mor\u001b[39;00m _global_forward_pre_hooks):\n\u001b[1;32m-> 1501\u001b[0m     \u001b[39mreturn\u001b[39;00m forward_call(\u001b[39m*\u001b[39;49margs, \u001b[39m*\u001b[39;49m\u001b[39m*\u001b[39;49mkwargs)\n\u001b[0;32m   1502\u001b[0m \u001b[39m# Do not call functions when jit is used\u001b[39;00m\n\u001b[0;32m   1503\u001b[0m full_backward_hooks, non_full_backward_hooks \u001b[39m=\u001b[39m [], []\n",
      "File \u001b[1;32mc:\\Users\\Mekan\\AppData\\Local\\Programs\\Python\\Python311\\Lib\\site-packages\\transformers\\models\\bert\\modeling_bert.py:1019\u001b[0m, in \u001b[0;36mBertModel.forward\u001b[1;34m(self, input_ids, attention_mask, token_type_ids, position_ids, head_mask, inputs_embeds, encoder_hidden_states, encoder_attention_mask, past_key_values, use_cache, output_attentions, output_hidden_states, return_dict)\u001b[0m\n\u001b[0;32m   1010\u001b[0m head_mask \u001b[39m=\u001b[39m \u001b[39mself\u001b[39m\u001b[39m.\u001b[39mget_head_mask(head_mask, \u001b[39mself\u001b[39m\u001b[39m.\u001b[39mconfig\u001b[39m.\u001b[39mnum_hidden_layers)\n\u001b[0;32m   1012\u001b[0m embedding_output \u001b[39m=\u001b[39m \u001b[39mself\u001b[39m\u001b[39m.\u001b[39membeddings(\n\u001b[0;32m   1013\u001b[0m     input_ids\u001b[39m=\u001b[39minput_ids,\n\u001b[0;32m   1014\u001b[0m     position_ids\u001b[39m=\u001b[39mposition_ids,\n\u001b[1;32m   (...)\u001b[0m\n\u001b[0;32m   1017\u001b[0m     past_key_values_length\u001b[39m=\u001b[39mpast_key_values_length,\n\u001b[0;32m   1018\u001b[0m )\n\u001b[1;32m-> 1019\u001b[0m encoder_outputs \u001b[39m=\u001b[39m \u001b[39mself\u001b[39;49m\u001b[39m.\u001b[39;49mencoder(\n\u001b[0;32m   1020\u001b[0m     embedding_output,\n\u001b[0;32m   1021\u001b[0m     attention_mask\u001b[39m=\u001b[39;49mextended_attention_mask,\n\u001b[0;32m   1022\u001b[0m     head_mask\u001b[39m=\u001b[39;49mhead_mask,\n\u001b[0;32m   1023\u001b[0m     encoder_hidden_states\u001b[39m=\u001b[39;49mencoder_hidden_states,\n\u001b[0;32m   1024\u001b[0m     encoder_attention_mask\u001b[39m=\u001b[39;49mencoder_extended_attention_mask,\n\u001b[0;32m   1025\u001b[0m     past_key_values\u001b[39m=\u001b[39;49mpast_key_values,\n\u001b[0;32m   1026\u001b[0m     use_cache\u001b[39m=\u001b[39;49muse_cache,\n\u001b[0;32m   1027\u001b[0m     output_attentions\u001b[39m=\u001b[39;49moutput_attentions,\n\u001b[0;32m   1028\u001b[0m     output_hidden_states\u001b[39m=\u001b[39;49moutput_hidden_states,\n\u001b[0;32m   1029\u001b[0m     return_dict\u001b[39m=\u001b[39;49mreturn_dict,\n\u001b[0;32m   1030\u001b[0m )\n\u001b[0;32m   1031\u001b[0m sequence_output \u001b[39m=\u001b[39m encoder_outputs[\u001b[39m0\u001b[39m]\n\u001b[0;32m   1032\u001b[0m pooled_output \u001b[39m=\u001b[39m \u001b[39mself\u001b[39m\u001b[39m.\u001b[39mpooler(sequence_output) \u001b[39mif\u001b[39;00m \u001b[39mself\u001b[39m\u001b[39m.\u001b[39mpooler \u001b[39mis\u001b[39;00m \u001b[39mnot\u001b[39;00m \u001b[39mNone\u001b[39;00m \u001b[39melse\u001b[39;00m \u001b[39mNone\u001b[39;00m\n",
      "File \u001b[1;32mc:\\Users\\Mekan\\AppData\\Local\\Programs\\Python\\Python311\\Lib\\site-packages\\torch\\nn\\modules\\module.py:1501\u001b[0m, in \u001b[0;36mModule._call_impl\u001b[1;34m(self, *args, **kwargs)\u001b[0m\n\u001b[0;32m   1496\u001b[0m \u001b[39m# If we don't have any hooks, we want to skip the rest of the logic in\u001b[39;00m\n\u001b[0;32m   1497\u001b[0m \u001b[39m# this function, and just call forward.\u001b[39;00m\n\u001b[0;32m   1498\u001b[0m \u001b[39mif\u001b[39;00m \u001b[39mnot\u001b[39;00m (\u001b[39mself\u001b[39m\u001b[39m.\u001b[39m_backward_hooks \u001b[39mor\u001b[39;00m \u001b[39mself\u001b[39m\u001b[39m.\u001b[39m_backward_pre_hooks \u001b[39mor\u001b[39;00m \u001b[39mself\u001b[39m\u001b[39m.\u001b[39m_forward_hooks \u001b[39mor\u001b[39;00m \u001b[39mself\u001b[39m\u001b[39m.\u001b[39m_forward_pre_hooks\n\u001b[0;32m   1499\u001b[0m         \u001b[39mor\u001b[39;00m _global_backward_pre_hooks \u001b[39mor\u001b[39;00m _global_backward_hooks\n\u001b[0;32m   1500\u001b[0m         \u001b[39mor\u001b[39;00m _global_forward_hooks \u001b[39mor\u001b[39;00m _global_forward_pre_hooks):\n\u001b[1;32m-> 1501\u001b[0m     \u001b[39mreturn\u001b[39;00m forward_call(\u001b[39m*\u001b[39;49margs, \u001b[39m*\u001b[39;49m\u001b[39m*\u001b[39;49mkwargs)\n\u001b[0;32m   1502\u001b[0m \u001b[39m# Do not call functions when jit is used\u001b[39;00m\n\u001b[0;32m   1503\u001b[0m full_backward_hooks, non_full_backward_hooks \u001b[39m=\u001b[39m [], []\n",
      "File \u001b[1;32mc:\\Users\\Mekan\\AppData\\Local\\Programs\\Python\\Python311\\Lib\\site-packages\\transformers\\models\\bert\\modeling_bert.py:609\u001b[0m, in \u001b[0;36mBertEncoder.forward\u001b[1;34m(self, hidden_states, attention_mask, head_mask, encoder_hidden_states, encoder_attention_mask, past_key_values, use_cache, output_attentions, output_hidden_states, return_dict)\u001b[0m\n\u001b[0;32m    600\u001b[0m     layer_outputs \u001b[39m=\u001b[39m torch\u001b[39m.\u001b[39mutils\u001b[39m.\u001b[39mcheckpoint\u001b[39m.\u001b[39mcheckpoint(\n\u001b[0;32m    601\u001b[0m         create_custom_forward(layer_module),\n\u001b[0;32m    602\u001b[0m         hidden_states,\n\u001b[1;32m   (...)\u001b[0m\n\u001b[0;32m    606\u001b[0m         encoder_attention_mask,\n\u001b[0;32m    607\u001b[0m     )\n\u001b[0;32m    608\u001b[0m \u001b[39melse\u001b[39;00m:\n\u001b[1;32m--> 609\u001b[0m     layer_outputs \u001b[39m=\u001b[39m layer_module(\n\u001b[0;32m    610\u001b[0m         hidden_states,\n\u001b[0;32m    611\u001b[0m         attention_mask,\n\u001b[0;32m    612\u001b[0m         layer_head_mask,\n\u001b[0;32m    613\u001b[0m         encoder_hidden_states,\n\u001b[0;32m    614\u001b[0m         encoder_attention_mask,\n\u001b[0;32m    615\u001b[0m         past_key_value,\n\u001b[0;32m    616\u001b[0m         output_attentions,\n\u001b[0;32m    617\u001b[0m     )\n\u001b[0;32m    619\u001b[0m hidden_states \u001b[39m=\u001b[39m layer_outputs[\u001b[39m0\u001b[39m]\n\u001b[0;32m    620\u001b[0m \u001b[39mif\u001b[39;00m use_cache:\n",
      "File \u001b[1;32mc:\\Users\\Mekan\\AppData\\Local\\Programs\\Python\\Python311\\Lib\\site-packages\\torch\\nn\\modules\\module.py:1501\u001b[0m, in \u001b[0;36mModule._call_impl\u001b[1;34m(self, *args, **kwargs)\u001b[0m\n\u001b[0;32m   1496\u001b[0m \u001b[39m# If we don't have any hooks, we want to skip the rest of the logic in\u001b[39;00m\n\u001b[0;32m   1497\u001b[0m \u001b[39m# this function, and just call forward.\u001b[39;00m\n\u001b[0;32m   1498\u001b[0m \u001b[39mif\u001b[39;00m \u001b[39mnot\u001b[39;00m (\u001b[39mself\u001b[39m\u001b[39m.\u001b[39m_backward_hooks \u001b[39mor\u001b[39;00m \u001b[39mself\u001b[39m\u001b[39m.\u001b[39m_backward_pre_hooks \u001b[39mor\u001b[39;00m \u001b[39mself\u001b[39m\u001b[39m.\u001b[39m_forward_hooks \u001b[39mor\u001b[39;00m \u001b[39mself\u001b[39m\u001b[39m.\u001b[39m_forward_pre_hooks\n\u001b[0;32m   1499\u001b[0m         \u001b[39mor\u001b[39;00m _global_backward_pre_hooks \u001b[39mor\u001b[39;00m _global_backward_hooks\n\u001b[0;32m   1500\u001b[0m         \u001b[39mor\u001b[39;00m _global_forward_hooks \u001b[39mor\u001b[39;00m _global_forward_pre_hooks):\n\u001b[1;32m-> 1501\u001b[0m     \u001b[39mreturn\u001b[39;00m forward_call(\u001b[39m*\u001b[39;49margs, \u001b[39m*\u001b[39;49m\u001b[39m*\u001b[39;49mkwargs)\n\u001b[0;32m   1502\u001b[0m \u001b[39m# Do not call functions when jit is used\u001b[39;00m\n\u001b[0;32m   1503\u001b[0m full_backward_hooks, non_full_backward_hooks \u001b[39m=\u001b[39m [], []\n",
      "File \u001b[1;32mc:\\Users\\Mekan\\AppData\\Local\\Programs\\Python\\Python311\\Lib\\site-packages\\transformers\\models\\bert\\modeling_bert.py:537\u001b[0m, in \u001b[0;36mBertLayer.forward\u001b[1;34m(self, hidden_states, attention_mask, head_mask, encoder_hidden_states, encoder_attention_mask, past_key_value, output_attentions)\u001b[0m\n\u001b[0;32m    534\u001b[0m     cross_attn_present_key_value \u001b[39m=\u001b[39m cross_attention_outputs[\u001b[39m-\u001b[39m\u001b[39m1\u001b[39m]\n\u001b[0;32m    535\u001b[0m     present_key_value \u001b[39m=\u001b[39m present_key_value \u001b[39m+\u001b[39m cross_attn_present_key_value\n\u001b[1;32m--> 537\u001b[0m layer_output \u001b[39m=\u001b[39m apply_chunking_to_forward(\n\u001b[0;32m    538\u001b[0m     \u001b[39mself\u001b[39;49m\u001b[39m.\u001b[39;49mfeed_forward_chunk, \u001b[39mself\u001b[39;49m\u001b[39m.\u001b[39;49mchunk_size_feed_forward, \u001b[39mself\u001b[39;49m\u001b[39m.\u001b[39;49mseq_len_dim, attention_output\n\u001b[0;32m    539\u001b[0m )\n\u001b[0;32m    540\u001b[0m outputs \u001b[39m=\u001b[39m (layer_output,) \u001b[39m+\u001b[39m outputs\n\u001b[0;32m    542\u001b[0m \u001b[39m# if decoder, return the attn key/values as the last output\u001b[39;00m\n",
      "File \u001b[1;32mc:\\Users\\Mekan\\AppData\\Local\\Programs\\Python\\Python311\\Lib\\site-packages\\transformers\\pytorch_utils.py:249\u001b[0m, in \u001b[0;36mapply_chunking_to_forward\u001b[1;34m(forward_fn, chunk_size, chunk_dim, *input_tensors)\u001b[0m\n\u001b[0;32m    246\u001b[0m     \u001b[39m# concatenate output at same dimension\u001b[39;00m\n\u001b[0;32m    247\u001b[0m     \u001b[39mreturn\u001b[39;00m torch\u001b[39m.\u001b[39mcat(output_chunks, dim\u001b[39m=\u001b[39mchunk_dim)\n\u001b[1;32m--> 249\u001b[0m \u001b[39mreturn\u001b[39;00m forward_fn(\u001b[39m*\u001b[39;49minput_tensors)\n",
      "File \u001b[1;32mc:\\Users\\Mekan\\AppData\\Local\\Programs\\Python\\Python311\\Lib\\site-packages\\transformers\\models\\bert\\modeling_bert.py:549\u001b[0m, in \u001b[0;36mBertLayer.feed_forward_chunk\u001b[1;34m(self, attention_output)\u001b[0m\n\u001b[0;32m    548\u001b[0m \u001b[39mdef\u001b[39;00m \u001b[39mfeed_forward_chunk\u001b[39m(\u001b[39mself\u001b[39m, attention_output):\n\u001b[1;32m--> 549\u001b[0m     intermediate_output \u001b[39m=\u001b[39m \u001b[39mself\u001b[39;49m\u001b[39m.\u001b[39;49mintermediate(attention_output)\n\u001b[0;32m    550\u001b[0m     layer_output \u001b[39m=\u001b[39m \u001b[39mself\u001b[39m\u001b[39m.\u001b[39moutput(intermediate_output, attention_output)\n\u001b[0;32m    551\u001b[0m     \u001b[39mreturn\u001b[39;00m layer_output\n",
      "File \u001b[1;32mc:\\Users\\Mekan\\AppData\\Local\\Programs\\Python\\Python311\\Lib\\site-packages\\torch\\nn\\modules\\module.py:1501\u001b[0m, in \u001b[0;36mModule._call_impl\u001b[1;34m(self, *args, **kwargs)\u001b[0m\n\u001b[0;32m   1496\u001b[0m \u001b[39m# If we don't have any hooks, we want to skip the rest of the logic in\u001b[39;00m\n\u001b[0;32m   1497\u001b[0m \u001b[39m# this function, and just call forward.\u001b[39;00m\n\u001b[0;32m   1498\u001b[0m \u001b[39mif\u001b[39;00m \u001b[39mnot\u001b[39;00m (\u001b[39mself\u001b[39m\u001b[39m.\u001b[39m_backward_hooks \u001b[39mor\u001b[39;00m \u001b[39mself\u001b[39m\u001b[39m.\u001b[39m_backward_pre_hooks \u001b[39mor\u001b[39;00m \u001b[39mself\u001b[39m\u001b[39m.\u001b[39m_forward_hooks \u001b[39mor\u001b[39;00m \u001b[39mself\u001b[39m\u001b[39m.\u001b[39m_forward_pre_hooks\n\u001b[0;32m   1499\u001b[0m         \u001b[39mor\u001b[39;00m _global_backward_pre_hooks \u001b[39mor\u001b[39;00m _global_backward_hooks\n\u001b[0;32m   1500\u001b[0m         \u001b[39mor\u001b[39;00m _global_forward_hooks \u001b[39mor\u001b[39;00m _global_forward_pre_hooks):\n\u001b[1;32m-> 1501\u001b[0m     \u001b[39mreturn\u001b[39;00m forward_call(\u001b[39m*\u001b[39;49margs, \u001b[39m*\u001b[39;49m\u001b[39m*\u001b[39;49mkwargs)\n\u001b[0;32m   1502\u001b[0m \u001b[39m# Do not call functions when jit is used\u001b[39;00m\n\u001b[0;32m   1503\u001b[0m full_backward_hooks, non_full_backward_hooks \u001b[39m=\u001b[39m [], []\n",
      "File \u001b[1;32mc:\\Users\\Mekan\\AppData\\Local\\Programs\\Python\\Python311\\Lib\\site-packages\\transformers\\models\\bert\\modeling_bert.py:449\u001b[0m, in \u001b[0;36mBertIntermediate.forward\u001b[1;34m(self, hidden_states)\u001b[0m\n\u001b[0;32m    448\u001b[0m \u001b[39mdef\u001b[39;00m \u001b[39mforward\u001b[39m(\u001b[39mself\u001b[39m, hidden_states: torch\u001b[39m.\u001b[39mTensor) \u001b[39m-\u001b[39m\u001b[39m>\u001b[39m torch\u001b[39m.\u001b[39mTensor:\n\u001b[1;32m--> 449\u001b[0m     hidden_states \u001b[39m=\u001b[39m \u001b[39mself\u001b[39;49m\u001b[39m.\u001b[39;49mdense(hidden_states)\n\u001b[0;32m    450\u001b[0m     hidden_states \u001b[39m=\u001b[39m \u001b[39mself\u001b[39m\u001b[39m.\u001b[39mintermediate_act_fn(hidden_states)\n\u001b[0;32m    451\u001b[0m     \u001b[39mreturn\u001b[39;00m hidden_states\n",
      "File \u001b[1;32mc:\\Users\\Mekan\\AppData\\Local\\Programs\\Python\\Python311\\Lib\\site-packages\\torch\\nn\\modules\\module.py:1501\u001b[0m, in \u001b[0;36mModule._call_impl\u001b[1;34m(self, *args, **kwargs)\u001b[0m\n\u001b[0;32m   1496\u001b[0m \u001b[39m# If we don't have any hooks, we want to skip the rest of the logic in\u001b[39;00m\n\u001b[0;32m   1497\u001b[0m \u001b[39m# this function, and just call forward.\u001b[39;00m\n\u001b[0;32m   1498\u001b[0m \u001b[39mif\u001b[39;00m \u001b[39mnot\u001b[39;00m (\u001b[39mself\u001b[39m\u001b[39m.\u001b[39m_backward_hooks \u001b[39mor\u001b[39;00m \u001b[39mself\u001b[39m\u001b[39m.\u001b[39m_backward_pre_hooks \u001b[39mor\u001b[39;00m \u001b[39mself\u001b[39m\u001b[39m.\u001b[39m_forward_hooks \u001b[39mor\u001b[39;00m \u001b[39mself\u001b[39m\u001b[39m.\u001b[39m_forward_pre_hooks\n\u001b[0;32m   1499\u001b[0m         \u001b[39mor\u001b[39;00m _global_backward_pre_hooks \u001b[39mor\u001b[39;00m _global_backward_hooks\n\u001b[0;32m   1500\u001b[0m         \u001b[39mor\u001b[39;00m _global_forward_hooks \u001b[39mor\u001b[39;00m _global_forward_pre_hooks):\n\u001b[1;32m-> 1501\u001b[0m     \u001b[39mreturn\u001b[39;00m forward_call(\u001b[39m*\u001b[39;49margs, \u001b[39m*\u001b[39;49m\u001b[39m*\u001b[39;49mkwargs)\n\u001b[0;32m   1502\u001b[0m \u001b[39m# Do not call functions when jit is used\u001b[39;00m\n\u001b[0;32m   1503\u001b[0m full_backward_hooks, non_full_backward_hooks \u001b[39m=\u001b[39m [], []\n",
      "File \u001b[1;32mc:\\Users\\Mekan\\AppData\\Local\\Programs\\Python\\Python311\\Lib\\site-packages\\torch\\nn\\modules\\linear.py:114\u001b[0m, in \u001b[0;36mLinear.forward\u001b[1;34m(self, input)\u001b[0m\n\u001b[0;32m    113\u001b[0m \u001b[39mdef\u001b[39;00m \u001b[39mforward\u001b[39m(\u001b[39mself\u001b[39m, \u001b[39minput\u001b[39m: Tensor) \u001b[39m-\u001b[39m\u001b[39m>\u001b[39m Tensor:\n\u001b[1;32m--> 114\u001b[0m     \u001b[39mreturn\u001b[39;00m F\u001b[39m.\u001b[39;49mlinear(\u001b[39minput\u001b[39;49m, \u001b[39mself\u001b[39;49m\u001b[39m.\u001b[39;49mweight, \u001b[39mself\u001b[39;49m\u001b[39m.\u001b[39;49mbias)\n",
      "\u001b[1;31mKeyboardInterrupt\u001b[0m: "
     ]
    }
   ],
   "source": [
    "from tqdm.autonotebook import tqdm\n",
    "for i in tqdm(range(2, 31)):\n",
    "    wb = openpyxl.load_workbook(r'C:\\Users\\Mekan\\Downloads\\Track Track\\27.06.2023\\Акты для тестирования вариантов формул векторного анализа.xlsx')\n",
    "    ws = wb['Документ 3']\n",
    "# This will fail if there is no hyperlink to target\n",
    "    url = ws.cell(row=i, column=4).hyperlink.target\n",
    "\n",
    "    if len(url) == 81:\n",
    "        link = 'https://dev.elasticsearch-gw.tracktrack.su/documents/_doc/' + url[27:56]\n",
    "        ip = sys.argv[1]\n",
    "        res=requests.get(link, auth=HTTPBasicAuth(user, password))\n",
    "        print(\"Similarity with\", i-1, \"th document is:\", round(sentence_similarity(text, res.text), 4))\n",
    "\n",
    "    if len(url) == 79:\n",
    "        link = 'https://dev.elasticsearch-gw.tracktrack.su/documents/_doc/' + url[37:66]\n",
    "        ip = sys.argv[1]\n",
    "        res=requests.get(link, auth=HTTPBasicAuth(user, password))\n",
    "        print(\"Similarity with\", i-1, \"th document is:\", round(sentence_similarity(text, res.text), 4))\n",
    "\n",
    "    if len(url) == 51:\n",
    "        link = 'https://dev.elasticsearch-gw.tracktrack.su/documents/_doc/' + url[27:41]\n",
    "        ip = sys.argv[1]\n",
    "        res=requests.get(link, auth=HTTPBasicAuth(user, password))\n",
    "        print(\"Similarity with\", i-1, \"th document is:\", round(sentence_similarity(text, res.text), 4))\n",
    "\n",
    "    if len(url) == 55:\n",
    "        link = 'https://dev.elasticsearch-gw.tracktrack.su/documents/_doc/' + url[27:45]\n",
    "        ip = sys.argv[1]\n",
    "        res=requests.get(link, auth=HTTPBasicAuth(user, password))\n",
    "        print(\"Similarity with\", i-1, \"th document is:\", round(sentence_similarity(text, res.text), 4))\n",
    "\n",
    "    if len(url) == 70:\n",
    "        link = 'https://dev.elasticsearch-gw.tracktrack.su/documents/_doc/' + url[27:45]\n",
    "        ip = sys.argv[1]\n",
    "        res=requests.get(link, auth=HTTPBasicAuth(user, password))\n",
    "        print(\"Similarity with\", i-1, \"th document is:\", round(sentence_similarity(text, res.text), 4))\n",
    "\n",
    "    if len(url) == 66:\n",
    "        link = 'https://dev.elasticsearch-gw.tracktrack.su/documents/_doc/' + url[27:41]\n",
    "        ip = sys.argv[1]\n",
    "        res=requests.get(link, auth=HTTPBasicAuth(user, password))\n",
    "        print(\"Similarity with\", i-1, \"th document is:\", round(sentence_similarity(text, res.text), 4))\n",
    "\n",
    "    if len(url) == 68:\n",
    "        link = 'https://dev.elasticsearch-gw.tracktrack.su/documents/_doc/' + url[27:43]\n",
    "        ip = sys.argv[1]\n",
    "        res=requests.get(link, auth=HTTPBasicAuth(user, password))\n",
    "        print(\"Similarity with\", i-1, \"th document is:\", round(sentence_similarity(text, res.text), 4))"
   ]
  },
  {
   "attachments": {},
   "cell_type": "markdown",
   "metadata": {},
   "source": [
    "https://dev.pravo.tracktrack.ru/laws/publication_0001201608010027/e2rqwfdsiuvjn"
   ]
  },
  {
   "cell_type": "code",
   "execution_count": 159,
   "metadata": {},
   "outputs": [
    {
     "name": "stdout",
     "output_type": "stream",
     "text": [
      "eaes-publicati\n",
      "https://tracktrack.ru/laws/eaes-publication_01440158;;err_22062023_60/52YaEfzzuf/?comments=true\n",
      "eaes-publicati\n",
      "https://tracktrack.ru/laws/eaes-publication_01440164;;err_22062023_62/52YaEfzzuf/?comments=true\n",
      "eaes-publicati\n",
      "https://tracktrack.ru/laws/eaes-publication_01440167;;err_22062023_17/52YaEfzzuf/?comments=true\n"
     ]
    }
   ],
   "source": [
    "for i in range(2, 31):\n",
    "    wb = openpyxl.load_workbook(r'C:\\Users\\Mekan\\Downloads\\Track Track\\27.06.2023\\Акты для тестирования вариантов формул векторного анализа.xlsx')\n",
    "    ws = wb['Документ 3']\n",
    "# This will fail if there is no hyperlink to target\n",
    "    url = ws.cell(row=i, column=4).hyperlink.target\n",
    "    if len(url) == 95:\n",
    "        print(url[27:41])\n",
    "        print(url)"
   ]
  },
  {
   "attachments": {},
   "cell_type": "markdown",
   "metadata": {},
   "source": [
    "### Next"
   ]
  },
  {
   "cell_type": "code",
   "execution_count": 169,
   "metadata": {},
   "outputs": [],
   "source": [
    "elastic = 'https://dev.elasticsearch-gw.tracktrack.su/documents/_doc/' + url[37:52]\n",
    "ip = sys.argv[1]\n",
    "request=requests.get(elastic, auth=HTTPBasicAuth(user, password))\n",
    "text = request.text"
   ]
  },
  {
   "cell_type": "code",
   "execution_count": 184,
   "metadata": {},
   "outputs": [
    {
     "name": "stdout",
     "output_type": "stream",
     "text": [
      "https://dev.pravo.tracktrack.ru/laws/regulation_91641/e2rqwfdsiuvjn\n",
      "regulation_91641/\n"
     ]
    }
   ],
   "source": [
    "for i in range(2, 31):\n",
    "    wb = openpyxl.load_workbook(r'C:\\Users\\Mekan\\Downloads\\Track Track\\27.06.2023\\Акты для тестирования вариантов формул векторного анализа.xlsx')\n",
    "    ws = wb['Документ 4']\n",
    "# This will fail if there is no hyperlink to target\n",
    "    url = ws.cell(row=i, column=4).hyperlink.target\n",
    "\n",
    "    if len(url) == 67:\n",
    "        print(url)\n",
    "        print(url[37:54])\n",
    "        # link = 'https://dev.elasticsearch-gw.tracktrack.su/documents/_doc/' + url[27:56]\n",
    "        # ip = sys.argv[1]\n",
    "        # res=requests.get(link, auth=HTTPBasicAuth(user, password))\n",
    "        # print(\"Similarity with\", i-1, \"th document is:\", round(sentence_similarity(text, res.text), 4))"
   ]
  },
  {
   "cell_type": "code",
   "execution_count": 192,
   "metadata": {},
   "outputs": [],
   "source": [
    "from tqdm.autonotebook import tqdm"
   ]
  },
  {
   "cell_type": "code",
   "execution_count": 202,
   "metadata": {},
   "outputs": [
    {
     "name": "stderr",
     "output_type": "stream",
     "text": [
      "  3%|▎         | 1/29 [00:21<09:55, 21.26s/it]"
     ]
    },
    {
     "name": "stdout",
     "output_type": "stream",
     "text": [
      "Similarity with 1 th document is: 0.8948\n"
     ]
    },
    {
     "name": "stderr",
     "output_type": "stream",
     "text": [
      "  7%|▋         | 2/29 [00:41<09:21, 20.79s/it]"
     ]
    },
    {
     "name": "stdout",
     "output_type": "stream",
     "text": [
      "Similarity with 2 th document is: 0.9425\n"
     ]
    },
    {
     "name": "stderr",
     "output_type": "stream",
     "text": [
      " 10%|█         | 3/29 [01:03<09:08, 21.11s/it]"
     ]
    },
    {
     "name": "stdout",
     "output_type": "stream",
     "text": [
      "Similarity with 3 th document is: 0.8147\n"
     ]
    },
    {
     "name": "stderr",
     "output_type": "stream",
     "text": [
      " 14%|█▍        | 4/29 [01:22<08:30, 20.43s/it]"
     ]
    },
    {
     "name": "stdout",
     "output_type": "stream",
     "text": [
      "Similarity with 4 th document is: 0.8589\n"
     ]
    },
    {
     "name": "stderr",
     "output_type": "stream",
     "text": [
      " 17%|█▋        | 5/29 [01:42<08:06, 20.29s/it]"
     ]
    },
    {
     "name": "stdout",
     "output_type": "stream",
     "text": [
      "Similarity with 5 th document is: 0.9116\n"
     ]
    },
    {
     "name": "stderr",
     "output_type": "stream",
     "text": [
      " 21%|██        | 6/29 [02:01<07:37, 19.90s/it]"
     ]
    },
    {
     "name": "stdout",
     "output_type": "stream",
     "text": [
      "Similarity with 6 th document is: 0.8385\n"
     ]
    },
    {
     "name": "stderr",
     "output_type": "stream",
     "text": [
      " 24%|██▍       | 7/29 [02:20<07:10, 19.58s/it]"
     ]
    },
    {
     "name": "stdout",
     "output_type": "stream",
     "text": [
      "Similarity with 7 th document is: 0.9842\n"
     ]
    },
    {
     "name": "stderr",
     "output_type": "stream",
     "text": [
      " 28%|██▊       | 8/29 [02:39<06:48, 19.46s/it]"
     ]
    },
    {
     "name": "stdout",
     "output_type": "stream",
     "text": [
      "Similarity with 8 th document is: 0.9069\n"
     ]
    },
    {
     "name": "stderr",
     "output_type": "stream",
     "text": [
      " 31%|███       | 9/29 [02:59<06:31, 19.59s/it]"
     ]
    },
    {
     "name": "stdout",
     "output_type": "stream",
     "text": [
      "Similarity with 9 th document is: 0.8828\n"
     ]
    },
    {
     "name": "stderr",
     "output_type": "stream",
     "text": [
      " 34%|███▍      | 10/29 [03:18<06:05, 19.21s/it]"
     ]
    },
    {
     "name": "stdout",
     "output_type": "stream",
     "text": [
      "Similarity with 10 th document is: 0.9179\n"
     ]
    },
    {
     "name": "stderr",
     "output_type": "stream",
     "text": [
      " 38%|███▊      | 11/29 [03:38<05:51, 19.51s/it]"
     ]
    },
    {
     "name": "stdout",
     "output_type": "stream",
     "text": [
      "Similarity with 11 th document is: 0.7995\n"
     ]
    },
    {
     "name": "stderr",
     "output_type": "stream",
     "text": [
      " 41%|████▏     | 12/29 [03:59<05:41, 20.07s/it]"
     ]
    },
    {
     "name": "stdout",
     "output_type": "stream",
     "text": [
      "Similarity with 12 th document is: 0.9122\n"
     ]
    },
    {
     "name": "stderr",
     "output_type": "stream",
     "text": [
      " 45%|████▍     | 13/29 [04:18<05:14, 19.64s/it]"
     ]
    },
    {
     "name": "stdout",
     "output_type": "stream",
     "text": [
      "Similarity with 13 th document is: 0.7598\n"
     ]
    },
    {
     "name": "stderr",
     "output_type": "stream",
     "text": [
      " 48%|████▊     | 14/29 [04:36<04:45, 19.05s/it]"
     ]
    },
    {
     "name": "stdout",
     "output_type": "stream",
     "text": [
      "Similarity with 14 th document is: 0.7697\n"
     ]
    },
    {
     "name": "stderr",
     "output_type": "stream",
     "text": [
      " 52%|█████▏    | 15/29 [04:54<04:22, 18.76s/it]"
     ]
    },
    {
     "name": "stdout",
     "output_type": "stream",
     "text": [
      "Similarity with 15 th document is: 0.7914\n"
     ]
    },
    {
     "name": "stderr",
     "output_type": "stream",
     "text": [
      " 55%|█████▌    | 16/29 [05:12<04:04, 18.77s/it]"
     ]
    },
    {
     "name": "stdout",
     "output_type": "stream",
     "text": [
      "Similarity with 16 th document is: 0.8562\n"
     ]
    },
    {
     "name": "stderr",
     "output_type": "stream",
     "text": [
      " 59%|█████▊    | 17/29 [05:30<03:41, 18.46s/it]"
     ]
    },
    {
     "name": "stdout",
     "output_type": "stream",
     "text": [
      "Similarity with 17 th document is: 0.8787\n"
     ]
    },
    {
     "name": "stderr",
     "output_type": "stream",
     "text": [
      " 62%|██████▏   | 18/29 [05:49<03:23, 18.54s/it]"
     ]
    },
    {
     "name": "stdout",
     "output_type": "stream",
     "text": [
      "Similarity with 18 th document is: 0.792\n"
     ]
    },
    {
     "name": "stderr",
     "output_type": "stream",
     "text": [
      " 66%|██████▌   | 19/29 [06:07<03:04, 18.48s/it]"
     ]
    },
    {
     "name": "stdout",
     "output_type": "stream",
     "text": [
      "Similarity with 19 th document is: 0.8564\n"
     ]
    },
    {
     "name": "stderr",
     "output_type": "stream",
     "text": [
      " 69%|██████▉   | 20/29 [06:26<02:48, 18.71s/it]"
     ]
    },
    {
     "name": "stdout",
     "output_type": "stream",
     "text": [
      "Similarity with 20 th document is: 0.8388\n"
     ]
    },
    {
     "name": "stderr",
     "output_type": "stream",
     "text": [
      " 72%|███████▏  | 21/29 [06:46<02:32, 19.09s/it]"
     ]
    },
    {
     "name": "stdout",
     "output_type": "stream",
     "text": [
      "Similarity with 21 th document is: 0.885\n"
     ]
    },
    {
     "name": "stderr",
     "output_type": "stream",
     "text": [
      " 76%|███████▌  | 22/29 [07:07<02:16, 19.49s/it]"
     ]
    },
    {
     "name": "stdout",
     "output_type": "stream",
     "text": [
      "Similarity with 22 th document is: 0.7557\n"
     ]
    },
    {
     "name": "stderr",
     "output_type": "stream",
     "text": [
      " 79%|███████▉  | 23/29 [07:28<01:59, 19.98s/it]"
     ]
    },
    {
     "name": "stdout",
     "output_type": "stream",
     "text": [
      "Similarity with 23 th document is: 0.8559\n"
     ]
    },
    {
     "name": "stderr",
     "output_type": "stream",
     "text": [
      " 93%|█████████▎| 27/29 [07:53<00:22, 11.44s/it]"
     ]
    },
    {
     "name": "stdout",
     "output_type": "stream",
     "text": [
      "Similarity with 27 th document is: 0.9211\n"
     ]
    },
    {
     "name": "stderr",
     "output_type": "stream",
     "text": [
      " 97%|█████████▋| 28/29 [08:14<00:14, 14.10s/it]"
     ]
    },
    {
     "name": "stdout",
     "output_type": "stream",
     "text": [
      "Similarity with 28 th document is: 0.8415\n"
     ]
    },
    {
     "name": "stderr",
     "output_type": "stream",
     "text": [
      "100%|██████████| 29/29 [08:33<00:00, 17.70s/it]"
     ]
    },
    {
     "name": "stdout",
     "output_type": "stream",
     "text": [
      "Similarity with 29 th document is: 0.8439\n"
     ]
    },
    {
     "name": "stderr",
     "output_type": "stream",
     "text": [
      "\n"
     ]
    }
   ],
   "source": [
    "text = text.replace(\"\\\\n\", \" \").replace(\"\\\\\", \" \")\n",
    "for i in tqdm(range(2, 31)):\n",
    "    wb = openpyxl.load_workbook(r'C:\\Users\\Mekan\\Downloads\\Track Track\\27.06.2023\\Акты для тестирования вариантов формул векторного анализа.xlsx')\n",
    "    ws = wb['Документ 4']\n",
    "# This will fail if there is no hyperlink to target\n",
    "    url = ws.cell(row=i, column=4).hyperlink.target\n",
    "\n",
    "    if len(url) == 81:\n",
    "        link = 'https://dev.elasticsearch-gw.tracktrack.su/documents/_doc/' + url[27:56]\n",
    "        ip = sys.argv[1]\n",
    "        res=requests.get(link, auth=HTTPBasicAuth(user, password))\n",
    "        print(\"Similarity with\", i-1, \"th document is:\", round(sentence_similarity(text, res.text.replace(\"\\\\n\", \" \").replace(\"\\\\\", \" \")), 4))\n",
    "\n",
    "    if len(url) == 79:\n",
    "        link = 'https://dev.elasticsearch-gw.tracktrack.su/documents/_doc/' + url[37:66]\n",
    "        ip = sys.argv[1]\n",
    "        res=requests.get(link, auth=HTTPBasicAuth(user, password))\n",
    "        print(\"Similarity with\", i-1, \"th document is:\", round(sentence_similarity(text, res.text.replace(\"\\\\n\", \" \").replace(\"\\\\\", \" \")), 4))\n",
    "\n",
    "    if len(url) == 51:\n",
    "        link = 'https://dev.elasticsearch-gw.tracktrack.su/documents/_doc/' + url[27:41]\n",
    "        ip = sys.argv[1]\n",
    "        res=requests.get(link, auth=HTTPBasicAuth(user, password))\n",
    "        print(\"Similarity with\", i-1, \"th document is:\", round(sentence_similarity(text, res.text.replace(\"\\\\n\", \" \").replace(\"\\\\\", \" \")), 4))\n",
    "\n",
    "    if len(url) == 55:\n",
    "        link = 'https://dev.elasticsearch-gw.tracktrack.su/documents/_doc/' + url[27:45]\n",
    "        ip = sys.argv[1]\n",
    "        res=requests.get(link, auth=HTTPBasicAuth(user, password))\n",
    "        print(\"Similarity with\", i-1, \"th document is:\", round(sentence_similarity(text, res.text.replace(\"\\\\n\", \" \").replace(\"\\\\\", \" \")), 4))\n",
    "\n",
    "    if len(url) == 70:\n",
    "        link = 'https://dev.elasticsearch-gw.tracktrack.su/documents/_doc/' + url[27:45]\n",
    "        ip = sys.argv[1]\n",
    "        res=requests.get(link, auth=HTTPBasicAuth(user, password))\n",
    "        print(\"Similarity with\", i-1, \"th document is:\", round(sentence_similarity(text, res.text.replace(\"\\\\n\", \" \").replace(\"\\\\\", \" \")), 4))\n",
    "\n",
    "    if len(url) == 66:\n",
    "        link = 'https://dev.elasticsearch-gw.tracktrack.su/documents/_doc/' + url[27:41]\n",
    "        ip = sys.argv[1]\n",
    "        res=requests.get(link, auth=HTTPBasicAuth(user, password))\n",
    "        print(\"Similarity with\", i-1, \"th document is:\", round(sentence_similarity(text, res.text.replace(\"\\\\n\", \" \").replace(\"\\\\\", \" \")), 4))\n",
    "\n",
    "    if len(url) == 68:\n",
    "        link = 'https://dev.elasticsearch-gw.tracktrack.su/documents/_doc/' + url[27:43]\n",
    "        ip = sys.argv[1]\n",
    "        res=requests.get(link, auth=HTTPBasicAuth(user, password))\n",
    "        print(\"Similarity with\", i-1, \"th document is:\", round(sentence_similarity(text, res.text.replace(\"\\\\n\", \" \").replace(\"\\\\\", \" \")), 4))\n",
    "\n",
    "    if len(url) == 67:\n",
    "        link = 'https://dev.elasticsearch-gw.tracktrack.su/documents/_doc/' + url[37:54]\n",
    "        ip = sys.argv[1]\n",
    "        res=requests.get(link, auth=HTTPBasicAuth(user, password))\n",
    "        print(\"Similarity with\", i-1, \"th document is:\", round(sentence_similarity(text, res.text.replace(\"\\\\n\", \" \").replace(\"\\\\\", \" \")), 4))"
   ]
  },
  {
   "cell_type": "code",
   "execution_count": 195,
   "metadata": {},
   "outputs": [],
   "source": [
    "import spacy\n",
    "nlp = spacy.load(\"ru_core_news_sm\")"
   ]
  },
  {
   "cell_type": "code",
   "execution_count": 204,
   "metadata": {},
   "outputs": [
    {
     "data": {
      "text/plain": [
       "'{\"_index\":\"documents\",\"_type\":\"_doc\",\"_id\":\"duma_1138398-7\",\"_version\":111,\"_seq_no\":20677401,\"_primary_term\":12,\"found\":true,\"_source\":{\"update_messages\":[\"16.03.2023: Обновилась стадия  \"Рассмотрение законопроекта во втором чтении \": 13.03.2023\",\"28.10.2021: Начато рассмотрение законопроекта во втором чтении.\",\"26.05.2021: Обновилась стадия  \"Рассмотрение законопроекта в первом чтении \": 26.05.2021\",\"25.05.2021: Обновилась стадия  \"Рассмотрение законопроекта в первом чтении \": 25.05.2021\",\"25.05.2021: Обновилась стадия  \"Рассмотрение законопроекта в первом чтении \": 24.05.2021\",\"19.05.2021: Обновилась стадия  \"Рассмотрение законопроекта в первом чтении \": 19.05.2021\",\"18.05.2021: Начато рассмотрение законопроекта в первом чтении.\",\"05.04.2021: Обновилась стадия  \"Предварительное рассмотрение законопроекта, внесенного в Государственную Думу \": 05.04.2021\",\"01.04.2021: Начато предварительное рассмотрение законопроекта.\"],\"groups_actions\":[],\"groups_pending_favourites\":[],\"hidden\":false,\"data\":{\"passport_files\":[{\"type\":\"pdf\",\"title\":\"Пакет документов при внесении\",\"url\":\"https://sozd.duma.gov.ru/download/563BACA6-D205-44AF-A62B-6323546D6F91\"}],\"previous_laws\":[\"government_301/26781/\"],\"passport_data\":[{\"header\":\"Субъект права законодательной инициативы\",\"value\":\"Правительство Российской Федерации\"},{\"header\":\"Форма законопроекта\",\"value\":\"Федеральный закон\"},{\"header\":\"Ответственный комитет\",\"value\":\"Комитет Государственной Думы по промышленности и торговле\"},{\"header\":\"Отрасль законодательства\",\"value\":\"090.000.000 Хозяйственная деятельность\"},{\"header\":\"Тематический блок законопроектов\",\"value\":\"Экономическая политика\"},{\"header\":\"Профильный комитет\",\"value\":\"Комитет Государственной Думы по экономической политике, промышленности, инновационному развитию и предпринимательству\"},{\"header\":\"Предмет ведения\",\"value\":\"Совместное ведение\"},{\"header\":\"Принадлежность к примерной программе\",\"value\":\"Включен в примерную программу решением  Государственной Думы на апрель 2023 года\"},{\"header\":\"Принадлежность к календарю\",\"value\":\"Включен в Календарь рассмотрения вопросов Государственной Думой на 29.06.2023\"}],\"stages\":[{\"title\":\"Внесение законопроекта в Государственную Думу\",\"childs\":[{\"date\":null,\"values\":[],\"files\":[],\"header\":\"Регистрация законопроекта и материалов к нему в САДД ГД\"},{\"date\":\"2021-03-29T16:52:32\",\"values\":[\"зарегистрирован и направлен Председателю Государственной Думы\"],\"files\":[{\"type\":\"doc\",\"title\":\"Текст внесенного законопроекта (Комитет Государственной Думы по экономической политике, промышленности, инновационному развитию и предпринимательству)\",\"url\":\"https://sozd.duma.gov.ru/download/EA146FBE-1B2F-4EAC-835A-DB2E21E664C0\"},{\"type\":\"doc\",\"title\":\"Пояснительная записка к законопроекту (Комитет Государственной Думы по экономической политике, промышленности, инновационному развитию и предпринимательству)\",\"url\":\"https://sozd.duma.gov.ru/download/EBDF5CD2-BCC4-4093-9F82-595E18D7C75D\"},{\"type\":\"doc\",\"title\":\"Финансово-экономическое обоснование (Комитет Государственной Думы по экономической политике, промышленности, инновационному развитию и предпринимательству)\",\"url\":\"https://sozd.duma.gov.ru/download/EAB2983D-82E5-49E9-B240-8D7C86B320E9\"},{\"type\":\"pdf\",\"title\":\"Пакет документов при внесении\",\"url\":\"https://sozd.duma.gov.ru/download/563BACA6-D205-44AF-A62B-6323546D6F91\"},{\"type\":\"doc\",\"title\":\"Перечень федеральных законов, подлежащих признанию утратившими силу, приостановлению, изменению или принятию (Комитет Государственной Думы по экономической политике, промышленности, инновационному развитию и предпринимательству)\",\"url\":\"https://sozd.duma.gov.ru/download/A952782E-6612-402C-9FF7-1126F487CCA1\"},{\"type\":\"doc\",\"title\":\"Перечень нормативных правовых актов Президента Российской Федерации, Правительства Российской Федерации и федеральных органов исполнительной власти, подлежащих признанию утратившими силу, приостановлению, изменению или принятию (Комитет Государственной Думы по экономической политике, промышленности, инновационному развитию и предпринимательству)\",\"url\":\"https://sozd.duma.gov.ru/download/61C2F3E6-7721-400A-95CE-F21DE35CB205\"}],\"header\":\"\"},{\"date\":null,\"values\":[],\"files\":[],\"header\":\"Прохождение законопроекта у Председателя Государственной Думы\"},{\"date\":\"2021-03-30T19:28:45\",\"values\":[\"направлен в комитет(ы) Государственной Думы (Комитет Государственной Думы по экономической политике, промышленности, инновационному развитию и предпринимательству)\"],\"files\":[],\"header\":\"\"}]},{\"title\":\"Предварительное рассмотрение законопроекта, внесенного в Государственную Думу\",\"childs\":[{\"date\":null,\"values\":[],\"files\":[],\"header\":\"Принятие профильным комитетом решения о представлении законопроекта в Совет Государственной Думы\"},{\"date\":\"2021-03-31T14:06:00\",\"values\":[\"предложить принять законопроект к рассмотрению (Предлагаемый срок представления отзывов, предложений и замечаний в комитет 05.05.2021)\"],\"files\":[{\"type\":\"doc\",\"title\":\"Проект решения Совета Государственной Думы (Комитет Государственной Думы по экономической политике, промышленности, инновационному развитию и предпринимательству)\",\"url\":\"https://sozd.duma.gov.ru/download/4D004A8D-9468-4033-8AA9-0981401EFF50\"},{\"type\":\"doc\",\"title\":\"Письмо в Совет Государственной Думы (Комитет Государственной Думы по экономической политике, промышленности, инновационному развитию и предпринимательству)\",\"url\":\"https://sozd.duma.gov.ru/download/CB75B6F4-12C0-4094-BD4F-96F6D30725C7\"},{\"type\":\"doc\",\"title\":\"Решение профильного комитета (Комитет Государственной Думы по экономической политике, промышленности, инновационному развитию и предпринимательству)\",\"url\":\"https://sozd.duma.gov.ru/download/87887189-12EC-4861-90A5-4765FE084E6B\"}],\"header\":\"\"},{\"date\":null,\"values\":[],\"files\":[],\"header\":\"Рассмотрение Советом Государственной Думы законопроекта, внесенного в Государственную Думу\"},{\"date\":\"2021-04-05T16:00:00\",\"values\":[\"назначить ответственный комитет (Комитет Государственной Думы по экономической политике, промышленности, инновационному развитию и предпринимательству); представить отзывы, предложения и замечания к законопроекту (05.05.2021); подготовить законопроект к рассмотрению Государственной Думой (Весенняя сессия); включить законопроект в примерную программу (Весенняя сессия; 2021; май); направить законопроект на заключение в Правовое управление\"],\"files\":[],\"header\":\"\"}]},{\"voting\":[],\"title\":\"Рассмотрение законопроекта в первом чтении\",\"childs\":[{\"date\":null,\"values\":[],\"files\":[],\"header\":\"Принятие ответственным комитетом решения о представлении законопроекта в Совет Государственной Думы\"},{\"date\":\"2021-05-19T13:57:00\",\"values\":[\"предложить принять законопроект в первом чтении (Предлагаемая дата рассмотрения Государственной Думой 25.05.2021; Рекомендуемый срок представления поправок 25.06.2021)\"],\"files\":[{\"type\":\"doc\",\"title\":\"Решение ответственного комитета (Комитет Государственной Думы по экономической политике, промышленности, инновационному развитию и предпринимательству)\",\"url\":\"https://sozd.duma.gov.ru/download/9A1ACB9E-464C-44F2-943A-D73C477C5B41\"},{\"type\":\"doc\",\"title\":\"Заключение ответственного комитета (Комитет Государственной Думы по экономической политике, промышленности, инновационному развитию и предпринимательству)\",\"url\":\"https://sozd.duma.gov.ru/download/CE9DB994-A717-4DC1-9E7F-E3DC9ACE10D0\"},{\"type\":\"doc\",\"title\":\"Письмо в Совет Государственной Думы (Комитет Государственной Думы по экономической политике, промышленности, инновационному развитию и предпринимательству)\",\"url\":\"https://sozd.duma.gov.ru/download/8382281B-3639-4600-AF10-AB91752E840C\"},{\"type\":\"doc\",\"title\":\"Проект постановления Государственной Думы (Комитет Государственной Думы по экономической политике, промышленности, инновационному развитию и предпринимательству)\",\"url\":\"https://sozd.duma.gov.ru/download/C84951B7-25D9-4C92-889E-640AE34BEA2C\"},{\"type\":\"doc\",\"title\":\"Проект решения Совета Государственной Думы (Комитет Государственной Думы по экономической политике, промышленности, инновационному развитию и предпринимательству)\",\"url\":\"https://sozd.duma.gov.ru/download/B6D411A8-5656-4E2A-8846-D11C7669985F\"},{\"type\":\"doc\",\"title\":\"Заключение Правового управления\",\"url\":\"https://sozd.duma.gov.ru/download/58996661-6012-4F34-AD51-BBAA654EEB6A\"}],\"header\":\"\"},{\"date\":null,\"values\":[],\"files\":[],\"header\":\"Рассмотрение Советом Государственной Думы законопроекта, представленного ответственным комитетом\"},{\"date\":\"2021-05-24T16:00:00\",\"values\":[\"внести законопроект на рассмотрение Государственной Думы (25.05.2021)\"],\"files\":[],\"header\":\"\"},{\"date\":null,\"values\":[],\"files\":[],\"header\":\"Рассмотрение законопроекта Государственной Думой\"},{\"date\":\"2021-05-25T17:43:00\",\"values\":[\"законопроект не рассматривался\"],\"files\":[],\"header\":\"\"},{\"date\":\"2021-05-26T13:25:00\",\"values\":[\"принять законопроект в первом чтении; представить поправки к законопроекту (Срок представления поправок в тридцатидневный срок со дня принятия постановления; 24.06.2021)\"],\"files\":[],\"header\":\"\"}]},{\"voting\":[],\"title\":\"Рассмотрение законопроекта во втором чтении\",\"childs\":[{\"date\":null,\"values\":[],\"files\":[],\"header\":\"Принятие ответственным комитетом решения о представлении законопроекта в Совет Государственной Думы\"},{\"date\":\"2023-03-01T13:44:00\",\"values\":[\"предложить изменить срок представления поправок (Предлагаемый срок представления поправок 14.04.2023)\"],\"files\":[{\"type\":\"doc\",\"title\":\"Решение комитета (Комитет Государственной Думы по промышленности и торговле)\",\"url\":\"https://sozd.duma.gov.ru/download/19FF22C2-786E-4133-BA83-07D0558E27A7\"},{\"type\":\"doc\",\"title\":\"Письмо в Совет ГД (Комитет Государственной Думы по промышленности и торговле)\",\"url\":\"https://sozd.duma.gov.ru/download/713F1E73-9AC9-412A-B520-145C071B1BDD\"},{\"type\":\"doc\",\"title\":\"Проект решения Совета Государственной Думы (Комитет Государственной Думы по промышленности и торговле)\",\"url\":\"https://sozd.duma.gov.ru/download/F7F4F3AA-1D01-4DBB-8EFA-C4011C5B0138\"}],\"header\":\"\"},{\"date\":\"2023-05-24T15:26:40\",\"values\":[],\"files\":[{\"type\":\"doc\",\"title\":\"Заключение Правового управления\",\"url\":\"https://sozd.duma.gov.ru/download/02CBC130-D165-4443-91FF-FE93E39DFA9C\"}],\"header\":\"\"},{\"date\":null,\"values\":[],\"files\":[],\"header\":\"Рассмотрение Советом Государственной Думы законопроекта, представленного ответственным комитетом\"},{\"date\":\"2021-10-25T11:44:00\",\"values\":[\"назначить ответственный комитет (Комитет Государственной Думы по промышленности и торговле)\"],\"files\":[],\"header\":\"\"},{\"date\":\"2023-03-13T16:00:00\",\"values\":[\"изменить срок представления поправок (14.04.2023)\"],\"files\":[],\"header\":\"\"}]}],\"project_ids\":\"1138398-7\"},\"favourites\":[],\"indexed_pdf\":true,\"main_image\":\"https://pravo.tracktrack.ru/static/categories_images/duma.jpg\",\"source\":\"duma\",\"title\":\"О внесении изменений в Закон Российской Федерации  \"О защите прав потребителей \" и Федеральный закон  \"Об альтернативной процедуре урегулирования споров с участием посредника (процедуре медиации) \" в части создания правовой основы для развития системы альтернативных онлайн-механизмов урегулирования споров\",\"groups_my_actions\":[],\"groups_deadlines\":[],\"groups_favourites\":[],\"rule_making_plan\":[],\"groups_themes_highlights\":[{\"theme\":\"Госнадзор\",\"text\":[\"требований, оценка соблюдения которых осуществляется в рамках государственного контроля (надзора), <em>муниципального</em>\",\"<em>контроля</em>, при рассмотрении дел об административных правонарушениях, или обязательных требований, соответствие\"],\"group\":\"RZD\"}],\"pub_date\":\"2021-03-29T13:52:32+00:00\",\"groups_digest_data\":[],\"project_id\":\"1138398-7\",\"actual_project_file\":{\"type\":\"doc\",\"title\":\"Текст внесенного законопроекта (Комитет Государственной Думы по экономической политике, промышленности, инновационному развитию и предпринимательству)\",\"url\":\"https://sozd.duma.gov.ru/download/EA146FBE-1B2F-4EAC-835A-DB2E21E664C0\"},\"text\":\"Государственная Дума ФСРФ~ Дата 29.03.2021 16:51 №1138398-7; и  ПРАВИТЕЛЬСТВО  Государственная Дума Федерального Собрания Российской Федерации  РОССИЙСКОЙ ФЕДЕРАЦИИ  « 29  »  марта.  20EL_г.  № 2757п-П10 МОСКВА  О внесении изменений в Закон Российской Федерации  \"О защите прав потребителей \" и Федеральный закон  \"Об альтернативной процедуре урегулирования споров с участием посредника (процедуре медиации) \" в части создания правовой основы для развития системы альтернативных онлайн-механизмов урегулирования споров\\'  В соответствии со статьей 104 Конституции Российской Федерации Правительство Российской Федерации вносит на рассмотрение Государственной Думы Федерального Собрания Российской Федерации проект федерального закона  \"О внесении изменений в Закон Российской Федерации  \"О защите прав потребителей \" и Федеральный закон  \"Об альтернативной процедуре урегулирования споров с участием посредника (процедуре медиации) \" в части создания правовой основы для развития системы альтернативных онлайн-механизмов урегулирования споров \". Приложение:-1. Текст законопроекта на 12 л. 2. Пояснительная записка к законопроекту на 7 л. 3. Финансово-экономическое обоснование к законопроекту на 1 л. 4. Перечень федеральных законов, подлежащих признанию утратившими силу, приостановлению, изменению или 4940427   fпринятию в связи в принятием проекта федерального закона, на 1 л. 5. Перечень нормативных правовых актов Президента Российской Федерации, Правительства Российской Федерации и федеральных органов исполнительной власти, подлежащих признанию утратившими силу, приостановлению, изменению или принятию в связи с принятием проекта федерального закона, на 2 л. 6. Распоряжение Правительства Российской Федерации по вопросу на 1 л.  Председатель Правительства Российской Федерации  М.Мишустин  4940427   fВносится Правительством Российской Федерации Проект л///$8398-1-  ФЕДЕРАЛЬНЫЙ ЗАКОН О внесении изменений в Закон Российской Федерации мО защите прав потребителей \" и Федеральный закон  \"Об альтернативной процедуре урегулирования споров с участием посредника (процедуре медиации) \" в части создания правовой основы для развития системы альтернативных онлайн-механизмов урегулирования споров Статья 1 Внести в Закон Российской Федерации от 7 февраля 1992 года № 2300-1  \"О защите прав потребителей \" (в редакции Федерального закона от 9 января 1996 года № 2-ФЗ) (Ведомости Съезда народных депутатов Российской Федерации и Верховного Совета Российской Федерации, 1992, №15, ст. 766; Собрание законодательства Российской Федерации 1996, № 3, ст. 140; 1999, №51, Ст. 6287; 2004, № 52, ст. 5275; 2007, № 44, ст. 5282; 2018, № 31, ст. 4839; 2020, № 31, ст. 5049) следующие изменения: 1) преамбулу дополнить абзацем следующего содержания:  91010402   fонлайн-сервис урегулирования споров в сфере  защиты  прав  потребителей - электронный сервис единого портала государственных и  муниципальных  рассмотрения  и  услуг,  обеспечивающий  удовлетворения  предусмотренных законодательством  процесс  предъявления,  требований о  защите  потребителей,  прав потребителей,  в рамках досудебного урегулирования споров между потребителем и  изготовителем  (исполнителем,  продавцом,  уполномоченной  организацией или уполномоченным индивидуальным предпринимателем, импортером, владельцем агрегатора), связанных с продажей товаров (выполнением  работ,  оказанием  информационно-телекоммуникационной  услуг) сети  с  использованием   \"Интернет \"  (далее  онлайн-сервис); 2) дополнить статьей 1б2 следующего содержания:  \"Статья 16 .  Урегулирование споров с использованием онлайн-сервиса  1. Положения настоящего Закона не применяются к отношениям, связанным с досудебным урегулированием споров между потребителями финансовых услуг и финансовыми организациями, предусмотренным Федеральным  законом  от  4 июня  2018 года  № 123-ФЭ   \"Об уполномоченном по правам потребителей финансовых услуг \". При этом допускается использование финансовыми организациями  91010402   fонлайн-сервиса для урегулирования споров с потребителями финансовых услуг,  не  подлежащих  рассмотрению  уполномоченным  по правам потребителей финансовых услуг. 2. В договоре, заключаемом между продавцом (исполнителем) или владельцем агрегатора и потребителем, может быть указана информация о возможности направления потребителем требований, предусмотренных законодательством (исполнителю,  о  защите  продавцу,  уполномоченному  прав  потребителей,  уполномоченной  индивидуальному  изготовителю  организации  предпринимателю,  или  импортеру,  владельцу агрегатора) посредством онлайн-сервиса. Указанная потребителя  информация  при  может  заключении  быть  доведена  соответствующего  до  сведения  договора  также  способами, принятыми в отдельных сферах обслуживания потребителей (в частности,  путем  размещения информации на сайте  (исполнителя)  или  владельца  телекоммуникационной электронных  сети  вычислительных  агрегатора   \"Интернет \" машин  либо  в  продавца  информационнов  программе  (компьютерной  для  программе)  продавца (исполнителя) или владельца агрегатора). В случае направления потребителем требований, предусмотренных законодательством  91010402  о  защите  прав  потребителей,  изготовителю   f(исполнителю,  продавцу,  уполномоченному  уполномоченной  индивидуальному  организации  предпринимателю,  или  импортеру,  владельцу агрегатора) посредством онлайн-сервиса потребитель не вправе предъявить такие же требования изготовителю (исполнителю, продавцу,  уполномоченной  организации  или  уполномоченному  индивидуальному предпринимателю, импортеру, владельцу агрегатора) в иной форме. 3. В результате урегулирования спора с использованием онлайнсервиса  стороны  соглашение,  (при  отсутствии  представляющее  разногласий)  собой  вправе  заключить  гражданско-правовой  договор.  Вопросы защиты прав, нарушенных в результате неисполнения или ненадлежащего  исполнения  Гражданским  кодексом  такого  соглашения,  Российской  регулируются  Федерации,  а  также  законодательством о защите прав потребителей. При отсутствии указанного соглашения требования потребителя к изготовителю (исполнителю, продавцу, уполномоченной организации или уполномоченному владельцу  индивидуальному  агрегатора),  удовлетворяются  направленные  изготовителем  предпринимателю, посредством (исполнителем,  импортеру,  онлайн-сервиса, продавцом,  уполномоченной организацией или уполномоченным индивидуальным  91010402   fпредпринимателем, импортером, владельцем агрегатора) в порядке, предусмотренном законодательством о защите прав потребителей. 4. Идентификация физического лица, участвующего в споре, и урегулирование спора с использованием онлайн-сервиса осуществляются посредством единой системы идентификации и аутентификации с применением усиленной квалифицированной электронной подписи либо усиленной неквалифицированной электронной подписи, сертификат ключа проверки которой создан и используется в инфраструктуре, обеспечивающей  информационно-технологическое  взаимодействие  информационных  систем,  предоставления  используемых  для  государственных и муниципальных услуг в электронной форме, в установленном Правительством Российской Федерации порядке и при условии  организации  взаимодействия  физического  лица  с  такой  инфраструктурой с применением прошедших в установленном порядке процедуру  оценки  соответствия  средств  защиты  информации.  Правительство Российской Федерации вправе определить случаи, когда указанная идентификация осуществляется посредством единой системы идентификации и аутентификации с использованием сведений единой информационной системы персональных данных, обеспечивающей их обработку, включая сбор и хранение биометрических персональных  91010402   fданных, их проверку и передачу информации о степени их соответствия предоставленным биометрическим персональным данным физического лица. 5. Онлайн-сервис обеспечивает для сторон спора: 1) возможность (исполнителю, уполномоченному  направления  продавцу,  покупателем  уполномоченной  индивидуальному  изготовителю  организации  предпринимателю,  или  импортеру,  владельцу агрегатора) требований и информации, необходимой для рассмотрения требований, в электронной форме; 2) возможность получения потребителем сведений, направленных изготовителем (исполнителем, продавцом, уполномоченной организацией или уполномоченным индивидуальным предпринимателем, импортером, владельцем агрегатора) посредством онлайн-сервиса о ходе и результатах рассмотрения требований; 3) возможность  привлечения  сторонами  спора  экспертов,  специалистов, медиаторов и иных независимых лиц в целях оказания ими содействия урегулированию спора с использованием онлайн-сервиса, если такое участие предусмотрено правилами урегулирования споров с использованием онлайн-сервиса;  91010402   f7 4) фиксацию  посредством  онлайн-сервиса  направленных  потребителем требований и момента их направления; 5) хранение в неизменном виде информации о дате направления потребителем  требований  о  предъявленных  содержании  с  использованием потребителем  онлайн-сервиса,  требований,  о  дате  рассмотрения требований потребителя и о содержании сообщений, которыми обмениваются стороны, в том числе сообщений о результате рассмотрения таких требований; 6) по требованию стороны спора, урегулируемого с использованием онлайн-сервиса, предоставление стороне спора информации о дате направления потребителем требований с использованием онлайн-сервиса, о содержании предъявленных потребителем требований и о содержании сообщений, которыми обмениваются стороны, в том числе сообщений о результате рассмотрения таких требований. Указанная информация предоставляется в срок, не превышающий пяти дней с даты получения запроса от стороны спора, и должна соответствовать установленным в соответствии  с  процессуальным  законодательством  требованиям,  предъявляемым к документам при рассмотрении дел в судах;  91010402   f8 7) защиту сведений, составляющих коммерческую, служебную и иную охраняемую законом тайну, а также персональных данных потребителей. \"; 3) дополнить главой III1 следующего содержания:  \"Глава III1.  Предъявление и рассмотрение требований потребителей и урегулирование споров с использованием онлайн-сервиса  Статья 392.  Предъявление и рассмотрение требований потребителей с использованием онлайн-сервиса  1. Требования, предусмотренные законодательством о защите прав потребителей, к изготовителю (исполнителю, продавцу, уполномоченной организации или уполномоченному индивидуальному предпринимателю, импортеру, владельцу агрегатора) могут быть направлены потребителем посредством  онлайн-сервиса,  если  до  сведения  потребителя  в соответствии с пунктами 1 и 2 статьи 162 настоящего Закона была доведена информация о  возможности рассмотрения изготовителем  (исполнителем,  продавцом,  уполномоченным  индивидуальным  владельцем  агрегатора)  уполномоченной  организацией  предпринимателем,  требований,  направленных  или  импортером, потребителем  посредством онлайн-сервиса. 2. Продавец  (исполнитель,  изготовитель,  уполномоченная  организация или уполномоченный индивидуальный предприниматель,  91010402   fимпортер,  владелец  агрегатора)  требования  потребителя  и  обязан  участвовать  принять в  к  рассмотрению  урегулировании  спора  с использованием онлайн-сервиса, если соблюдено условие, указанное в пункте 1 настоящей статьи. 3. С  потребителя  и  продавца  (исполнителя,  изготовителя,  уполномоченной организации или уполномоченного индивидуального предпринимателя, импортера, владельца агрегатора) за использование онлайн-сервиса при урегулировании споров плата не взимается. В  случае  привлечения  к  участию  в  урегулировании  спора  независимых лиц (экспертов, специалистов и других лиц, привлекаемых к участию в урегулировании спора в ходе рассмотрения требований потребителя) по инициативе изготовителя (исполнителя, продавца, уполномоченной организации или уполномоченного индивидуального предпринимателя, импортера, владельца агрегатора) или потребителя, если такое участие предусмотрено правилами урегулирования споров с использованием  онлайн-сервиса,  оплата  участия  указанных  лиц  в урегулировании споров осуществляется в соответствии с требованиями, предусмотренными пунктом 5 статьи 18 настоящего Закона. 4. В соглашении, предусмотренном пунктом 3 статьи 16 \"2 настоящего Закона,  91010402  лица,  участвующие  в  споре и (или)  его  урегулировании,   f10 предусматривают предъявленных  любой  из  законных  потребителем  вариантов  требований,  удовлетворения  отвечающий  интересам  участников спора. Статья 39J. Правила урегулирования споров с использованием онлайн-сервиса 1. Процедуры урегулирования споров с использованием онлайнсервиса должны осуществляться на основе принципов добросовестности, законности  и  специалистов  беспристрастности и  других  лиц,  независимых  лиц  привлекаемых  (экспертов, к  участию  в урегулировании спора в ходе рассмотрения требований потребителя) в  случае  их  привлечения  к  участию  в  урегулировании  спора  в соответствии с правилами урегулирования споров с использованием онлайн-сервиса, установленными Правительством Российской Федерации. 2. Правила урегулирования споров с использованием онлайнсервиса должны предусматривать: 1) сведения о категориях споров (требований), рассматриваемых с использованием онлайн-сервиса; 2) требования к независимым лицам (экспертам, специалистам и другим лицам, привлекаемым к участию в урегулировании спора в ходе рассмотрения требований потребителя), участвующим в споре и (или) его урегулировании с использованием онлайн-сервиса;  91010402   f11 3) порядок доступа пользователей к онлайн-сервису, в том числе потребителей, изготовителей (исполнителей, продавцов, уполномоченных организаций или уполномоченного индивидуального предпринимателя, импортера, владельца агрегатора), независимых лиц, участвующих в споре и (или) его урегулировании с использованием онлайн-сервиса; 4) порядок заключения соглашений в рамках урегулирования споров с использованием онлайн-сервиса; 5) указание на форму предоставления потребителю информации о дате направления потребителем требований с использованием онлайнсервиса и о результате их рассмотрения. В случае предоставления такой информации  в  электронной  форме  она  должна  соответствовать  установленным в соответствии с процессуальным законодательством требованиям, предъявляемым к документам при рассмотрении дел в судах; 6) иные требования, необходимые для урегулирования споров с использованием онлайн-сервиса. 3. На едином портале государственных и муниципальных услуг до сведения потребителя в наглядной и доступной форме должна быть доведена информация, предусмотренная пунктом 2 настоящей статьи, а также информация о бесплатном участии потребителя в урегулировании споров с использованием онлайн-сервиса. \".  91010402   f12  Статья 2 Часть 2  статьи 1  Федерального  закона  от  27 июля 2010 года  № 193-ФЭ  \"Об альтернативной процедуре урегулирования споров с участием посредника (процедуре медиации) \" (Собрание законодательства Российской Федерации, 2010, № 31, ст. 4162) после слова  \"гражданских \" дополнить  словами   \"правоотношений,  в  том  числе  с  участием  потребителей \".  Статья 3 Настоящий Федеральный закон вступает в силу по истечении двухсот семидесяти дней после дня его официального опубликования.  Президент Российской Федерации  91010402   fПОЯСНИТЕЛЬНАЯ ЗАПИСКА к проекту федерального закона  \"О внесении изменений в Закон Российской Федерации  \"О защите прав потребителей \" и Федеральный закон  \"Об альтернативной процедуре урегулирования споров с участием посредника (процедуре медиации) \" в части создания правовой основы для развития системы альтернативных онлайн-механизмов урегулирования споров \"  Во исполнение абзаца восьмого подпункта  \"г \" пункта 1 перечня поручений Президента Российской Федерации от 25 мая 2017 г. № Пр-1004ГС о формировании системы досудебного урегулирования споров по вопросам защиты прав потребителей и развития института независимой экспертизы качества товаров и услуг с участием в этой работе общественных объединений, ассоциаций (союзов) потребителей, а также в целях реализации пункта 01.01.008.006 плана мероприятий по направлению  \"Нормативное регулирование \" программы  \"Цифровая экономика Российской Федерации \", утвержденного Правительственной комиссией по использованию информационных технологий для улучшения качества жизни и условий ведения предпринимательской деятельности (протокол от 18 декабря 2017 г. № 2), подготовлен проект федерального закона  \"О внесении изменений в Закон Российской Федерации  \"О защите прав потребителей \" и Федеральный закон  \"Об альтернативной процедуре урегулирования споров с участием посредника (процедуре медиации) \" в части создания правовой основы для развития системы альтернативных онлайн-механизмов урегулирования споров (далее проект федерального закона). Проект федерального закона призван создать благоприятные условия для обеспечения эффективной защиты прав потребителей с использованием механизмов альтернативного урегулирования споров и информационных технологий, что позволит укрепить доверие потребителей к сфере онлайнторговли, упростить и сделать более доступной защиту их прав и снизить нагрузку на судебную систему. До настоящего времени в Российской Федерации отсутствовало правовое регулирование отношений по реализации процедур онлайн-урегулирования споров (далее - ОУС). Необходимость создания системы механизмов ОУС вызвана, главным образом, возрастающим числом жалоб потребителей, связанных с онлайнпокупками и оказанием онлайн-услуг, необходимостью сократить издержки потребителей и государства на ведение судебной защиты нарушенных прав  91010403   fпотребителей, издержки бизнеса на администрирование обработки и хранения претензий потребителей в бумажной форме. О тенденции роста Интернет-торговли в России заявила Ассоциация компаний Интернет-торговли: в 2017 году  \"рынок Интернет-торговли в Российской Федерации увеличился на 13% - до 1,04 трлн. рублей \", в 2018 году  \"ожидается ускорение роста рынка Интернет-торговли в России примерно на 20% \". Роспотребнадзор в ежегодном докладе за 2016 год отметил  \"ежегодный прирост жалоб потребителей в отношении хозяйствующих субъектов, чья деятельность по продаже товаров осуществляется посредством информационно-телекоммуникационной сети  \"Интернет \": если в 2012 году их было 3 412 (в 2013 году -6 072, в 2014 году - 7 815), то в 2015 году уже 8 536, а в 2016 году - 8 765 \". Предметом правового регулирования проекта федерального закона являются общественные отношения между сторонами гражданско-правовых потребительских споров, а именно потребителем и изготовителем (исполнителем, продавцом, уполномоченной организацией или уполномоченным индивидуальным предпринимателем, импортером, владельцем агрегатора) (далее -адресаты требований), если такие отношения связаны с: 1) применением механизмов ОУС, в том числе с участием нейтральных лиц (специалистов, экспертов, медиаторов и прочих); 2) созданием, обеспечением функционирования или использованием онлайн-сервиса - электронного сервиса в федеральной государственной информационной системе  \"Единый портал государственных и муниципальных услуг (функций) \", обеспечивающего процесс предъявления, рассмотрения и удовлетворения требований потребителей, предусмотренных законодательством о защите прав потребителей, и досудебного урегулирования споров между потребителем и изготовителем (исполнителем, продавцом, уполномоченной организацией или уполномоченным индивидуальным предпринимателем, импортером, владельцем агрегатора) при продаже товаров (выполнении работ, оказании услуг) с использованием информационнотелекоммуникационной сети  \"Интернет \". Закон Российской Федерации от 7 февраля 1992 г. № 2300-1  \"О защите прав потребителей \" (далее - Закон о защите прав потребителей) регулирует отношения, возникающие между потребителями и адресатами требований, устанавливает права потребителей и механизм реализации этих прав. Тем не менее, данный закон не указывает среди механизмов реализации прав  91010403   fпотребителей процедуры ОУС, хотя также не содержит препятствий для реализации такого рода процедур по взаимному согласию сторон. Механизм досудебного урегулирования споров уполномоченным по правам потребителей финансовых услуг, который предусмотрен Федеральным законом от 4 июня 2018 г. № 123-Ф3  \"Об уполномоченном по правам потребителей финансовых услуг \", не исключает такого урегулирования в режиме  \"онлайн \". Вместе с тем данный механизм не является универсальным, так как применяется для узкой категории споров, а также не раскрывает специфики осуществления ОУС посредством онлайн-платформ. Федеральный закон от 27 июля 2010 г. № 193-ФЭ  \"Об альтернативной процедуре урегулирования споров с участием посредника (процедуре медиации) \" регулирует отношения, связанные с процедурой медиации, однако в данном акте не учитывается возможность реализации данной процедуры онлайн (хотя для этого нет и препятствий). Таким образом, с учетом роста рынка Интернет-торговли, возрастающего числа жалоб потребителей на онлайн-покупки и онлайн-услуги, представляется необходимым создать правовую основу для развития системы альтернативных онлайн-механизмов урегулирования споров с целью формирования благоприятных условий для развития в России практики онлайнурегулирования потребительских споров, предоставления гарантий соблюдения прав потребителей при реализации процедур ОУС. В проекте федерального закона в качестве участников системы альтернативных онлайн-механизмов урегулирования споров выступают стороны потребительских споров: потребители и адресаты требований, нейтральные лица (специалисты, эксперты, медиаторы и прочие). Потенциально круг (предметные категории) потребительских споров, которые могут быть урегулированы с использованием процедур ОУС, не ограничен. Проект федерального закона предусматривает, что обязательное участие в ОУС может быть только в одном случае: если досудебный порядок ОУС установлен договором с потребителем и если потребитель явно согласился с такими условиями договора. В связи с этим адресаты требований должны использовать такие технические решения, которые позволят достоверно установить волеизъявление потребителя на включение в договор таких условий или на заключение договора без включения в него таких условий. Данное регулирование позволяет на основе принципов равноправия и добровольности сторон не только установить действующий механизм взаимодействия между потребителями и адресатами требований, но и учесть, что потребители должны принять осознанное решение, на которое указали адресаты требований.  91010403   f4 В случае, если федеральным законом или договором установлен досудебный порядок урегулирования спора, он считается соблюденным, если требования потребителей были направлены и приняты адресатами требований к рассмотрению с использованием онлайн-сервиса. Проект федерального закона устанавливает, что услуги онлайн-сервиса для потребителей являются бесплатными. В процессе урегулирования спора с использованием платформы возможно изменение требований потребителя по согласованию с ним. Например, вместо требования потребителя об устранении недостатков товара стороны могут договориться о возврате товара и возмещении его стоимости с предоставлением потребителю скидки на будущие покупки и так далее. Положениями статьи 39 проекта федерального закона предусмотрено, что процедуры урегулирования споров с использованием онлайн-сервиса будут осуществляться на основе принципов добросовестности, законности и беспристрастности независимых лиц (экспертов, специалистов и других лиц, привлекаемых к участию в урегулировании спора в ходе рассмотрения требований потребителя) в случае их привлечения к участию в урегулировании спора в соответствии с правилами урегулирования споров, установленными Правительством Российской Федерации. При этом пунктом 2 данной статьи предусмотрен обязательный перечень сведений и положений, которые должны содержаться в постановлении Правительства Российской Федерации. Поскольку в преамбуле Закона о защите прав потребителей предусмотрено, что уполномоченная изготовителем (продавцом) организация это организация, осуществляющая определенную деятельность, или организация, созданная на территории Российской Федерации изготовителем (продавцом), в том числе иностранным изготовителем (иностранным продавцом), выполняющие определенные функции на основании договора с изготовителем (продавцом) и уполномоченные им на принятие и удовлетворение требований потребителей в отношении товара ненадлежащего качества, полагаем, что онлайн-сервисы могут быть использованы и при предъявлении требований к таким уполномоченным организациям в отношении товаров и услуг, произведенных иностранными хозяйствующими субъектами. Стоит отметить, что проект федерального закона нацелен на воплощение рекомендаций Организации экономического сотрудничества и развития (далее - ОЭСР), направленных на развитие электронной коммерции. В Рекомендациях о защите потребителей в контексте электронной торговли, принятых 9 декабря 1999 г., ОЭСР заявила о значимости развития  91010403   fальтернативных процедур урегулирования потребительских споров в сфере электронной коммерции, в том числе осуществляемых онлайн. 24 мая 2016 г. вышеназванные Рекомендации после пересмотра и усовершенствования утверждены в новой редакции. В соответствии с пунктом 43 Рекомендаций ОЭСР о защите потребителей в электронной коммерции от 24 мая 2016 г. (далее Рекомендации 2016 года): потребителям должны быть предоставлены эффективный доступ к справедливому, простому в использовании, прозрачному и эффективному механизму своевременного разрешения местных и трансграничных споров в сфере электронной коммерции и возможность получения требуемого возмещения, как полагается, без необходимости нести излишние расходы и обременения; такие механизмы могут включать в себя внесудебные механизмы, такие как обработка внутренних жалоб и альтернативное урегулирование споров. Согласно пункту 45 Рекомендаций 2016 года потребителям следует обеспечить доступ к механизмам альтернативного урегулирования споров, включая системы урегулирования споров онлайн и содействия урегулированию споров по жалобам в связи с осуществлением электронных транзакций, особое внимание уделив транзакциям с низкой стоимостью или трансграничным. ОЭСР в пункте 53 Рекомендаций 2016 года для достижения поставленных целей предлагает правительствам государств совместно с заинтересованными лицами: оказывать поддержку развитию эффективных механизмов совместного регулирования и саморегулирования, которые помогают усиливать доверие в сфере электронной коммерции, в том числе посредством поощрения эффективных механизмов урегулирования споров; оказывать поддержку продолжающемуся развитию технологий как средству для защиты потребителей и предоставления им дополнительных возможностей. Проект федерального закона учитывает требование Рекомендаций 2016 года и предлагает доступный для потребителей внесудебный механизм урегулирования потребительских споров с использованием онлайн-платформ. При подготовке проекта федерального закона также рассматривались иные международные и зарубежные подходы к регулированию и внедрению процедур ОУС.  91010403   fНа международном уровне идея ОУС продвигается Комиссией ООН по праву международной торговли (ЮНСИТРАЛ). На 33-й сессии Рабочей группы III (Урегулирование споров в режиме  \"онлайн \") ЮНСИТРАЛ (Нью-Йорк, 27 июня - 15 июля 2016 г.) представлен проект итогового документа  \"Технические комментарии по урегулированию споров в режиме онлайн \", отражающего элементы и принципы процедуры ОУС (далее - Технические комментарии). Процедура, определенная в пункте 2 Технических комментариев, допускает  \"широкий набор подходов и форм \". Широкий подход допускает разнообразие процедур разрешения споров и возможность участия независимых лиц различных видов. Европейским союзом 21 мая 2013 г. приняты Регламент  \"Об урегулировании споров с участием потребителей онлайн \" и Директива  \"Об альтернативном урегулировании споров с участием потребителей \" (далее Регламент, Директива соответственно). Созданный в соответствии с Регламентом публичный информационный ресурс для ОУС (платформа ODR) с участием потребителей начал функционировать в январе 2016 г. Оператором платформы ODR выступает Европейская комиссия. Урегулированию споров на данной платформе содействуют определенные в соответствии с Директивой независимые посредники. Представляет также интерес национальный уровень регулирования ОУС. Так, в Канаде на территории провинции Британская Колумбия с 2017 года функционирует онлайн-арбитраж по разрешению гражданских споров (далее - CRT). CRT разрешает споры по материальным требованиям до 5 тыс. долларов, а также споры, вытекающие из совместного владения собственностью. CRT разрешает споры главным образом посредством сервисов ОУС. Согласно статье 1 канадского закона об арбитраже по разрешению гражданских споров от 31 мая 2012 г. под сервисом онлайн-урегулирования споров понимаются сервисы урегулирования споров, которые предоставляются посредством электронных коммуникационных средств и направлены на оказание поддержки сторонам в урегулировании спора путем заключения соглашения без прямого участия со стороны служащего арбитража или лица, назначенного или нанятого арбитражем для организации процесса урегулирования спора. Проект учитывает признание значимости альтернативных процедур урегулирования споров на международном уровне и предлагает воплотить  91010403   f7 идею ОУС для укрепления доверия потребителей к онлайн-покупкам и оилайи-услугам, а также позволит снизить нагрузку на российские суды. Проект федерального закона соответствует положениям Договора о Евразийском экономическом союзе, а также положениям иных международных договоров Российской Федерации. Реализация положений, предусмотренных проектом федерального закона, не повлечет социально-экономических, финансовых и иных последствий, в том числе для субъектов предпринимательской и иной экономической деятельности, а также не повлияет на достижение целей государственных программ Российской Федерации. Проект федерального закона не предусматривает обязательных требований, оценка соблюдения которых осуществляется в рамках государственного контроля (надзора), муниципального контроля, при рассмотрении дел об административных правонарушениях, или обязательных требований, соответствие которым проверяется при выдаче разрешений, лицензий, аттестатов аккредитации, иных документов, имеющих разрешительный характер.  91010403   fФИНАНСОВО-ЭКОНОМИЧЕСКОЕ ОБОСНОВАНИЕ к проекту федерального закона мО внесении изменений в Закон Российской Федерации  \"О защите прав потребителей \" и Федеральный закон  \"Об альтернативной процедуре урегулирования споров с участием посредника (процедуре медиации) \" в части создания правовой основы для развития системы альтернативных онлайнмеханизмов урегулирования споров \"  Реализация положений, предусмотренных проектом федерального закона  \"О внесении изменений в Закон Российской Федерации  \"О защите прав потребителей \" и Федеральный закон  \"Об альтернативной процедуре урегулирования споров с участием посредника (процедуре медиации) \" в части создания правовой основы для развития системы альтернативных онлайнмеханизмов урегулирования споров \", не потребует дополнительных расходов, покрываемых за счет федерального бюджета, и будет осуществляться в рамках текущего финансирования, выделенного на функционирование федеральной государственной информационной системы  \"Единый портал государственных и муниципальных услуг (функций) \".  91010404   fПЕРЕЧЕНЬ федеральных законов, подлежащих признанию утратившими силу, приостановлению, изменению или принятию в связи с принятием федерального закона  \"О внесении изменений в Закон Российской Федерации  \"О защите прав потребителей \" и Федеральный закон  \"Об альтернативной процедуре урегулирования споров с участием посредника (процедуре медиации) \" в части создания правовой основы для развития системы альтернативных онлайн-механизмов урегулирования споров \"  Принятие федерального закона  \"О внесении изменений в Закон Российской Федерации  \"О защите прав потребителей \" и Федеральный закон  \"Об альтернативной процедуре урегулирования споров с участием посредника (процедуре медиации) \" в части создания правовой основы для развития системы альтернативных онлайн-механизмов урегулирования споров \" не потребует признания утратившими силу, приостановления, изменения федеральных законов.  91010405   fПЕРЕЧЕНЬ нормативных правовых актов Президента Российской Федерации, Правительства Российской Федерации и федеральных органов исполнительной власти, подлежащих признанию утратившими силу, приостановлению, изменению или принятию в связи с принятием федерального закона  \"О внесении изменений в Закон Российской Федерации  \"О защите прав потребителей \" и Федеральный закон  \"Об альтернативной процедуре урегулирования споров с участием посредника (процедуре медиации) \" в части создания правовой основы для развития системы альтернативных онлайн-механизмов урегулирования споров \" о  В соответствии с проектируемой частью 1 статьи 39 федерального закона  \"О внесении изменений в Закон Российской Федерации  \"О защите прав потребителей \" и Федеральный закон  \"Об альтернативной процедуре урегулирования споров с участием посредника (процедуре медиации) \" в части создания правовой основы для развития системы альтернативных онлайнмеханизмов урегулирования споров \" потребуется: 1) внесение изменений в постановление Правительства Российской Федерации от 24 октября 2011г. №861  \"О федеральных государственных информационных системах, обеспечивающих предоставление в электронной форме государственных и муниципальных услуг (осуществление функций) \". Ответственный исполнитель - Министерство цифрового развития, связи и массовых коммуникаций Российской Федерации. Соисполнитель - Министерство экономического развития Российской Федерации. Срок подготовки: в течение шести месяцев со дня вступления в силу Федерального закона; 2) принятие постановления Правительства Российской Федерации  \"Об утверждении порядка урегулирования споров с использованием онлайнсервиса урегулирования споров в сфере защиты прав потребителей \". Ответственный исполнитель - Министерство юстиции Российской Федерации. Соисполнители - Министерство цифрового развития, связи и массовых коммуникаций Российской Федерации, Министерство экономического развития Российской Федерации и Роспотребнадзор. Срок принятия - 6 месяцев с даты вступления в силу федерального закона.  91010406   f3) принятие постановления Правительства Российской Федерации  \"Об утверждении порядка использования электронной подписи, а также видов возможных для использования при работе с онлайн-сервисом урегулирования споров в сфере защиты прав потребителей электронных подписей \". Ответственный исполнитель - Министерство цифрового развития, связи и массовых коммуникаций Российской Федерации. Срок принятия - 6 месяцев с даты вступления в силу федерального закона.  91010406   fПРАВИТЕЛЬСТВО РОССИЙСКОЙ ФЕДЕРАЦИИ РАСПОРЯЖЕНИЕ от 27 марта 2021 г. № 744-р МОСКВА  1. Внести в Государственную Думу Федерального Собрания Российской Федерации проект федерального закона  \"О внесении изменений в Закон Российской Федерации  \"О защите прав потребителей \" и Федеральный закон  \"Об альтернативной процедуре урегулирования споров с участием посредника (процедуре медиации) \" в части создания правовой основы для развития системы альтернативных онлайнмеханизмов урегулирования споров \". 2. Назначить статс-секретаря - заместителя Министра юстиции Российской Федерации Логинова Андрея Викторовича официальным представителем Правительства Российской Федерации при рассмотрении палатами Федерального Собрания Российской Федерации проекта федерального закона  \"О внесении изменений в Закон Российской Федерации  \"О защите прав потребителей \" и Федеральный закон  \"Об альтернативной процедуре урегулирования споров с участием посредника (процедуре медиации) \" в части создания правовой основы для развития системы альтернативных онлайн-механизмов урегулирования споров \".  Председатель Правит Российской Федер  4949833  М.Мишустин   f\",\"substituted_title\":\"О внесении изменений в Закон РФ  \"О защите прав потребителей \" и ФЗ  \"Об альтернативной процедуре урегулирования споров с участием посредника (процедуре медиации) \" в части создания правовой основы для развития системы альтернативных онлайн-механизмов урегулирования споров\",\"slug\":\"1138398-7\",\"document_type\":\"Законопроекты\",\"unfavourites\":[],\"importance_highlights\":[{\"text\":[\"<em>данных</em>, обеспечивающей их обработку, включая сбор и хранение биометрических персональных 91010402 6\",\"данных, их проверку и передачу информации о степени их соответствия предоставленным биометрическим <em>персональным</em>\",\"<em>данным</em> физического лица. 5.\",\"8 7) tзащиту сведений, составляющих коммерческую, служебную и иную охраняемую законом тайну, а также <em>персональных</em>\",\"<em>данных</em> потребителей\"],\"group\":\"Sveza\"},{\"text\":[\"Собрания <em>Российской</em> <em>Федерации</em> проект федерального закона  \"О внесении изменений в Закон <em>Российской</em> <em>Федерации</em>\",\"Перечень нормативных правовых актов Президента <em>Российской</em> <em>Федерации</em>, Правительства <em>Российской</em> <em>Федерации</em>\",\"Совета <em>Российской</em> <em>Федерации</em>, 1992, №15, ст. 766; Собрание законодательства <em>Российской</em> <em>Федерации</em> 1996,\",\" \"ожидается ускорение роста рынка Интернет-торговли в <em>России</em> примерно на 20% \".\",\"Собрания <em>Российской</em> <em>Федерации</em> проекта федерального закона  \"О внесении изменений в Закон <em>Российской</em> <em>Федерации</em>\"],\"title\":[\"О внесении изменений в Закон <em>Российской</em> <em>Федерации</em>  \"О защите прав потребителей \" и Федеральный закон  \"Об\"],\"group\":\"russia\"}],\"groups_modified_date\":[],\"important_to_group\":[\"utkonos\",\"rtc\",\"eco_RZDLawyers\",\"eco_SvezaOSH\",\"PanferovM_RTC\",\"GolubK_VK\",\"CKI_Dagests_RZD\",\"eco_SvezaIS\",\"to_do_list_test\",\"ObukhovaE_VK\",\"KonovalovaT_RTC\",\"rtc_gr_Perova\",\"ShlyandinaA_RTC\",\"rtc_gr\",\"MuratovaV_RTC\",\"DenotkinaA_RTC\",\"DanilovaK_RTC\",\"rtc_gr_Pekhtasheva\"],\"groups_themes\":[{\"themes\":[\"152 ФЗ о Персональных данных\",\"ГК РФ\"],\"theme_ids\":[505,507],\"group\":\"ObukhovaE_VK\"},{\"themes\":[\"152 ФЗ о Персональных данных\",\"ГК РФ\"],\"theme_ids\":[509,511],\"group\":\"GolubK_VK\"},{\"themes\":[\"Биометрические персональные данные\",\"Биометрия\",\"Электронное Правительство\"],\"theme_ids\":[492,493,501],\"group\":\"DanilovaK_RTC\"},{\"themes\":[\"Биометрические персональные данные\"],\"theme_ids\":[516],\"group\":\"CKI_Dagests_RZD\"},{\"themes\":[\"Биометрия\",\"Идентификация, аутентификация\",\"Информационное право\",\"Информационные системы\",\"Информационные технологии\",\"Национальный проект  \"Цифровая экономика \"\",\"Телекоммуникации\"],\"theme_ids\":[97,101,102,104,105,110,113],\"group\":\"rtc\"},{\"themes\":[\"Биометрия\",\"Идентификация и аутентификация\"],\"theme_ids\":[451,453],\"group\":\"ShlyandinaA_RTC\"},{\"themes\":[\"Биометрия-ЕБС\",\"ЕПГУ\",\"Информационные технологии\",\"Минцифры\",\"Телекоммуникации\"],\"theme_ids\":[415,417,419,421,423],\"group\":\"rtc_gr_Perova\"},{\"themes\":[\"Вход в информационную инфраструктуру\",\"Информационные системы\",\"ЕПГУ\",\"Единая система идентификации и аутентификации\",\"Минцифры\"],\"theme_ids\":[432,433,435,434,440],\"group\":\"rtc_gr\"},{\"themes\":[\"Госнадзор\",\"Гражданский кодекс\",\"Гражданское право\",\"Инфраструктура на железнодорожном транспорте\"],\"theme_ids\":[230,233,235,243],\"group\":\"eco_RZDLawyers\"},{\"themes\":[\"Гражданский кодекс\",\"Защита прав потребителей\",\"Защита прав потребителей только по Названию\",\"Идентификация\"],\"theme_ids\":[74,536,537,538],\"group\":\"utkonos\"},{\"themes\":[\"Единая система идентификации и аутентификации\",\"Единый портал государственных и муниципальных услуг\",\"Персональные данные\"],\"theme_ids\":[466,467,468],\"group\":\"MuratovaV_RTC\"},{\"themes\":[\"Единая система идентификации и аутентификации\",\"Единый портал государственных и муниципальных услуг\",\"Персональные данные\"],\"theme_ids\":[479,480,481],\"group\":\"DenotkinaA_RTC\"},{\"themes\":[\"Единый портал государственных услуг\",\"Инфраструктура электронного правительства\"],\"theme_ids\":[460,461],\"group\":\"PanferovM_RTC\"},{\"themes\":[\"Информационные технологии\",\"Телекоммуникации\"],\"theme_ids\":[428,431],\"group\":\"rtc_gr_Pekhtasheva\"},{\"themes\":[\"Лицензирование ОПО\"],\"theme_ids\":[186],\"group\":\"eco_SvezaIS\"},{\"themes\":[\"ЕПГУ\",\"Единая система идентификации и аутентификации\"],\"theme_ids\":[447,448],\"group\":\"KonovalovaT_RTC\"},{\"themes\":[\"Техническое регулирование\"],\"theme_ids\":[216],\"group\":\"eco_SvezaOSH\"},{\"themes\":[\"Россия\"],\"theme_ids\":[354],\"group\":\"to_do_list_test\"}],\"modified_date\":\"2023-03-16T00:03:28.582342+00:00\",\"url\":\"https://sozd.duma.gov.ru/bill/1138398-7\",\"groups_waiting_answer\":[],\"file_extension\":\"pdf\",\"elastic_id\":\"duma_1138398-7\",\"category\":\"Госдума\"}}'"
      ]
     },
     "execution_count": 204,
     "metadata": {},
     "output_type": "execute_result"
    }
   ],
   "source": [
    "str(nlp(text))"
   ]
  },
  {
   "attachments": {},
   "cell_type": "markdown",
   "metadata": {},
   "source": [
    "### Annotation"
   ]
  },
  {
   "cell_type": "code",
   "execution_count": null,
   "metadata": {},
   "outputs": [],
   "source": [
    "for i in range(2, 31):\n",
    "    wb = openpyxl.load_workbook(r'C:\\Users\\Mekan\\Downloads\\Track Track\\27.06.2023\\Акты для тестирования вариантов формул векторного анализа.xlsx')\n",
    "    ws = wb['Документ 4']\n",
    "# This will fail if there is no hyperlink to target\n",
    "    url = ws.cell(row=i, column=4).hyperlink.target"
   ]
  },
  {
   "cell_type": "code",
   "execution_count": 9,
   "metadata": {},
   "outputs": [],
   "source": [
    "wb = openpyxl.load_workbook(r'C:\\Users\\Mekan\\Downloads\\Track Track\\28.06.2023\\Копия Акты для тестирования вариантов формул векторного анализа4.xlsx')\n",
    "ws = wb['Документ 3']\n",
    "# This will fail if there is no hyperlink to target\n",
    "annotation = ws.cell(row=2, column=13).value"
   ]
  },
  {
   "cell_type": "code",
   "execution_count": 10,
   "metadata": {},
   "outputs": [
    {
     "data": {
      "text/plain": [
       "'=IFERROR(__xludf.DUMMYFUNCTION(\" GOOGLETRANSLATE(C2, \"\"ru\"\", \"\"en\"\")\"),\"The norms and procedure for the internship and certification of drivers of cars and tractor drive drivers during the operation of mechanical vehicles, including technological transport, regardless of their place of operation for the company of Alros, are \"&\"fixed\\n\")'"
      ]
     },
     "execution_count": 10,
     "metadata": {},
     "output_type": "execute_result"
    }
   ],
   "source": [
    "annotation"
   ]
  },
  {
   "cell_type": "code",
   "execution_count": 214,
   "metadata": {},
   "outputs": [
    {
     "name": "stderr",
     "output_type": "stream",
     "text": [
      "  3%|▎         | 1/29 [00:05<02:38,  5.64s/it]"
     ]
    },
    {
     "name": "stdout",
     "output_type": "stream",
     "text": [
      "Similarity with 1 th document is: 0.8691\n"
     ]
    },
    {
     "name": "stderr",
     "output_type": "stream",
     "text": [
      "  7%|▋         | 2/29 [00:08<01:45,  3.92s/it]"
     ]
    },
    {
     "name": "stdout",
     "output_type": "stream",
     "text": [
      "Similarity with 2 th document is: 0.9597\n"
     ]
    },
    {
     "name": "stderr",
     "output_type": "stream",
     "text": [
      " 10%|█         | 3/29 [00:13<01:59,  4.59s/it]"
     ]
    },
    {
     "name": "stdout",
     "output_type": "stream",
     "text": [
      "Similarity with 3 th document is: 0.8025\n"
     ]
    },
    {
     "name": "stderr",
     "output_type": "stream",
     "text": [
      " 14%|█▍        | 4/29 [00:16<01:36,  3.85s/it]"
     ]
    },
    {
     "name": "stdout",
     "output_type": "stream",
     "text": [
      "Similarity with 4 th document is: 0.7736\n"
     ]
    },
    {
     "name": "stderr",
     "output_type": "stream",
     "text": [
      " 17%|█▋        | 5/29 [00:19<01:29,  3.72s/it]"
     ]
    },
    {
     "name": "stdout",
     "output_type": "stream",
     "text": [
      "Similarity with 5 th document is: 0.7525\n"
     ]
    },
    {
     "name": "stderr",
     "output_type": "stream",
     "text": [
      " 21%|██        | 6/29 [00:24<01:29,  3.89s/it]"
     ]
    },
    {
     "name": "stdout",
     "output_type": "stream",
     "text": [
      "Similarity with 6 th document is: 0.7205\n"
     ]
    },
    {
     "name": "stderr",
     "output_type": "stream",
     "text": [
      " 24%|██▍       | 7/29 [00:27<01:20,  3.65s/it]"
     ]
    },
    {
     "name": "stdout",
     "output_type": "stream",
     "text": [
      "Similarity with 7 th document is: 0.6868\n"
     ]
    },
    {
     "name": "stderr",
     "output_type": "stream",
     "text": [
      " 28%|██▊       | 8/29 [00:29<01:08,  3.28s/it]"
     ]
    },
    {
     "name": "stdout",
     "output_type": "stream",
     "text": [
      "Similarity with 8 th document is: 0.6822\n"
     ]
    },
    {
     "name": "stderr",
     "output_type": "stream",
     "text": [
      " 31%|███       | 9/29 [00:32<01:03,  3.16s/it]"
     ]
    },
    {
     "name": "stdout",
     "output_type": "stream",
     "text": [
      "Similarity with 9 th document is: 0.6336\n"
     ]
    },
    {
     "name": "stderr",
     "output_type": "stream",
     "text": [
      " 34%|███▍      | 10/29 [00:35<01:00,  3.19s/it]"
     ]
    },
    {
     "name": "stdout",
     "output_type": "stream",
     "text": [
      "Similarity with 10 th document is: 0.5884\n"
     ]
    },
    {
     "name": "stderr",
     "output_type": "stream",
     "text": [
      " 38%|███▊      | 11/29 [00:39<00:57,  3.18s/it]"
     ]
    },
    {
     "name": "stdout",
     "output_type": "stream",
     "text": [
      "Similarity with 11 th document is: 0.7019\n"
     ]
    },
    {
     "name": "stderr",
     "output_type": "stream",
     "text": [
      " 41%|████▏     | 12/29 [00:43<00:58,  3.41s/it]"
     ]
    },
    {
     "name": "stdout",
     "output_type": "stream",
     "text": [
      "Similarity with 12 th document is: 0.6579\n"
     ]
    },
    {
     "name": "stderr",
     "output_type": "stream",
     "text": [
      " 45%|████▍     | 13/29 [00:46<00:52,  3.28s/it]"
     ]
    },
    {
     "name": "stdout",
     "output_type": "stream",
     "text": [
      "Similarity with 13 th document is: 0.7093\n"
     ]
    },
    {
     "name": "stderr",
     "output_type": "stream",
     "text": [
      " 48%|████▊     | 14/29 [00:49<00:47,  3.18s/it]"
     ]
    },
    {
     "name": "stdout",
     "output_type": "stream",
     "text": [
      "Similarity with 14 th document is: 0.7337\n"
     ]
    },
    {
     "name": "stderr",
     "output_type": "stream",
     "text": [
      " 52%|█████▏    | 15/29 [00:52<00:44,  3.15s/it]"
     ]
    },
    {
     "name": "stdout",
     "output_type": "stream",
     "text": [
      "Similarity with 15 th document is: 0.5095\n"
     ]
    },
    {
     "name": "stderr",
     "output_type": "stream",
     "text": [
      " 55%|█████▌    | 16/29 [00:55<00:41,  3.21s/it]"
     ]
    },
    {
     "name": "stdout",
     "output_type": "stream",
     "text": [
      "Similarity with 16 th document is: 0.6315\n"
     ]
    },
    {
     "name": "stderr",
     "output_type": "stream",
     "text": [
      " 59%|█████▊    | 17/29 [00:58<00:39,  3.29s/it]"
     ]
    },
    {
     "name": "stdout",
     "output_type": "stream",
     "text": [
      "Similarity with 17 th document is: 0.7627\n"
     ]
    },
    {
     "name": "stderr",
     "output_type": "stream",
     "text": [
      " 62%|██████▏   | 18/29 [01:01<00:34,  3.17s/it]"
     ]
    },
    {
     "name": "stdout",
     "output_type": "stream",
     "text": [
      "Similarity with 18 th document is: 0.6057\n"
     ]
    },
    {
     "name": "stderr",
     "output_type": "stream",
     "text": [
      " 66%|██████▌   | 19/29 [01:04<00:31,  3.12s/it]"
     ]
    },
    {
     "name": "stdout",
     "output_type": "stream",
     "text": [
      "Similarity with 19 th document is: 0.7111\n"
     ]
    },
    {
     "name": "stderr",
     "output_type": "stream",
     "text": [
      " 69%|██████▉   | 20/29 [01:07<00:27,  3.02s/it]"
     ]
    },
    {
     "name": "stdout",
     "output_type": "stream",
     "text": [
      "Similarity with 20 th document is: 0.6532\n"
     ]
    },
    {
     "name": "stderr",
     "output_type": "stream",
     "text": [
      " 72%|███████▏  | 21/29 [01:10<00:24,  3.01s/it]"
     ]
    },
    {
     "name": "stdout",
     "output_type": "stream",
     "text": [
      "Similarity with 21 th document is: 0.6451\n"
     ]
    },
    {
     "name": "stderr",
     "output_type": "stream",
     "text": [
      " 76%|███████▌  | 22/29 [01:13<00:20,  2.92s/it]"
     ]
    },
    {
     "name": "stdout",
     "output_type": "stream",
     "text": [
      "Similarity with 22 th document is: 0.7243\n"
     ]
    },
    {
     "name": "stderr",
     "output_type": "stream",
     "text": [
      " 79%|███████▉  | 23/29 [01:16<00:17,  2.88s/it]"
     ]
    },
    {
     "name": "stdout",
     "output_type": "stream",
     "text": [
      "Similarity with 23 th document is: 0.6726\n"
     ]
    },
    {
     "name": "stderr",
     "output_type": "stream",
     "text": [
      " 83%|████████▎ | 24/29 [01:18<00:14,  2.87s/it]"
     ]
    },
    {
     "name": "stdout",
     "output_type": "stream",
     "text": [
      "Similarity with 24 th document is: 0.7095\n"
     ]
    },
    {
     "name": "stderr",
     "output_type": "stream",
     "text": [
      " 86%|████████▌ | 25/29 [01:21<00:11,  2.78s/it]"
     ]
    },
    {
     "name": "stdout",
     "output_type": "stream",
     "text": [
      "Similarity with 25 th document is: 0.7342\n"
     ]
    },
    {
     "name": "stderr",
     "output_type": "stream",
     "text": [
      " 90%|████████▉ | 26/29 [01:24<00:08,  2.85s/it]"
     ]
    },
    {
     "name": "stdout",
     "output_type": "stream",
     "text": [
      "Similarity with 26 th document is: 0.7238\n"
     ]
    },
    {
     "name": "stderr",
     "output_type": "stream",
     "text": [
      " 93%|█████████▎| 27/29 [01:27<00:05,  2.99s/it]"
     ]
    },
    {
     "name": "stdout",
     "output_type": "stream",
     "text": [
      "Similarity with 27 th document is: 0.7114\n"
     ]
    },
    {
     "name": "stderr",
     "output_type": "stream",
     "text": [
      " 97%|█████████▋| 28/29 [01:30<00:03,  3.05s/it]"
     ]
    },
    {
     "name": "stdout",
     "output_type": "stream",
     "text": [
      "Similarity with 28 th document is: 0.6336\n"
     ]
    },
    {
     "name": "stderr",
     "output_type": "stream",
     "text": [
      "100%|██████████| 29/29 [01:34<00:00,  3.27s/it]"
     ]
    },
    {
     "name": "stdout",
     "output_type": "stream",
     "text": [
      "Similarity with 29 th document is: 0.7797\n"
     ]
    },
    {
     "name": "stderr",
     "output_type": "stream",
     "text": [
      "\n"
     ]
    }
   ],
   "source": [
    "for i in tqdm(range(2, 31)):\n",
    "    wb = openpyxl.load_workbook(r'C:\\Users\\Mekan\\Downloads\\Track Track\\27.06.2023\\Акты для тестирования вариантов формул векторного анализа.xlsx')\n",
    "    ws = wb['Документ 4']\n",
    "# This will fail if there is no hyperlink to target\n",
    "    giv = ws.cell(row=i, column=5).value\n",
    "    print(\"Similarity with\", i-1, \"th document is:\", round(sentence_similarity(annotation, giv), 4))"
   ]
  }
 ],
 "metadata": {
  "kernelspec": {
   "display_name": "Python 3",
   "language": "python",
   "name": "python3"
  },
  "language_info": {
   "codemirror_mode": {
    "name": "ipython",
    "version": 3
   },
   "file_extension": ".py",
   "mimetype": "text/x-python",
   "name": "python",
   "nbconvert_exporter": "python",
   "pygments_lexer": "ipython3",
   "version": "3.11.1"
  },
  "orig_nbformat": 4
 },
 "nbformat": 4,
 "nbformat_minor": 2
}
