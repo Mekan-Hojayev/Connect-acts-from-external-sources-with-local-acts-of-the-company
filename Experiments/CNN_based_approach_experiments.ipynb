{
  "metadata": {
    "colab": {
      "provenance": [],
      "gpuType": "T4"
    },
    "kernelspec": {
      "name": "python3",
      "display_name": "Python 3"
    },
    "language_info": {
      "name": "python",
      "version": "3.7.12",
      "mimetype": "text/x-python",
      "codemirror_mode": {
        "name": "ipython",
        "version": 3
      },
      "pygments_lexer": "ipython3",
      "nbconvert_exporter": "python",
      "file_extension": ".py"
    },
    "accelerator": "GPU",
    "widgets": {
      "application/vnd.jupyter.widget-state+json": {
        "9d941319c0c04b83b9cb13b002a4cac7": {
          "model_module": "@jupyter-widgets/controls",
          "model_name": "HBoxModel",
          "model_module_version": "1.5.0",
          "state": {
            "_dom_classes": [],
            "_model_module": "@jupyter-widgets/controls",
            "_model_module_version": "1.5.0",
            "_model_name": "HBoxModel",
            "_view_count": null,
            "_view_module": "@jupyter-widgets/controls",
            "_view_module_version": "1.5.0",
            "_view_name": "HBoxView",
            "box_style": "",
            "children": [
              "IPY_MODEL_39186bf7595e4cfb9c7b1d656bbe4f34",
              "IPY_MODEL_3bfd959d04e44d81a47fcc391b4f57b8",
              "IPY_MODEL_3f747ac8defc49578372e07457cc9113"
            ],
            "layout": "IPY_MODEL_0fcf12a8a3e74eaa8af108d7bdd53fb1"
          }
        },
        "39186bf7595e4cfb9c7b1d656bbe4f34": {
          "model_module": "@jupyter-widgets/controls",
          "model_name": "HTMLModel",
          "model_module_version": "1.5.0",
          "state": {
            "_dom_classes": [],
            "_model_module": "@jupyter-widgets/controls",
            "_model_module_version": "1.5.0",
            "_model_name": "HTMLModel",
            "_view_count": null,
            "_view_module": "@jupyter-widgets/controls",
            "_view_module_version": "1.5.0",
            "_view_name": "HTMLView",
            "description": "",
            "description_tooltip": null,
            "layout": "IPY_MODEL_d49833e97fec425b89c2c28c36d7b9ba",
            "placeholder": "​",
            "style": "IPY_MODEL_0e46f9051aab494aae28470aee8181d5",
            "value": "Downloading (…)lve/main/config.json: 100%"
          }
        },
        "3bfd959d04e44d81a47fcc391b4f57b8": {
          "model_module": "@jupyter-widgets/controls",
          "model_name": "FloatProgressModel",
          "model_module_version": "1.5.0",
          "state": {
            "_dom_classes": [],
            "_model_module": "@jupyter-widgets/controls",
            "_model_module_version": "1.5.0",
            "_model_name": "FloatProgressModel",
            "_view_count": null,
            "_view_module": "@jupyter-widgets/controls",
            "_view_module_version": "1.5.0",
            "_view_name": "ProgressView",
            "bar_style": "success",
            "description": "",
            "description_tooltip": null,
            "layout": "IPY_MODEL_7f17ea2927b045849088d3036889d43a",
            "max": 642,
            "min": 0,
            "orientation": "horizontal",
            "style": "IPY_MODEL_22eb9f2c5f3f415d800583917dadae23",
            "value": 642
          }
        },
        "3f747ac8defc49578372e07457cc9113": {
          "model_module": "@jupyter-widgets/controls",
          "model_name": "HTMLModel",
          "model_module_version": "1.5.0",
          "state": {
            "_dom_classes": [],
            "_model_module": "@jupyter-widgets/controls",
            "_model_module_version": "1.5.0",
            "_model_name": "HTMLModel",
            "_view_count": null,
            "_view_module": "@jupyter-widgets/controls",
            "_view_module_version": "1.5.0",
            "_view_name": "HTMLView",
            "description": "",
            "description_tooltip": null,
            "layout": "IPY_MODEL_adaa3f74bc69456986bc376c76389e37",
            "placeholder": "​",
            "style": "IPY_MODEL_47512bb7dae54a2fa60ff14f1b3db333",
            "value": " 642/642 [00:00&lt;00:00, 36.6kB/s]"
          }
        },
        "0fcf12a8a3e74eaa8af108d7bdd53fb1": {
          "model_module": "@jupyter-widgets/base",
          "model_name": "LayoutModel",
          "model_module_version": "1.2.0",
          "state": {
            "_model_module": "@jupyter-widgets/base",
            "_model_module_version": "1.2.0",
            "_model_name": "LayoutModel",
            "_view_count": null,
            "_view_module": "@jupyter-widgets/base",
            "_view_module_version": "1.2.0",
            "_view_name": "LayoutView",
            "align_content": null,
            "align_items": null,
            "align_self": null,
            "border": null,
            "bottom": null,
            "display": null,
            "flex": null,
            "flex_flow": null,
            "grid_area": null,
            "grid_auto_columns": null,
            "grid_auto_flow": null,
            "grid_auto_rows": null,
            "grid_column": null,
            "grid_gap": null,
            "grid_row": null,
            "grid_template_areas": null,
            "grid_template_columns": null,
            "grid_template_rows": null,
            "height": null,
            "justify_content": null,
            "justify_items": null,
            "left": null,
            "margin": null,
            "max_height": null,
            "max_width": null,
            "min_height": null,
            "min_width": null,
            "object_fit": null,
            "object_position": null,
            "order": null,
            "overflow": null,
            "overflow_x": null,
            "overflow_y": null,
            "padding": null,
            "right": null,
            "top": null,
            "visibility": null,
            "width": null
          }
        },
        "d49833e97fec425b89c2c28c36d7b9ba": {
          "model_module": "@jupyter-widgets/base",
          "model_name": "LayoutModel",
          "model_module_version": "1.2.0",
          "state": {
            "_model_module": "@jupyter-widgets/base",
            "_model_module_version": "1.2.0",
            "_model_name": "LayoutModel",
            "_view_count": null,
            "_view_module": "@jupyter-widgets/base",
            "_view_module_version": "1.2.0",
            "_view_name": "LayoutView",
            "align_content": null,
            "align_items": null,
            "align_self": null,
            "border": null,
            "bottom": null,
            "display": null,
            "flex": null,
            "flex_flow": null,
            "grid_area": null,
            "grid_auto_columns": null,
            "grid_auto_flow": null,
            "grid_auto_rows": null,
            "grid_column": null,
            "grid_gap": null,
            "grid_row": null,
            "grid_template_areas": null,
            "grid_template_columns": null,
            "grid_template_rows": null,
            "height": null,
            "justify_content": null,
            "justify_items": null,
            "left": null,
            "margin": null,
            "max_height": null,
            "max_width": null,
            "min_height": null,
            "min_width": null,
            "object_fit": null,
            "object_position": null,
            "order": null,
            "overflow": null,
            "overflow_x": null,
            "overflow_y": null,
            "padding": null,
            "right": null,
            "top": null,
            "visibility": null,
            "width": null
          }
        },
        "0e46f9051aab494aae28470aee8181d5": {
          "model_module": "@jupyter-widgets/controls",
          "model_name": "DescriptionStyleModel",
          "model_module_version": "1.5.0",
          "state": {
            "_model_module": "@jupyter-widgets/controls",
            "_model_module_version": "1.5.0",
            "_model_name": "DescriptionStyleModel",
            "_view_count": null,
            "_view_module": "@jupyter-widgets/base",
            "_view_module_version": "1.2.0",
            "_view_name": "StyleView",
            "description_width": ""
          }
        },
        "7f17ea2927b045849088d3036889d43a": {
          "model_module": "@jupyter-widgets/base",
          "model_name": "LayoutModel",
          "model_module_version": "1.2.0",
          "state": {
            "_model_module": "@jupyter-widgets/base",
            "_model_module_version": "1.2.0",
            "_model_name": "LayoutModel",
            "_view_count": null,
            "_view_module": "@jupyter-widgets/base",
            "_view_module_version": "1.2.0",
            "_view_name": "LayoutView",
            "align_content": null,
            "align_items": null,
            "align_self": null,
            "border": null,
            "bottom": null,
            "display": null,
            "flex": null,
            "flex_flow": null,
            "grid_area": null,
            "grid_auto_columns": null,
            "grid_auto_flow": null,
            "grid_auto_rows": null,
            "grid_column": null,
            "grid_gap": null,
            "grid_row": null,
            "grid_template_areas": null,
            "grid_template_columns": null,
            "grid_template_rows": null,
            "height": null,
            "justify_content": null,
            "justify_items": null,
            "left": null,
            "margin": null,
            "max_height": null,
            "max_width": null,
            "min_height": null,
            "min_width": null,
            "object_fit": null,
            "object_position": null,
            "order": null,
            "overflow": null,
            "overflow_x": null,
            "overflow_y": null,
            "padding": null,
            "right": null,
            "top": null,
            "visibility": null,
            "width": null
          }
        },
        "22eb9f2c5f3f415d800583917dadae23": {
          "model_module": "@jupyter-widgets/controls",
          "model_name": "ProgressStyleModel",
          "model_module_version": "1.5.0",
          "state": {
            "_model_module": "@jupyter-widgets/controls",
            "_model_module_version": "1.5.0",
            "_model_name": "ProgressStyleModel",
            "_view_count": null,
            "_view_module": "@jupyter-widgets/base",
            "_view_module_version": "1.2.0",
            "_view_name": "StyleView",
            "bar_color": null,
            "description_width": ""
          }
        },
        "adaa3f74bc69456986bc376c76389e37": {
          "model_module": "@jupyter-widgets/base",
          "model_name": "LayoutModel",
          "model_module_version": "1.2.0",
          "state": {
            "_model_module": "@jupyter-widgets/base",
            "_model_module_version": "1.2.0",
            "_model_name": "LayoutModel",
            "_view_count": null,
            "_view_module": "@jupyter-widgets/base",
            "_view_module_version": "1.2.0",
            "_view_name": "LayoutView",
            "align_content": null,
            "align_items": null,
            "align_self": null,
            "border": null,
            "bottom": null,
            "display": null,
            "flex": null,
            "flex_flow": null,
            "grid_area": null,
            "grid_auto_columns": null,
            "grid_auto_flow": null,
            "grid_auto_rows": null,
            "grid_column": null,
            "grid_gap": null,
            "grid_row": null,
            "grid_template_areas": null,
            "grid_template_columns": null,
            "grid_template_rows": null,
            "height": null,
            "justify_content": null,
            "justify_items": null,
            "left": null,
            "margin": null,
            "max_height": null,
            "max_width": null,
            "min_height": null,
            "min_width": null,
            "object_fit": null,
            "object_position": null,
            "order": null,
            "overflow": null,
            "overflow_x": null,
            "overflow_y": null,
            "padding": null,
            "right": null,
            "top": null,
            "visibility": null,
            "width": null
          }
        },
        "47512bb7dae54a2fa60ff14f1b3db333": {
          "model_module": "@jupyter-widgets/controls",
          "model_name": "DescriptionStyleModel",
          "model_module_version": "1.5.0",
          "state": {
            "_model_module": "@jupyter-widgets/controls",
            "_model_module_version": "1.5.0",
            "_model_name": "DescriptionStyleModel",
            "_view_count": null,
            "_view_module": "@jupyter-widgets/base",
            "_view_module_version": "1.2.0",
            "_view_name": "StyleView",
            "description_width": ""
          }
        },
        "20c2a797e3bb4fc9b73bdafa489ce86b": {
          "model_module": "@jupyter-widgets/controls",
          "model_name": "HBoxModel",
          "model_module_version": "1.5.0",
          "state": {
            "_dom_classes": [],
            "_model_module": "@jupyter-widgets/controls",
            "_model_module_version": "1.5.0",
            "_model_name": "HBoxModel",
            "_view_count": null,
            "_view_module": "@jupyter-widgets/controls",
            "_view_module_version": "1.5.0",
            "_view_name": "HBoxView",
            "box_style": "",
            "children": [
              "IPY_MODEL_011a87d2085e4976855ae3784c108601",
              "IPY_MODEL_5411f73938eb485ea3d3739f3af015ac",
              "IPY_MODEL_45be3da6273c4fa0b142c558141ef1f3"
            ],
            "layout": "IPY_MODEL_7e2564d79c4b45779bfff11c252e0b52"
          }
        },
        "011a87d2085e4976855ae3784c108601": {
          "model_module": "@jupyter-widgets/controls",
          "model_name": "HTMLModel",
          "model_module_version": "1.5.0",
          "state": {
            "_dom_classes": [],
            "_model_module": "@jupyter-widgets/controls",
            "_model_module_version": "1.5.0",
            "_model_name": "HTMLModel",
            "_view_count": null,
            "_view_module": "@jupyter-widgets/controls",
            "_view_module_version": "1.5.0",
            "_view_name": "HTMLView",
            "description": "",
            "description_tooltip": null,
            "layout": "IPY_MODEL_0e76aa8292614375a0e0982802fea54e",
            "placeholder": "​",
            "style": "IPY_MODEL_7190d0d2c93c4c7b9eba510a5fb471db",
            "value": "Downloading (…)okenizer_config.json: 100%"
          }
        },
        "5411f73938eb485ea3d3739f3af015ac": {
          "model_module": "@jupyter-widgets/controls",
          "model_name": "FloatProgressModel",
          "model_module_version": "1.5.0",
          "state": {
            "_dom_classes": [],
            "_model_module": "@jupyter-widgets/controls",
            "_model_module_version": "1.5.0",
            "_model_name": "FloatProgressModel",
            "_view_count": null,
            "_view_module": "@jupyter-widgets/controls",
            "_view_module_version": "1.5.0",
            "_view_name": "ProgressView",
            "bar_style": "success",
            "description": "",
            "description_tooltip": null,
            "layout": "IPY_MODEL_c612fffefbe24bfda9358004e7e32e47",
            "max": 24,
            "min": 0,
            "orientation": "horizontal",
            "style": "IPY_MODEL_3b7c27b568394fd5895588e1a5b26999",
            "value": 24
          }
        },
        "45be3da6273c4fa0b142c558141ef1f3": {
          "model_module": "@jupyter-widgets/controls",
          "model_name": "HTMLModel",
          "model_module_version": "1.5.0",
          "state": {
            "_dom_classes": [],
            "_model_module": "@jupyter-widgets/controls",
            "_model_module_version": "1.5.0",
            "_model_name": "HTMLModel",
            "_view_count": null,
            "_view_module": "@jupyter-widgets/controls",
            "_view_module_version": "1.5.0",
            "_view_name": "HTMLView",
            "description": "",
            "description_tooltip": null,
            "layout": "IPY_MODEL_a48469cd614748ae9fe286740c4fc42d",
            "placeholder": "​",
            "style": "IPY_MODEL_7bb40219e2a84f9389ec062de1543444",
            "value": " 24.0/24.0 [00:00&lt;00:00, 1.62kB/s]"
          }
        },
        "7e2564d79c4b45779bfff11c252e0b52": {
          "model_module": "@jupyter-widgets/base",
          "model_name": "LayoutModel",
          "model_module_version": "1.2.0",
          "state": {
            "_model_module": "@jupyter-widgets/base",
            "_model_module_version": "1.2.0",
            "_model_name": "LayoutModel",
            "_view_count": null,
            "_view_module": "@jupyter-widgets/base",
            "_view_module_version": "1.2.0",
            "_view_name": "LayoutView",
            "align_content": null,
            "align_items": null,
            "align_self": null,
            "border": null,
            "bottom": null,
            "display": null,
            "flex": null,
            "flex_flow": null,
            "grid_area": null,
            "grid_auto_columns": null,
            "grid_auto_flow": null,
            "grid_auto_rows": null,
            "grid_column": null,
            "grid_gap": null,
            "grid_row": null,
            "grid_template_areas": null,
            "grid_template_columns": null,
            "grid_template_rows": null,
            "height": null,
            "justify_content": null,
            "justify_items": null,
            "left": null,
            "margin": null,
            "max_height": null,
            "max_width": null,
            "min_height": null,
            "min_width": null,
            "object_fit": null,
            "object_position": null,
            "order": null,
            "overflow": null,
            "overflow_x": null,
            "overflow_y": null,
            "padding": null,
            "right": null,
            "top": null,
            "visibility": null,
            "width": null
          }
        },
        "0e76aa8292614375a0e0982802fea54e": {
          "model_module": "@jupyter-widgets/base",
          "model_name": "LayoutModel",
          "model_module_version": "1.2.0",
          "state": {
            "_model_module": "@jupyter-widgets/base",
            "_model_module_version": "1.2.0",
            "_model_name": "LayoutModel",
            "_view_count": null,
            "_view_module": "@jupyter-widgets/base",
            "_view_module_version": "1.2.0",
            "_view_name": "LayoutView",
            "align_content": null,
            "align_items": null,
            "align_self": null,
            "border": null,
            "bottom": null,
            "display": null,
            "flex": null,
            "flex_flow": null,
            "grid_area": null,
            "grid_auto_columns": null,
            "grid_auto_flow": null,
            "grid_auto_rows": null,
            "grid_column": null,
            "grid_gap": null,
            "grid_row": null,
            "grid_template_areas": null,
            "grid_template_columns": null,
            "grid_template_rows": null,
            "height": null,
            "justify_content": null,
            "justify_items": null,
            "left": null,
            "margin": null,
            "max_height": null,
            "max_width": null,
            "min_height": null,
            "min_width": null,
            "object_fit": null,
            "object_position": null,
            "order": null,
            "overflow": null,
            "overflow_x": null,
            "overflow_y": null,
            "padding": null,
            "right": null,
            "top": null,
            "visibility": null,
            "width": null
          }
        },
        "7190d0d2c93c4c7b9eba510a5fb471db": {
          "model_module": "@jupyter-widgets/controls",
          "model_name": "DescriptionStyleModel",
          "model_module_version": "1.5.0",
          "state": {
            "_model_module": "@jupyter-widgets/controls",
            "_model_module_version": "1.5.0",
            "_model_name": "DescriptionStyleModel",
            "_view_count": null,
            "_view_module": "@jupyter-widgets/base",
            "_view_module_version": "1.2.0",
            "_view_name": "StyleView",
            "description_width": ""
          }
        },
        "c612fffefbe24bfda9358004e7e32e47": {
          "model_module": "@jupyter-widgets/base",
          "model_name": "LayoutModel",
          "model_module_version": "1.2.0",
          "state": {
            "_model_module": "@jupyter-widgets/base",
            "_model_module_version": "1.2.0",
            "_model_name": "LayoutModel",
            "_view_count": null,
            "_view_module": "@jupyter-widgets/base",
            "_view_module_version": "1.2.0",
            "_view_name": "LayoutView",
            "align_content": null,
            "align_items": null,
            "align_self": null,
            "border": null,
            "bottom": null,
            "display": null,
            "flex": null,
            "flex_flow": null,
            "grid_area": null,
            "grid_auto_columns": null,
            "grid_auto_flow": null,
            "grid_auto_rows": null,
            "grid_column": null,
            "grid_gap": null,
            "grid_row": null,
            "grid_template_areas": null,
            "grid_template_columns": null,
            "grid_template_rows": null,
            "height": null,
            "justify_content": null,
            "justify_items": null,
            "left": null,
            "margin": null,
            "max_height": null,
            "max_width": null,
            "min_height": null,
            "min_width": null,
            "object_fit": null,
            "object_position": null,
            "order": null,
            "overflow": null,
            "overflow_x": null,
            "overflow_y": null,
            "padding": null,
            "right": null,
            "top": null,
            "visibility": null,
            "width": null
          }
        },
        "3b7c27b568394fd5895588e1a5b26999": {
          "model_module": "@jupyter-widgets/controls",
          "model_name": "ProgressStyleModel",
          "model_module_version": "1.5.0",
          "state": {
            "_model_module": "@jupyter-widgets/controls",
            "_model_module_version": "1.5.0",
            "_model_name": "ProgressStyleModel",
            "_view_count": null,
            "_view_module": "@jupyter-widgets/base",
            "_view_module_version": "1.2.0",
            "_view_name": "StyleView",
            "bar_color": null,
            "description_width": ""
          }
        },
        "a48469cd614748ae9fe286740c4fc42d": {
          "model_module": "@jupyter-widgets/base",
          "model_name": "LayoutModel",
          "model_module_version": "1.2.0",
          "state": {
            "_model_module": "@jupyter-widgets/base",
            "_model_module_version": "1.2.0",
            "_model_name": "LayoutModel",
            "_view_count": null,
            "_view_module": "@jupyter-widgets/base",
            "_view_module_version": "1.2.0",
            "_view_name": "LayoutView",
            "align_content": null,
            "align_items": null,
            "align_self": null,
            "border": null,
            "bottom": null,
            "display": null,
            "flex": null,
            "flex_flow": null,
            "grid_area": null,
            "grid_auto_columns": null,
            "grid_auto_flow": null,
            "grid_auto_rows": null,
            "grid_column": null,
            "grid_gap": null,
            "grid_row": null,
            "grid_template_areas": null,
            "grid_template_columns": null,
            "grid_template_rows": null,
            "height": null,
            "justify_content": null,
            "justify_items": null,
            "left": null,
            "margin": null,
            "max_height": null,
            "max_width": null,
            "min_height": null,
            "min_width": null,
            "object_fit": null,
            "object_position": null,
            "order": null,
            "overflow": null,
            "overflow_x": null,
            "overflow_y": null,
            "padding": null,
            "right": null,
            "top": null,
            "visibility": null,
            "width": null
          }
        },
        "7bb40219e2a84f9389ec062de1543444": {
          "model_module": "@jupyter-widgets/controls",
          "model_name": "DescriptionStyleModel",
          "model_module_version": "1.5.0",
          "state": {
            "_model_module": "@jupyter-widgets/controls",
            "_model_module_version": "1.5.0",
            "_model_name": "DescriptionStyleModel",
            "_view_count": null,
            "_view_module": "@jupyter-widgets/base",
            "_view_module_version": "1.2.0",
            "_view_name": "StyleView",
            "description_width": ""
          }
        },
        "cdd0bb531aae4a53bd135c0bf82a4e0d": {
          "model_module": "@jupyter-widgets/controls",
          "model_name": "HBoxModel",
          "model_module_version": "1.5.0",
          "state": {
            "_dom_classes": [],
            "_model_module": "@jupyter-widgets/controls",
            "_model_module_version": "1.5.0",
            "_model_name": "HBoxModel",
            "_view_count": null,
            "_view_module": "@jupyter-widgets/controls",
            "_view_module_version": "1.5.0",
            "_view_name": "HBoxView",
            "box_style": "",
            "children": [
              "IPY_MODEL_6dc84d8e32414583a16bb9c43795506c",
              "IPY_MODEL_72f14f3545464b18a7177e24053a44e5",
              "IPY_MODEL_4405d5ad655042fb815e6b92110de507"
            ],
            "layout": "IPY_MODEL_75889a9e47894b77834ed1fb6cb012c0"
          }
        },
        "6dc84d8e32414583a16bb9c43795506c": {
          "model_module": "@jupyter-widgets/controls",
          "model_name": "HTMLModel",
          "model_module_version": "1.5.0",
          "state": {
            "_dom_classes": [],
            "_model_module": "@jupyter-widgets/controls",
            "_model_module_version": "1.5.0",
            "_model_name": "HTMLModel",
            "_view_count": null,
            "_view_module": "@jupyter-widgets/controls",
            "_view_module_version": "1.5.0",
            "_view_name": "HTMLView",
            "description": "",
            "description_tooltip": null,
            "layout": "IPY_MODEL_7a78b61b821049a991023a259fb9f17b",
            "placeholder": "​",
            "style": "IPY_MODEL_a3b89bd4802d4d9087317393cf92b495",
            "value": "Downloading (…)solve/main/vocab.txt: 100%"
          }
        },
        "72f14f3545464b18a7177e24053a44e5": {
          "model_module": "@jupyter-widgets/controls",
          "model_name": "FloatProgressModel",
          "model_module_version": "1.5.0",
          "state": {
            "_dom_classes": [],
            "_model_module": "@jupyter-widgets/controls",
            "_model_module_version": "1.5.0",
            "_model_name": "FloatProgressModel",
            "_view_count": null,
            "_view_module": "@jupyter-widgets/controls",
            "_view_module_version": "1.5.0",
            "_view_name": "ProgressView",
            "bar_style": "success",
            "description": "",
            "description_tooltip": null,
            "layout": "IPY_MODEL_bf6396a07f674af4837ee78d2bd45e68",
            "max": 1649718,
            "min": 0,
            "orientation": "horizontal",
            "style": "IPY_MODEL_74cef17fcf4c4f6399d8ff352af64d21",
            "value": 1649718
          }
        },
        "4405d5ad655042fb815e6b92110de507": {
          "model_module": "@jupyter-widgets/controls",
          "model_name": "HTMLModel",
          "model_module_version": "1.5.0",
          "state": {
            "_dom_classes": [],
            "_model_module": "@jupyter-widgets/controls",
            "_model_module_version": "1.5.0",
            "_model_name": "HTMLModel",
            "_view_count": null,
            "_view_module": "@jupyter-widgets/controls",
            "_view_module_version": "1.5.0",
            "_view_name": "HTMLView",
            "description": "",
            "description_tooltip": null,
            "layout": "IPY_MODEL_fe054dbf35df43fca6829d3e88cab845",
            "placeholder": "​",
            "style": "IPY_MODEL_b24dda2a29c345bbbdd92898aafd98a2",
            "value": " 1.65M/1.65M [00:00&lt;00:00, 13.7MB/s]"
          }
        },
        "75889a9e47894b77834ed1fb6cb012c0": {
          "model_module": "@jupyter-widgets/base",
          "model_name": "LayoutModel",
          "model_module_version": "1.2.0",
          "state": {
            "_model_module": "@jupyter-widgets/base",
            "_model_module_version": "1.2.0",
            "_model_name": "LayoutModel",
            "_view_count": null,
            "_view_module": "@jupyter-widgets/base",
            "_view_module_version": "1.2.0",
            "_view_name": "LayoutView",
            "align_content": null,
            "align_items": null,
            "align_self": null,
            "border": null,
            "bottom": null,
            "display": null,
            "flex": null,
            "flex_flow": null,
            "grid_area": null,
            "grid_auto_columns": null,
            "grid_auto_flow": null,
            "grid_auto_rows": null,
            "grid_column": null,
            "grid_gap": null,
            "grid_row": null,
            "grid_template_areas": null,
            "grid_template_columns": null,
            "grid_template_rows": null,
            "height": null,
            "justify_content": null,
            "justify_items": null,
            "left": null,
            "margin": null,
            "max_height": null,
            "max_width": null,
            "min_height": null,
            "min_width": null,
            "object_fit": null,
            "object_position": null,
            "order": null,
            "overflow": null,
            "overflow_x": null,
            "overflow_y": null,
            "padding": null,
            "right": null,
            "top": null,
            "visibility": null,
            "width": null
          }
        },
        "7a78b61b821049a991023a259fb9f17b": {
          "model_module": "@jupyter-widgets/base",
          "model_name": "LayoutModel",
          "model_module_version": "1.2.0",
          "state": {
            "_model_module": "@jupyter-widgets/base",
            "_model_module_version": "1.2.0",
            "_model_name": "LayoutModel",
            "_view_count": null,
            "_view_module": "@jupyter-widgets/base",
            "_view_module_version": "1.2.0",
            "_view_name": "LayoutView",
            "align_content": null,
            "align_items": null,
            "align_self": null,
            "border": null,
            "bottom": null,
            "display": null,
            "flex": null,
            "flex_flow": null,
            "grid_area": null,
            "grid_auto_columns": null,
            "grid_auto_flow": null,
            "grid_auto_rows": null,
            "grid_column": null,
            "grid_gap": null,
            "grid_row": null,
            "grid_template_areas": null,
            "grid_template_columns": null,
            "grid_template_rows": null,
            "height": null,
            "justify_content": null,
            "justify_items": null,
            "left": null,
            "margin": null,
            "max_height": null,
            "max_width": null,
            "min_height": null,
            "min_width": null,
            "object_fit": null,
            "object_position": null,
            "order": null,
            "overflow": null,
            "overflow_x": null,
            "overflow_y": null,
            "padding": null,
            "right": null,
            "top": null,
            "visibility": null,
            "width": null
          }
        },
        "a3b89bd4802d4d9087317393cf92b495": {
          "model_module": "@jupyter-widgets/controls",
          "model_name": "DescriptionStyleModel",
          "model_module_version": "1.5.0",
          "state": {
            "_model_module": "@jupyter-widgets/controls",
            "_model_module_version": "1.5.0",
            "_model_name": "DescriptionStyleModel",
            "_view_count": null,
            "_view_module": "@jupyter-widgets/base",
            "_view_module_version": "1.2.0",
            "_view_name": "StyleView",
            "description_width": ""
          }
        },
        "bf6396a07f674af4837ee78d2bd45e68": {
          "model_module": "@jupyter-widgets/base",
          "model_name": "LayoutModel",
          "model_module_version": "1.2.0",
          "state": {
            "_model_module": "@jupyter-widgets/base",
            "_model_module_version": "1.2.0",
            "_model_name": "LayoutModel",
            "_view_count": null,
            "_view_module": "@jupyter-widgets/base",
            "_view_module_version": "1.2.0",
            "_view_name": "LayoutView",
            "align_content": null,
            "align_items": null,
            "align_self": null,
            "border": null,
            "bottom": null,
            "display": null,
            "flex": null,
            "flex_flow": null,
            "grid_area": null,
            "grid_auto_columns": null,
            "grid_auto_flow": null,
            "grid_auto_rows": null,
            "grid_column": null,
            "grid_gap": null,
            "grid_row": null,
            "grid_template_areas": null,
            "grid_template_columns": null,
            "grid_template_rows": null,
            "height": null,
            "justify_content": null,
            "justify_items": null,
            "left": null,
            "margin": null,
            "max_height": null,
            "max_width": null,
            "min_height": null,
            "min_width": null,
            "object_fit": null,
            "object_position": null,
            "order": null,
            "overflow": null,
            "overflow_x": null,
            "overflow_y": null,
            "padding": null,
            "right": null,
            "top": null,
            "visibility": null,
            "width": null
          }
        },
        "74cef17fcf4c4f6399d8ff352af64d21": {
          "model_module": "@jupyter-widgets/controls",
          "model_name": "ProgressStyleModel",
          "model_module_version": "1.5.0",
          "state": {
            "_model_module": "@jupyter-widgets/controls",
            "_model_module_version": "1.5.0",
            "_model_name": "ProgressStyleModel",
            "_view_count": null,
            "_view_module": "@jupyter-widgets/base",
            "_view_module_version": "1.2.0",
            "_view_name": "StyleView",
            "bar_color": null,
            "description_width": ""
          }
        },
        "fe054dbf35df43fca6829d3e88cab845": {
          "model_module": "@jupyter-widgets/base",
          "model_name": "LayoutModel",
          "model_module_version": "1.2.0",
          "state": {
            "_model_module": "@jupyter-widgets/base",
            "_model_module_version": "1.2.0",
            "_model_name": "LayoutModel",
            "_view_count": null,
            "_view_module": "@jupyter-widgets/base",
            "_view_module_version": "1.2.0",
            "_view_name": "LayoutView",
            "align_content": null,
            "align_items": null,
            "align_self": null,
            "border": null,
            "bottom": null,
            "display": null,
            "flex": null,
            "flex_flow": null,
            "grid_area": null,
            "grid_auto_columns": null,
            "grid_auto_flow": null,
            "grid_auto_rows": null,
            "grid_column": null,
            "grid_gap": null,
            "grid_row": null,
            "grid_template_areas": null,
            "grid_template_columns": null,
            "grid_template_rows": null,
            "height": null,
            "justify_content": null,
            "justify_items": null,
            "left": null,
            "margin": null,
            "max_height": null,
            "max_width": null,
            "min_height": null,
            "min_width": null,
            "object_fit": null,
            "object_position": null,
            "order": null,
            "overflow": null,
            "overflow_x": null,
            "overflow_y": null,
            "padding": null,
            "right": null,
            "top": null,
            "visibility": null,
            "width": null
          }
        },
        "b24dda2a29c345bbbdd92898aafd98a2": {
          "model_module": "@jupyter-widgets/controls",
          "model_name": "DescriptionStyleModel",
          "model_module_version": "1.5.0",
          "state": {
            "_model_module": "@jupyter-widgets/controls",
            "_model_module_version": "1.5.0",
            "_model_name": "DescriptionStyleModel",
            "_view_count": null,
            "_view_module": "@jupyter-widgets/base",
            "_view_module_version": "1.2.0",
            "_view_name": "StyleView",
            "description_width": ""
          }
        },
        "11634fc525184b37abfffd49529786f4": {
          "model_module": "@jupyter-widgets/controls",
          "model_name": "HBoxModel",
          "model_module_version": "1.5.0",
          "state": {
            "_dom_classes": [],
            "_model_module": "@jupyter-widgets/controls",
            "_model_module_version": "1.5.0",
            "_model_name": "HBoxModel",
            "_view_count": null,
            "_view_module": "@jupyter-widgets/controls",
            "_view_module_version": "1.5.0",
            "_view_name": "HBoxView",
            "box_style": "",
            "children": [
              "IPY_MODEL_74884694e7c14069a626576472feb1e2",
              "IPY_MODEL_006bb18bf67641d3b618532149f5963d",
              "IPY_MODEL_d45d0ec8a21b41a8bc0ec272fa3edeaa"
            ],
            "layout": "IPY_MODEL_8d3d648b371f4a57ba3176acf3258dfb"
          }
        },
        "74884694e7c14069a626576472feb1e2": {
          "model_module": "@jupyter-widgets/controls",
          "model_name": "HTMLModel",
          "model_module_version": "1.5.0",
          "state": {
            "_dom_classes": [],
            "_model_module": "@jupyter-widgets/controls",
            "_model_module_version": "1.5.0",
            "_model_name": "HTMLModel",
            "_view_count": null,
            "_view_module": "@jupyter-widgets/controls",
            "_view_module_version": "1.5.0",
            "_view_name": "HTMLView",
            "description": "",
            "description_tooltip": null,
            "layout": "IPY_MODEL_6dfad81bc53f4f2382382e092274636a",
            "placeholder": "​",
            "style": "IPY_MODEL_12d3b240627a4234ae5acf4eae18e031",
            "value": "Downloading (…)cial_tokens_map.json: 100%"
          }
        },
        "006bb18bf67641d3b618532149f5963d": {
          "model_module": "@jupyter-widgets/controls",
          "model_name": "FloatProgressModel",
          "model_module_version": "1.5.0",
          "state": {
            "_dom_classes": [],
            "_model_module": "@jupyter-widgets/controls",
            "_model_module_version": "1.5.0",
            "_model_name": "FloatProgressModel",
            "_view_count": null,
            "_view_module": "@jupyter-widgets/controls",
            "_view_module_version": "1.5.0",
            "_view_name": "ProgressView",
            "bar_style": "success",
            "description": "",
            "description_tooltip": null,
            "layout": "IPY_MODEL_302103f4a85146fdbb67f1f6a5df14d5",
            "max": 112,
            "min": 0,
            "orientation": "horizontal",
            "style": "IPY_MODEL_badea7d15247406f812138b58474789c",
            "value": 112
          }
        },
        "d45d0ec8a21b41a8bc0ec272fa3edeaa": {
          "model_module": "@jupyter-widgets/controls",
          "model_name": "HTMLModel",
          "model_module_version": "1.5.0",
          "state": {
            "_dom_classes": [],
            "_model_module": "@jupyter-widgets/controls",
            "_model_module_version": "1.5.0",
            "_model_name": "HTMLModel",
            "_view_count": null,
            "_view_module": "@jupyter-widgets/controls",
            "_view_module_version": "1.5.0",
            "_view_name": "HTMLView",
            "description": "",
            "description_tooltip": null,
            "layout": "IPY_MODEL_f27a4eca039043a8b74a1d7fa0e4d2af",
            "placeholder": "​",
            "style": "IPY_MODEL_543ffcb412c346dd9b49307dc86aa641",
            "value": " 112/112 [00:00&lt;00:00, 6.34kB/s]"
          }
        },
        "8d3d648b371f4a57ba3176acf3258dfb": {
          "model_module": "@jupyter-widgets/base",
          "model_name": "LayoutModel",
          "model_module_version": "1.2.0",
          "state": {
            "_model_module": "@jupyter-widgets/base",
            "_model_module_version": "1.2.0",
            "_model_name": "LayoutModel",
            "_view_count": null,
            "_view_module": "@jupyter-widgets/base",
            "_view_module_version": "1.2.0",
            "_view_name": "LayoutView",
            "align_content": null,
            "align_items": null,
            "align_self": null,
            "border": null,
            "bottom": null,
            "display": null,
            "flex": null,
            "flex_flow": null,
            "grid_area": null,
            "grid_auto_columns": null,
            "grid_auto_flow": null,
            "grid_auto_rows": null,
            "grid_column": null,
            "grid_gap": null,
            "grid_row": null,
            "grid_template_areas": null,
            "grid_template_columns": null,
            "grid_template_rows": null,
            "height": null,
            "justify_content": null,
            "justify_items": null,
            "left": null,
            "margin": null,
            "max_height": null,
            "max_width": null,
            "min_height": null,
            "min_width": null,
            "object_fit": null,
            "object_position": null,
            "order": null,
            "overflow": null,
            "overflow_x": null,
            "overflow_y": null,
            "padding": null,
            "right": null,
            "top": null,
            "visibility": null,
            "width": null
          }
        },
        "6dfad81bc53f4f2382382e092274636a": {
          "model_module": "@jupyter-widgets/base",
          "model_name": "LayoutModel",
          "model_module_version": "1.2.0",
          "state": {
            "_model_module": "@jupyter-widgets/base",
            "_model_module_version": "1.2.0",
            "_model_name": "LayoutModel",
            "_view_count": null,
            "_view_module": "@jupyter-widgets/base",
            "_view_module_version": "1.2.0",
            "_view_name": "LayoutView",
            "align_content": null,
            "align_items": null,
            "align_self": null,
            "border": null,
            "bottom": null,
            "display": null,
            "flex": null,
            "flex_flow": null,
            "grid_area": null,
            "grid_auto_columns": null,
            "grid_auto_flow": null,
            "grid_auto_rows": null,
            "grid_column": null,
            "grid_gap": null,
            "grid_row": null,
            "grid_template_areas": null,
            "grid_template_columns": null,
            "grid_template_rows": null,
            "height": null,
            "justify_content": null,
            "justify_items": null,
            "left": null,
            "margin": null,
            "max_height": null,
            "max_width": null,
            "min_height": null,
            "min_width": null,
            "object_fit": null,
            "object_position": null,
            "order": null,
            "overflow": null,
            "overflow_x": null,
            "overflow_y": null,
            "padding": null,
            "right": null,
            "top": null,
            "visibility": null,
            "width": null
          }
        },
        "12d3b240627a4234ae5acf4eae18e031": {
          "model_module": "@jupyter-widgets/controls",
          "model_name": "DescriptionStyleModel",
          "model_module_version": "1.5.0",
          "state": {
            "_model_module": "@jupyter-widgets/controls",
            "_model_module_version": "1.5.0",
            "_model_name": "DescriptionStyleModel",
            "_view_count": null,
            "_view_module": "@jupyter-widgets/base",
            "_view_module_version": "1.2.0",
            "_view_name": "StyleView",
            "description_width": ""
          }
        },
        "302103f4a85146fdbb67f1f6a5df14d5": {
          "model_module": "@jupyter-widgets/base",
          "model_name": "LayoutModel",
          "model_module_version": "1.2.0",
          "state": {
            "_model_module": "@jupyter-widgets/base",
            "_model_module_version": "1.2.0",
            "_model_name": "LayoutModel",
            "_view_count": null,
            "_view_module": "@jupyter-widgets/base",
            "_view_module_version": "1.2.0",
            "_view_name": "LayoutView",
            "align_content": null,
            "align_items": null,
            "align_self": null,
            "border": null,
            "bottom": null,
            "display": null,
            "flex": null,
            "flex_flow": null,
            "grid_area": null,
            "grid_auto_columns": null,
            "grid_auto_flow": null,
            "grid_auto_rows": null,
            "grid_column": null,
            "grid_gap": null,
            "grid_row": null,
            "grid_template_areas": null,
            "grid_template_columns": null,
            "grid_template_rows": null,
            "height": null,
            "justify_content": null,
            "justify_items": null,
            "left": null,
            "margin": null,
            "max_height": null,
            "max_width": null,
            "min_height": null,
            "min_width": null,
            "object_fit": null,
            "object_position": null,
            "order": null,
            "overflow": null,
            "overflow_x": null,
            "overflow_y": null,
            "padding": null,
            "right": null,
            "top": null,
            "visibility": null,
            "width": null
          }
        },
        "badea7d15247406f812138b58474789c": {
          "model_module": "@jupyter-widgets/controls",
          "model_name": "ProgressStyleModel",
          "model_module_version": "1.5.0",
          "state": {
            "_model_module": "@jupyter-widgets/controls",
            "_model_module_version": "1.5.0",
            "_model_name": "ProgressStyleModel",
            "_view_count": null,
            "_view_module": "@jupyter-widgets/base",
            "_view_module_version": "1.2.0",
            "_view_name": "StyleView",
            "bar_color": null,
            "description_width": ""
          }
        },
        "f27a4eca039043a8b74a1d7fa0e4d2af": {
          "model_module": "@jupyter-widgets/base",
          "model_name": "LayoutModel",
          "model_module_version": "1.2.0",
          "state": {
            "_model_module": "@jupyter-widgets/base",
            "_model_module_version": "1.2.0",
            "_model_name": "LayoutModel",
            "_view_count": null,
            "_view_module": "@jupyter-widgets/base",
            "_view_module_version": "1.2.0",
            "_view_name": "LayoutView",
            "align_content": null,
            "align_items": null,
            "align_self": null,
            "border": null,
            "bottom": null,
            "display": null,
            "flex": null,
            "flex_flow": null,
            "grid_area": null,
            "grid_auto_columns": null,
            "grid_auto_flow": null,
            "grid_auto_rows": null,
            "grid_column": null,
            "grid_gap": null,
            "grid_row": null,
            "grid_template_areas": null,
            "grid_template_columns": null,
            "grid_template_rows": null,
            "height": null,
            "justify_content": null,
            "justify_items": null,
            "left": null,
            "margin": null,
            "max_height": null,
            "max_width": null,
            "min_height": null,
            "min_width": null,
            "object_fit": null,
            "object_position": null,
            "order": null,
            "overflow": null,
            "overflow_x": null,
            "overflow_y": null,
            "padding": null,
            "right": null,
            "top": null,
            "visibility": null,
            "width": null
          }
        },
        "543ffcb412c346dd9b49307dc86aa641": {
          "model_module": "@jupyter-widgets/controls",
          "model_name": "DescriptionStyleModel",
          "model_module_version": "1.5.0",
          "state": {
            "_model_module": "@jupyter-widgets/controls",
            "_model_module_version": "1.5.0",
            "_model_name": "DescriptionStyleModel",
            "_view_count": null,
            "_view_module": "@jupyter-widgets/base",
            "_view_module_version": "1.2.0",
            "_view_name": "StyleView",
            "description_width": ""
          }
        },
        "1369f8023b5240aa937356887405033b": {
          "model_module": "@jupyter-widgets/controls",
          "model_name": "HBoxModel",
          "model_module_version": "1.5.0",
          "state": {
            "_dom_classes": [],
            "_model_module": "@jupyter-widgets/controls",
            "_model_module_version": "1.5.0",
            "_model_name": "HBoxModel",
            "_view_count": null,
            "_view_module": "@jupyter-widgets/controls",
            "_view_module_version": "1.5.0",
            "_view_name": "HBoxView",
            "box_style": "",
            "children": [
              "IPY_MODEL_cb6a71ffc99845a58fdcef54f336f87b",
              "IPY_MODEL_ece25bd03ed2481dab455570c4188307",
              "IPY_MODEL_d5bb801c92684368905356b7383fe329"
            ],
            "layout": "IPY_MODEL_ac0a2b955643487993733564506c93d0"
          }
        },
        "cb6a71ffc99845a58fdcef54f336f87b": {
          "model_module": "@jupyter-widgets/controls",
          "model_name": "HTMLModel",
          "model_module_version": "1.5.0",
          "state": {
            "_dom_classes": [],
            "_model_module": "@jupyter-widgets/controls",
            "_model_module_version": "1.5.0",
            "_model_name": "HTMLModel",
            "_view_count": null,
            "_view_module": "@jupyter-widgets/controls",
            "_view_module_version": "1.5.0",
            "_view_name": "HTMLView",
            "description": "",
            "description_tooltip": null,
            "layout": "IPY_MODEL_70e29ed1452b4ca2bc76d054d7e2bcd8",
            "placeholder": "​",
            "style": "IPY_MODEL_043ef2d2760448f0bbe8e7be064a48fa",
            "value": "Downloading pytorch_model.bin: 100%"
          }
        },
        "ece25bd03ed2481dab455570c4188307": {
          "model_module": "@jupyter-widgets/controls",
          "model_name": "FloatProgressModel",
          "model_module_version": "1.5.0",
          "state": {
            "_dom_classes": [],
            "_model_module": "@jupyter-widgets/controls",
            "_model_module_version": "1.5.0",
            "_model_name": "FloatProgressModel",
            "_view_count": null,
            "_view_module": "@jupyter-widgets/controls",
            "_view_module_version": "1.5.0",
            "_view_name": "ProgressView",
            "bar_style": "success",
            "description": "",
            "description_tooltip": null,
            "layout": "IPY_MODEL_a811b11e4b084a8ba0bd47768e67601d",
            "max": 711456784,
            "min": 0,
            "orientation": "horizontal",
            "style": "IPY_MODEL_d7380f2d4cc74f4c91d085daf73de0c0",
            "value": 711456784
          }
        },
        "d5bb801c92684368905356b7383fe329": {
          "model_module": "@jupyter-widgets/controls",
          "model_name": "HTMLModel",
          "model_module_version": "1.5.0",
          "state": {
            "_dom_classes": [],
            "_model_module": "@jupyter-widgets/controls",
            "_model_module_version": "1.5.0",
            "_model_name": "HTMLModel",
            "_view_count": null,
            "_view_module": "@jupyter-widgets/controls",
            "_view_module_version": "1.5.0",
            "_view_name": "HTMLView",
            "description": "",
            "description_tooltip": null,
            "layout": "IPY_MODEL_28aa823696d443e29fa7b052453af4c4",
            "placeholder": "​",
            "style": "IPY_MODEL_0f676754f43f450183467aba3bc758af",
            "value": " 711M/711M [00:20&lt;00:00, 31.6MB/s]"
          }
        },
        "ac0a2b955643487993733564506c93d0": {
          "model_module": "@jupyter-widgets/base",
          "model_name": "LayoutModel",
          "model_module_version": "1.2.0",
          "state": {
            "_model_module": "@jupyter-widgets/base",
            "_model_module_version": "1.2.0",
            "_model_name": "LayoutModel",
            "_view_count": null,
            "_view_module": "@jupyter-widgets/base",
            "_view_module_version": "1.2.0",
            "_view_name": "LayoutView",
            "align_content": null,
            "align_items": null,
            "align_self": null,
            "border": null,
            "bottom": null,
            "display": null,
            "flex": null,
            "flex_flow": null,
            "grid_area": null,
            "grid_auto_columns": null,
            "grid_auto_flow": null,
            "grid_auto_rows": null,
            "grid_column": null,
            "grid_gap": null,
            "grid_row": null,
            "grid_template_areas": null,
            "grid_template_columns": null,
            "grid_template_rows": null,
            "height": null,
            "justify_content": null,
            "justify_items": null,
            "left": null,
            "margin": null,
            "max_height": null,
            "max_width": null,
            "min_height": null,
            "min_width": null,
            "object_fit": null,
            "object_position": null,
            "order": null,
            "overflow": null,
            "overflow_x": null,
            "overflow_y": null,
            "padding": null,
            "right": null,
            "top": null,
            "visibility": null,
            "width": null
          }
        },
        "70e29ed1452b4ca2bc76d054d7e2bcd8": {
          "model_module": "@jupyter-widgets/base",
          "model_name": "LayoutModel",
          "model_module_version": "1.2.0",
          "state": {
            "_model_module": "@jupyter-widgets/base",
            "_model_module_version": "1.2.0",
            "_model_name": "LayoutModel",
            "_view_count": null,
            "_view_module": "@jupyter-widgets/base",
            "_view_module_version": "1.2.0",
            "_view_name": "LayoutView",
            "align_content": null,
            "align_items": null,
            "align_self": null,
            "border": null,
            "bottom": null,
            "display": null,
            "flex": null,
            "flex_flow": null,
            "grid_area": null,
            "grid_auto_columns": null,
            "grid_auto_flow": null,
            "grid_auto_rows": null,
            "grid_column": null,
            "grid_gap": null,
            "grid_row": null,
            "grid_template_areas": null,
            "grid_template_columns": null,
            "grid_template_rows": null,
            "height": null,
            "justify_content": null,
            "justify_items": null,
            "left": null,
            "margin": null,
            "max_height": null,
            "max_width": null,
            "min_height": null,
            "min_width": null,
            "object_fit": null,
            "object_position": null,
            "order": null,
            "overflow": null,
            "overflow_x": null,
            "overflow_y": null,
            "padding": null,
            "right": null,
            "top": null,
            "visibility": null,
            "width": null
          }
        },
        "043ef2d2760448f0bbe8e7be064a48fa": {
          "model_module": "@jupyter-widgets/controls",
          "model_name": "DescriptionStyleModel",
          "model_module_version": "1.5.0",
          "state": {
            "_model_module": "@jupyter-widgets/controls",
            "_model_module_version": "1.5.0",
            "_model_name": "DescriptionStyleModel",
            "_view_count": null,
            "_view_module": "@jupyter-widgets/base",
            "_view_module_version": "1.2.0",
            "_view_name": "StyleView",
            "description_width": ""
          }
        },
        "a811b11e4b084a8ba0bd47768e67601d": {
          "model_module": "@jupyter-widgets/base",
          "model_name": "LayoutModel",
          "model_module_version": "1.2.0",
          "state": {
            "_model_module": "@jupyter-widgets/base",
            "_model_module_version": "1.2.0",
            "_model_name": "LayoutModel",
            "_view_count": null,
            "_view_module": "@jupyter-widgets/base",
            "_view_module_version": "1.2.0",
            "_view_name": "LayoutView",
            "align_content": null,
            "align_items": null,
            "align_self": null,
            "border": null,
            "bottom": null,
            "display": null,
            "flex": null,
            "flex_flow": null,
            "grid_area": null,
            "grid_auto_columns": null,
            "grid_auto_flow": null,
            "grid_auto_rows": null,
            "grid_column": null,
            "grid_gap": null,
            "grid_row": null,
            "grid_template_areas": null,
            "grid_template_columns": null,
            "grid_template_rows": null,
            "height": null,
            "justify_content": null,
            "justify_items": null,
            "left": null,
            "margin": null,
            "max_height": null,
            "max_width": null,
            "min_height": null,
            "min_width": null,
            "object_fit": null,
            "object_position": null,
            "order": null,
            "overflow": null,
            "overflow_x": null,
            "overflow_y": null,
            "padding": null,
            "right": null,
            "top": null,
            "visibility": null,
            "width": null
          }
        },
        "d7380f2d4cc74f4c91d085daf73de0c0": {
          "model_module": "@jupyter-widgets/controls",
          "model_name": "ProgressStyleModel",
          "model_module_version": "1.5.0",
          "state": {
            "_model_module": "@jupyter-widgets/controls",
            "_model_module_version": "1.5.0",
            "_model_name": "ProgressStyleModel",
            "_view_count": null,
            "_view_module": "@jupyter-widgets/base",
            "_view_module_version": "1.2.0",
            "_view_name": "StyleView",
            "bar_color": null,
            "description_width": ""
          }
        },
        "28aa823696d443e29fa7b052453af4c4": {
          "model_module": "@jupyter-widgets/base",
          "model_name": "LayoutModel",
          "model_module_version": "1.2.0",
          "state": {
            "_model_module": "@jupyter-widgets/base",
            "_model_module_version": "1.2.0",
            "_model_name": "LayoutModel",
            "_view_count": null,
            "_view_module": "@jupyter-widgets/base",
            "_view_module_version": "1.2.0",
            "_view_name": "LayoutView",
            "align_content": null,
            "align_items": null,
            "align_self": null,
            "border": null,
            "bottom": null,
            "display": null,
            "flex": null,
            "flex_flow": null,
            "grid_area": null,
            "grid_auto_columns": null,
            "grid_auto_flow": null,
            "grid_auto_rows": null,
            "grid_column": null,
            "grid_gap": null,
            "grid_row": null,
            "grid_template_areas": null,
            "grid_template_columns": null,
            "grid_template_rows": null,
            "height": null,
            "justify_content": null,
            "justify_items": null,
            "left": null,
            "margin": null,
            "max_height": null,
            "max_width": null,
            "min_height": null,
            "min_width": null,
            "object_fit": null,
            "object_position": null,
            "order": null,
            "overflow": null,
            "overflow_x": null,
            "overflow_y": null,
            "padding": null,
            "right": null,
            "top": null,
            "visibility": null,
            "width": null
          }
        },
        "0f676754f43f450183467aba3bc758af": {
          "model_module": "@jupyter-widgets/controls",
          "model_name": "DescriptionStyleModel",
          "model_module_version": "1.5.0",
          "state": {
            "_model_module": "@jupyter-widgets/controls",
            "_model_module_version": "1.5.0",
            "_model_name": "DescriptionStyleModel",
            "_view_count": null,
            "_view_module": "@jupyter-widgets/base",
            "_view_module_version": "1.2.0",
            "_view_name": "StyleView",
            "description_width": ""
          }
        }
      }
    }
  },
  "nbformat_minor": 0,
  "nbformat": 4,
  "cells": [
    {
      "cell_type": "code",
      "source": [
        "data = data[['text', 'class']]"
      ],
      "metadata": {
        "id": "6eXzYg0NOs_L"
      },
      "execution_count": null,
      "outputs": []
    },
    {
      "cell_type": "code",
      "source": [
        "data['class'] = pd.Categorical(data['class'])"
      ],
      "metadata": {
        "colab": {
          "base_uri": "https://localhost:8080/"
        },
        "id": "y_ndQyPfPEyR",
        "outputId": "da5308a7-2159-4155-934d-f3f896edacfa"
      },
      "execution_count": null,
      "outputs": [
        {
          "output_type": "stream",
          "name": "stderr",
          "text": [
            "<ipython-input-13-f0a1318db573>:1: SettingWithCopyWarning: \n",
            "A value is trying to be set on a copy of a slice from a DataFrame.\n",
            "Try using .loc[row_indexer,col_indexer] = value instead\n",
            "\n",
            "See the caveats in the documentation: https://pandas.pydata.org/pandas-docs/stable/user_guide/indexing.html#returning-a-view-versus-a-copy\n",
            "  data['class'] = pd.Categorical(data['class'])\n"
          ]
        }
      ]
    },
    {
      "cell_type": "code",
      "source": [
        "data['class'] = data['class'].cat.codes"
      ],
      "metadata": {
        "colab": {
          "base_uri": "https://localhost:8080/"
        },
        "id": "Y0ZEH_wxPPIF",
        "outputId": "96900bb8-8986-4ce6-c5e5-e40cc9183d15"
      },
      "execution_count": null,
      "outputs": [
        {
          "output_type": "stream",
          "name": "stderr",
          "text": [
            "<ipython-input-15-e0e21d40cc58>:1: SettingWithCopyWarning: \n",
            "A value is trying to be set on a copy of a slice from a DataFrame.\n",
            "Try using .loc[row_indexer,col_indexer] = value instead\n",
            "\n",
            "See the caveats in the documentation: https://pandas.pydata.org/pandas-docs/stable/user_guide/indexing.html#returning-a-view-versus-a-copy\n",
            "  data['class'] = data['class'].cat.codes\n"
          ]
        }
      ]
    },
    {
      "cell_type": "code",
      "source": [
        "data"
      ],
      "metadata": {
        "colab": {
          "base_uri": "https://localhost:8080/",
          "height": 424
        },
        "id": "tPF7W6bePT75",
        "outputId": "24fb8a4b-5b3b-4ab5-ffc1-d5051385692f"
      },
      "execution_count": null,
      "outputs": [
        {
          "output_type": "execute_result",
          "data": {
            "text/plain": [
              "                                                 text  class\n",
              "0   {\"_index\":\"documents\",\"_type\":\"_doc\",\"_id\":\"pu...      0\n",
              "1   {\"_index\":\"documents\",\"_type\":\"_doc\",\"_id\":\"pu...      0\n",
              "2   {\"_index\":\"documents\",\"_type\":\"_doc\",\"_id\":\"pu...      0\n",
              "3   {\"_index\":\"documents\",\"_type\":\"_doc\",\"_id\":\"cb...      0\n",
              "4   {\"_index\":\"documents\",\"_type\":\"_doc\",\"_id\":\"fa...      0\n",
              "..                                                ...    ...\n",
              "95  {\"_index\":\"documents\",\"_type\":\"_doc\",\"_id\":\"pu...      1\n",
              "96  {\"_index\":\"documents\",\"_type\":\"_doc\",\"_id\":\"pu...      0\n",
              "97  {\"_index\":\"documents\",\"_type\":\"_doc\",\"_id\":\"pu...      0\n",
              "98  {\"_index\":\"documents\",\"_type\":\"_doc\",\"_id\":\"fa...      0\n",
              "99  {\"_index\":\"documents\",\"_type\":\"_doc\",\"_id\":\"fa...      0\n",
              "\n",
              "[100 rows x 2 columns]"
            ],
            "text/html": [
              "\n",
              "  <div id=\"df-60c3f81c-5b23-4c5f-992f-f552308b2340\">\n",
              "    <div class=\"colab-df-container\">\n",
              "      <div>\n",
              "<style scoped>\n",
              "    .dataframe tbody tr th:only-of-type {\n",
              "        vertical-align: middle;\n",
              "    }\n",
              "\n",
              "    .dataframe tbody tr th {\n",
              "        vertical-align: top;\n",
              "    }\n",
              "\n",
              "    .dataframe thead th {\n",
              "        text-align: right;\n",
              "    }\n",
              "</style>\n",
              "<table border=\"1\" class=\"dataframe\">\n",
              "  <thead>\n",
              "    <tr style=\"text-align: right;\">\n",
              "      <th></th>\n",
              "      <th>text</th>\n",
              "      <th>class</th>\n",
              "    </tr>\n",
              "  </thead>\n",
              "  <tbody>\n",
              "    <tr>\n",
              "      <th>0</th>\n",
              "      <td>{\"_index\":\"documents\",\"_type\":\"_doc\",\"_id\":\"pu...</td>\n",
              "      <td>0</td>\n",
              "    </tr>\n",
              "    <tr>\n",
              "      <th>1</th>\n",
              "      <td>{\"_index\":\"documents\",\"_type\":\"_doc\",\"_id\":\"pu...</td>\n",
              "      <td>0</td>\n",
              "    </tr>\n",
              "    <tr>\n",
              "      <th>2</th>\n",
              "      <td>{\"_index\":\"documents\",\"_type\":\"_doc\",\"_id\":\"pu...</td>\n",
              "      <td>0</td>\n",
              "    </tr>\n",
              "    <tr>\n",
              "      <th>3</th>\n",
              "      <td>{\"_index\":\"documents\",\"_type\":\"_doc\",\"_id\":\"cb...</td>\n",
              "      <td>0</td>\n",
              "    </tr>\n",
              "    <tr>\n",
              "      <th>4</th>\n",
              "      <td>{\"_index\":\"documents\",\"_type\":\"_doc\",\"_id\":\"fa...</td>\n",
              "      <td>0</td>\n",
              "    </tr>\n",
              "    <tr>\n",
              "      <th>...</th>\n",
              "      <td>...</td>\n",
              "      <td>...</td>\n",
              "    </tr>\n",
              "    <tr>\n",
              "      <th>95</th>\n",
              "      <td>{\"_index\":\"documents\",\"_type\":\"_doc\",\"_id\":\"pu...</td>\n",
              "      <td>1</td>\n",
              "    </tr>\n",
              "    <tr>\n",
              "      <th>96</th>\n",
              "      <td>{\"_index\":\"documents\",\"_type\":\"_doc\",\"_id\":\"pu...</td>\n",
              "      <td>0</td>\n",
              "    </tr>\n",
              "    <tr>\n",
              "      <th>97</th>\n",
              "      <td>{\"_index\":\"documents\",\"_type\":\"_doc\",\"_id\":\"pu...</td>\n",
              "      <td>0</td>\n",
              "    </tr>\n",
              "    <tr>\n",
              "      <th>98</th>\n",
              "      <td>{\"_index\":\"documents\",\"_type\":\"_doc\",\"_id\":\"fa...</td>\n",
              "      <td>0</td>\n",
              "    </tr>\n",
              "    <tr>\n",
              "      <th>99</th>\n",
              "      <td>{\"_index\":\"documents\",\"_type\":\"_doc\",\"_id\":\"fa...</td>\n",
              "      <td>0</td>\n",
              "    </tr>\n",
              "  </tbody>\n",
              "</table>\n",
              "<p>100 rows × 2 columns</p>\n",
              "</div>\n",
              "      <button class=\"colab-df-convert\" onclick=\"convertToInteractive('df-60c3f81c-5b23-4c5f-992f-f552308b2340')\"\n",
              "              title=\"Convert this dataframe to an interactive table.\"\n",
              "              style=\"display:none;\">\n",
              "        \n",
              "  <svg xmlns=\"http://www.w3.org/2000/svg\" height=\"24px\"viewBox=\"0 0 24 24\"\n",
              "       width=\"24px\">\n",
              "    <path d=\"M0 0h24v24H0V0z\" fill=\"none\"/>\n",
              "    <path d=\"M18.56 5.44l.94 2.06.94-2.06 2.06-.94-2.06-.94-.94-2.06-.94 2.06-2.06.94zm-11 1L8.5 8.5l.94-2.06 2.06-.94-2.06-.94L8.5 2.5l-.94 2.06-2.06.94zm10 10l.94 2.06.94-2.06 2.06-.94-2.06-.94-.94-2.06-.94 2.06-2.06.94z\"/><path d=\"M17.41 7.96l-1.37-1.37c-.4-.4-.92-.59-1.43-.59-.52 0-1.04.2-1.43.59L10.3 9.45l-7.72 7.72c-.78.78-.78 2.05 0 2.83L4 21.41c.39.39.9.59 1.41.59.51 0 1.02-.2 1.41-.59l7.78-7.78 2.81-2.81c.8-.78.8-2.07 0-2.86zM5.41 20L4 18.59l7.72-7.72 1.47 1.35L5.41 20z\"/>\n",
              "  </svg>\n",
              "      </button>\n",
              "      \n",
              "  <style>\n",
              "    .colab-df-container {\n",
              "      display:flex;\n",
              "      flex-wrap:wrap;\n",
              "      gap: 12px;\n",
              "    }\n",
              "\n",
              "    .colab-df-convert {\n",
              "      background-color: #E8F0FE;\n",
              "      border: none;\n",
              "      border-radius: 50%;\n",
              "      cursor: pointer;\n",
              "      display: none;\n",
              "      fill: #1967D2;\n",
              "      height: 32px;\n",
              "      padding: 0 0 0 0;\n",
              "      width: 32px;\n",
              "    }\n",
              "\n",
              "    .colab-df-convert:hover {\n",
              "      background-color: #E2EBFA;\n",
              "      box-shadow: 0px 1px 2px rgba(60, 64, 67, 0.3), 0px 1px 3px 1px rgba(60, 64, 67, 0.15);\n",
              "      fill: #174EA6;\n",
              "    }\n",
              "\n",
              "    [theme=dark] .colab-df-convert {\n",
              "      background-color: #3B4455;\n",
              "      fill: #D2E3FC;\n",
              "    }\n",
              "\n",
              "    [theme=dark] .colab-df-convert:hover {\n",
              "      background-color: #434B5C;\n",
              "      box-shadow: 0px 1px 3px 1px rgba(0, 0, 0, 0.15);\n",
              "      filter: drop-shadow(0px 1px 2px rgba(0, 0, 0, 0.3));\n",
              "      fill: #FFFFFF;\n",
              "    }\n",
              "  </style>\n",
              "\n",
              "      <script>\n",
              "        const buttonEl =\n",
              "          document.querySelector('#df-60c3f81c-5b23-4c5f-992f-f552308b2340 button.colab-df-convert');\n",
              "        buttonEl.style.display =\n",
              "          google.colab.kernel.accessAllowed ? 'block' : 'none';\n",
              "\n",
              "        async function convertToInteractive(key) {\n",
              "          const element = document.querySelector('#df-60c3f81c-5b23-4c5f-992f-f552308b2340');\n",
              "          const dataTable =\n",
              "            await google.colab.kernel.invokeFunction('convertToInteractive',\n",
              "                                                     [key], {});\n",
              "          if (!dataTable) return;\n",
              "\n",
              "          const docLinkHtml = 'Like what you see? Visit the ' +\n",
              "            '<a target=\"_blank\" href=https://colab.research.google.com/notebooks/data_table.ipynb>data table notebook</a>'\n",
              "            + ' to learn more about interactive tables.';\n",
              "          element.innerHTML = '';\n",
              "          dataTable['output_type'] = 'display_data';\n",
              "          await google.colab.output.renderOutput(dataTable, element);\n",
              "          const docLink = document.createElement('div');\n",
              "          docLink.innerHTML = docLinkHtml;\n",
              "          element.appendChild(docLink);\n",
              "        }\n",
              "      </script>\n",
              "    </div>\n",
              "  </div>\n",
              "  "
            ]
          },
          "metadata": {},
          "execution_count": 16
        }
      ]
    },
    {
      "cell_type": "code",
      "source": [
        "# # Import data from csv\n",
        "# data = pd.read_csv('/content/drive/MyDrive/train_all.tsv', sep='\\t')\n",
        "\n",
        "# # Select required columns\n",
        "# data = data[['text', f'{CLASS_NAME}_stance', f'{CLASS_NAME}_argument']]\n",
        "\n",
        "# # Set your model output as categorical and save in new label col\n",
        "# data['stance_label'] = pd.Categorical(data[f'{CLASS_NAME}_stance'])\n",
        "# data['argument_label'] = pd.Categorical(data[f'{CLASS_NAME}_argument'])\n",
        "\n",
        "# # Transform your output to numeric\n",
        "# data[f'{CLASS_NAME}_stance'] = data['stance_label'].cat.codes\n",
        "# data[f'{CLASS_NAME}_argument'] = data['argument_label'].cat.codes"
      ],
      "metadata": {
        "id": "NVVWbOoQ7lm3",
        "execution": {
          "iopub.status.busy": "2023-04-21T18:17:48.161353Z",
          "iopub.execute_input": "2023-04-21T18:17:48.162310Z",
          "iopub.status.idle": "2023-04-21T18:17:48.205039Z",
          "shell.execute_reply.started": "2023-04-21T18:17:48.162270Z",
          "shell.execute_reply": "2023-04-21T18:17:48.204086Z"
        },
        "trusted": true
      },
      "execution_count": null,
      "outputs": []
    },
    {
      "cell_type": "code",
      "source": [
        "# Import data from csv\n",
        "data_test = pd.read_csv('data_test.csv')\n",
        "\n",
        "# Select required columns\n",
        "data_test = data_test[['text', 'class']]\n",
        "\n",
        "# Set your model output as categorical and save in new label col\n",
        "data_test['class'] = pd.Categorical(data_test['class'])\n",
        "# data_test['argument_label'] = pd.Categorical(data_test[f'{CLASS_NAME}_argument'])\n",
        "\n",
        "# Transform your output to numeric\n",
        "data_test['class'] = data_test['class'].cat.codes\n",
        "# data_test[f'{CLASS_NAME}_argument'] = data_test['argument_label'].cat.codes"
      ],
      "metadata": {
        "id": "JmNAZNsh7snH",
        "execution": {
          "iopub.status.busy": "2023-04-21T18:17:48.867016Z",
          "iopub.execute_input": "2023-04-21T18:17:48.867412Z",
          "iopub.status.idle": "2023-04-21T18:17:48.887803Z",
          "shell.execute_reply.started": "2023-04-21T18:17:48.867377Z",
          "shell.execute_reply": "2023-04-21T18:17:48.886726Z"
        },
        "trusted": true
      },
      "execution_count": null,
      "outputs": []
    },
    {
      "cell_type": "code",
      "source": [
        "class_ = to_categorical(data['class'])"
      ],
      "metadata": {
        "id": "JuEzyI1FPaob"
      },
      "execution_count": null,
      "outputs": []
    },
    {
      "cell_type": "code",
      "source": [
        "# y_stance = to_categorical(data[f'{CLASS_NAME}_stance'])\n",
        "# y_argument = to_categorical(data[f'{CLASS_NAME}_argument'])"
      ],
      "metadata": {
        "id": "YRvtrqLD9axT",
        "execution": {
          "iopub.status.busy": "2023-04-21T18:17:49.454456Z",
          "iopub.execute_input": "2023-04-21T18:17:49.456419Z",
          "iopub.status.idle": "2023-04-21T18:17:49.462439Z",
          "shell.execute_reply.started": "2023-04-21T18:17:49.456363Z",
          "shell.execute_reply": "2023-04-21T18:17:49.461467Z"
        },
        "trusted": true
      },
      "execution_count": null,
      "outputs": []
    },
    {
      "cell_type": "code",
      "source": [
        "# sentences = data['text']"
      ],
      "metadata": {
        "id": "xUpgsAzq86J1",
        "execution": {
          "iopub.status.busy": "2023-04-21T18:17:50.006494Z",
          "iopub.execute_input": "2023-04-21T18:17:50.007608Z",
          "iopub.status.idle": "2023-04-21T18:17:50.014045Z",
          "shell.execute_reply.started": "2023-04-21T18:17:50.007555Z",
          "shell.execute_reply": "2023-04-21T18:17:50.012545Z"
        },
        "trusted": true
      },
      "execution_count": null,
      "outputs": []
    },
    {
      "cell_type": "code",
      "source": [
        "# Name of the BERT model to use\n",
        "model_name = 'DeepPavlov/rubert-base-cased-sentence'\n",
        "\n",
        "# Load transformers config and set output_hidden_states to False\n",
        "config = BertConfig.from_pretrained(model_name)\n",
        "config.output_hidden_states = False\n",
        "\n",
        "# Load BERT tokenizer\n",
        "tokenizer = BertTokenizerFast.from_pretrained(pretrained_model_name_or_path = model_name, config=config)"
      ],
      "metadata": {
        "id": "86SYIf7gva9U",
        "colab": {
          "base_uri": "https://localhost:8080/",
          "height": 145,
          "referenced_widgets": [
            "9d941319c0c04b83b9cb13b002a4cac7",
            "39186bf7595e4cfb9c7b1d656bbe4f34",
            "3bfd959d04e44d81a47fcc391b4f57b8",
            "3f747ac8defc49578372e07457cc9113",
            "0fcf12a8a3e74eaa8af108d7bdd53fb1",
            "d49833e97fec425b89c2c28c36d7b9ba",
            "0e46f9051aab494aae28470aee8181d5",
            "7f17ea2927b045849088d3036889d43a",
            "22eb9f2c5f3f415d800583917dadae23",
            "adaa3f74bc69456986bc376c76389e37",
            "47512bb7dae54a2fa60ff14f1b3db333",
            "20c2a797e3bb4fc9b73bdafa489ce86b",
            "011a87d2085e4976855ae3784c108601",
            "5411f73938eb485ea3d3739f3af015ac",
            "45be3da6273c4fa0b142c558141ef1f3",
            "7e2564d79c4b45779bfff11c252e0b52",
            "0e76aa8292614375a0e0982802fea54e",
            "7190d0d2c93c4c7b9eba510a5fb471db",
            "c612fffefbe24bfda9358004e7e32e47",
            "3b7c27b568394fd5895588e1a5b26999",
            "a48469cd614748ae9fe286740c4fc42d",
            "7bb40219e2a84f9389ec062de1543444",
            "cdd0bb531aae4a53bd135c0bf82a4e0d",
            "6dc84d8e32414583a16bb9c43795506c",
            "72f14f3545464b18a7177e24053a44e5",
            "4405d5ad655042fb815e6b92110de507",
            "75889a9e47894b77834ed1fb6cb012c0",
            "7a78b61b821049a991023a259fb9f17b",
            "a3b89bd4802d4d9087317393cf92b495",
            "bf6396a07f674af4837ee78d2bd45e68",
            "74cef17fcf4c4f6399d8ff352af64d21",
            "fe054dbf35df43fca6829d3e88cab845",
            "b24dda2a29c345bbbdd92898aafd98a2",
            "11634fc525184b37abfffd49529786f4",
            "74884694e7c14069a626576472feb1e2",
            "006bb18bf67641d3b618532149f5963d",
            "d45d0ec8a21b41a8bc0ec272fa3edeaa",
            "8d3d648b371f4a57ba3176acf3258dfb",
            "6dfad81bc53f4f2382382e092274636a",
            "12d3b240627a4234ae5acf4eae18e031",
            "302103f4a85146fdbb67f1f6a5df14d5",
            "badea7d15247406f812138b58474789c",
            "f27a4eca039043a8b74a1d7fa0e4d2af",
            "543ffcb412c346dd9b49307dc86aa641"
          ]
        },
        "outputId": "7999628d-40d9-4ba4-d544-762b05051051"
      },
      "execution_count": null,
      "outputs": [
        {
          "output_type": "display_data",
          "data": {
            "text/plain": [
              "Downloading (…)lve/main/config.json:   0%|          | 0.00/642 [00:00<?, ?B/s]"
            ],
            "application/vnd.jupyter.widget-view+json": {
              "version_major": 2,
              "version_minor": 0,
              "model_id": "9d941319c0c04b83b9cb13b002a4cac7"
            }
          },
          "metadata": {}
        },
        {
          "output_type": "display_data",
          "data": {
            "text/plain": [
              "Downloading (…)okenizer_config.json:   0%|          | 0.00/24.0 [00:00<?, ?B/s]"
            ],
            "application/vnd.jupyter.widget-view+json": {
              "version_major": 2,
              "version_minor": 0,
              "model_id": "20c2a797e3bb4fc9b73bdafa489ce86b"
            }
          },
          "metadata": {}
        },
        {
          "output_type": "display_data",
          "data": {
            "text/plain": [
              "Downloading (…)solve/main/vocab.txt:   0%|          | 0.00/1.65M [00:00<?, ?B/s]"
            ],
            "application/vnd.jupyter.widget-view+json": {
              "version_major": 2,
              "version_minor": 0,
              "model_id": "cdd0bb531aae4a53bd135c0bf82a4e0d"
            }
          },
          "metadata": {}
        },
        {
          "output_type": "display_data",
          "data": {
            "text/plain": [
              "Downloading (…)cial_tokens_map.json:   0%|          | 0.00/112 [00:00<?, ?B/s]"
            ],
            "application/vnd.jupyter.widget-view+json": {
              "version_major": 2,
              "version_minor": 0,
              "model_id": "11634fc525184b37abfffd49529786f4"
            }
          },
          "metadata": {}
        }
      ]
    },
    {
      "cell_type": "code",
      "source": [
        "# tokenizer = Tokenizer(num_words=20500)"
      ],
      "metadata": {
        "id": "2jt7r9WD95Fu",
        "execution": {
          "iopub.status.busy": "2023-04-21T18:17:50.964382Z",
          "iopub.execute_input": "2023-04-21T18:17:50.965334Z",
          "iopub.status.idle": "2023-04-21T18:17:50.972222Z",
          "shell.execute_reply.started": "2023-04-21T18:17:50.965280Z",
          "shell.execute_reply": "2023-04-21T18:17:50.971140Z"
        },
        "trusted": true
      },
      "execution_count": null,
      "outputs": []
    },
    {
      "cell_type": "code",
      "source": [
        "train_x = tokenizer(\n",
        "    text=data['text'].to_list(),\n",
        "    add_special_tokens=True,\n",
        "    max_length=256,\n",
        "    truncation=True,\n",
        "    padding='max_length',\n",
        "    return_tensors='tf',\n",
        "    return_token_type_ids = False,\n",
        "    return_attention_mask = False,\n",
        "    verbose = True)"
      ],
      "metadata": {
        "id": "X8rCvoPUvyxM"
      },
      "execution_count": null,
      "outputs": []
    },
    {
      "cell_type": "code",
      "source": [
        "train_x['input_ids']"
      ],
      "metadata": {
        "colab": {
          "base_uri": "https://localhost:8080/"
        },
        "id": "GawDbXeJw718",
        "outputId": "4848da40-3283-4c36-9bd4-99f2967fcb2e"
      },
      "execution_count": null,
      "outputs": [
        {
          "output_type": "execute_result",
          "data": {
            "text/plain": [
              "<tf.Tensor: shape=(100, 256), dtype=int32, numpy=\n",
              "array([[  101,   284,   108, ...,   258, 76428,   102],\n",
              "       [  101,   284,   108, ..., 17402,   108,   102],\n",
              "       [  101,   284,   108, ..., 12931, 15900,   102],\n",
              "       ...,\n",
              "       [  101,   284,   108, ..., 11756,   132,   102],\n",
              "       [  101,   284,   108, ..., 12259,   241,   102],\n",
              "       [  101,   284,   108, ..., 12723, 12259,   102]], dtype=int32)>"
            ]
          },
          "metadata": {},
          "execution_count": 22
        }
      ]
    },
    {
      "cell_type": "code",
      "source": [
        "# tokenizer.fit_on_texts(sentences)\n",
        "# len(test_x)"
      ],
      "metadata": {
        "id": "Ug4nk0hR99EE",
        "execution": {
          "iopub.status.busy": "2023-04-21T18:17:52.675562Z",
          "iopub.execute_input": "2023-04-21T18:17:52.676624Z",
          "iopub.status.idle": "2023-04-21T18:17:52.912508Z",
          "shell.execute_reply.started": "2023-04-21T18:17:52.676565Z",
          "shell.execute_reply": "2023-04-21T18:17:52.911439Z"
        },
        "trusted": true
      },
      "execution_count": null,
      "outputs": []
    },
    {
      "cell_type": "code",
      "source": [
        "# len(tokenizer.word_index)"
      ],
      "metadata": {
        "colab": {
          "base_uri": "https://localhost:8080/"
        },
        "id": "RFeBzEDc-DCm",
        "outputId": "44e3c59e-89aa-450d-8018-24a21dbd2154",
        "execution": {
          "iopub.status.busy": "2023-04-21T18:17:53.302506Z",
          "iopub.execute_input": "2023-04-21T18:17:53.303673Z",
          "iopub.status.idle": "2023-04-21T18:17:53.311096Z",
          "shell.execute_reply.started": "2023-04-21T18:17:53.303619Z",
          "shell.execute_reply": "2023-04-21T18:17:53.309823Z"
        },
        "trusted": true
      },
      "execution_count": null,
      "outputs": [
        {
          "output_type": "execute_result",
          "data": {
            "text/plain": [
              "20017"
            ]
          },
          "metadata": {},
          "execution_count": 25
        }
      ]
    },
    {
      "cell_type": "code",
      "source": [
        "# Name of the BERT model to use\n",
        "model_name = 'DeepPavlov/rubert-base-cased-sentence'\n",
        "\n",
        "# Load transformers config and set output_hidden_states to False\n",
        "config = BertConfig.from_pretrained(model_name)\n",
        "config.output_hidden_states = False\n",
        "\n",
        "# Load BERT tokenizer\n",
        "# tokenizer = BertTokenizerFast.from_pretrained(pretrained_model_name_or_path = model_name, config=config)\n",
        "\n",
        "# Load the Transformers BERT model\n",
        "transformer_model = TFBertModel.from_pretrained(model_name, config=config, from_pt=True)\n",
        "transformer_model.trainable = False\n",
        "# Load the MainLayer\n",
        "bert = transformer_model.layers[0]"
      ],
      "metadata": {
        "colab": {
          "base_uri": "https://localhost:8080/",
          "height": 118,
          "referenced_widgets": [
            "1369f8023b5240aa937356887405033b",
            "cb6a71ffc99845a58fdcef54f336f87b",
            "ece25bd03ed2481dab455570c4188307",
            "d5bb801c92684368905356b7383fe329",
            "ac0a2b955643487993733564506c93d0",
            "70e29ed1452b4ca2bc76d054d7e2bcd8",
            "043ef2d2760448f0bbe8e7be064a48fa",
            "a811b11e4b084a8ba0bd47768e67601d",
            "d7380f2d4cc74f4c91d085daf73de0c0",
            "28aa823696d443e29fa7b052453af4c4",
            "0f676754f43f450183467aba3bc758af"
          ]
        },
        "id": "lIWTzvpbJtl0",
        "outputId": "ccf7b8ce-ba3e-417b-cbe6-c2c181f14ff4"
      },
      "execution_count": null,
      "outputs": [
        {
          "output_type": "display_data",
          "data": {
            "text/plain": [
              "Downloading pytorch_model.bin:   0%|          | 0.00/711M [00:00<?, ?B/s]"
            ],
            "application/vnd.jupyter.widget-view+json": {
              "version_major": 2,
              "version_minor": 0,
              "model_id": "1369f8023b5240aa937356887405033b"
            }
          },
          "metadata": {}
        },
        {
          "output_type": "stream",
          "name": "stderr",
          "text": [
            "All PyTorch model weights were used when initializing TFBertModel.\n",
            "\n",
            "All the weights of TFBertModel were initialized from the PyTorch model.\n",
            "If your task is similar to the task the model of the checkpoint was trained on, you can already use TFBertModel for predictions without further training.\n"
          ]
        }
      ]
    },
    {
      "cell_type": "code",
      "source": [
        "model_cnn = Sequential()\n",
        "model_cnn.add(Embedding(20000, 64, input_length=256)) # 128, 64 to 32 and 20500 to 30000\n",
        "model_cnn.add(Conv1D(250, 6, padding='valid', activation='softplus')) # 10, 6 to 5\n",
        "model_cnn.add(GlobalMaxPooling1D())\n",
        "model_cnn.add(Dense(128, activation='softplus'))\n",
        "model_cnn.add(Dense(3, activation='softmax'))"
      ],
      "metadata": {
        "id": "8NdMZ32z8WXV",
        "execution": {
          "iopub.status.busy": "2023-04-21T18:26:14.456366Z",
          "iopub.execute_input": "2023-04-21T18:26:14.457137Z",
          "iopub.status.idle": "2023-04-21T18:26:14.555888Z",
          "shell.execute_reply.started": "2023-04-21T18:26:14.457085Z",
          "shell.execute_reply": "2023-04-21T18:26:14.554755Z"
        },
        "trusted": true
      },
      "execution_count": null,
      "outputs": []
    },
    {
      "cell_type": "code",
      "source": [
        "optimizer = Adam(\n",
        "    learning_rate=1e-3, # default value\n",
        "    epsilon=1e-8, # default value 1e-8\n",
        "    clipnorm=0.1) # or 0.1, 1.0, etc.\n",
        "\n",
        "model_cnn.compile(optimizer=optimizer, loss='categorical_crossentropy', metrics=['accuracy'])\n",
        "\n",
        "# model_cnn.compile(optimizer=Adam(lr=1e-3),\n",
        "#               loss='categorical_crossentropy',\n",
        "#               metrics=['accuracy'])"
      ],
      "metadata": {
        "id": "9meJgwxK8cpU",
        "execution": {
          "iopub.status.busy": "2023-04-21T18:26:16.241426Z",
          "iopub.execute_input": "2023-04-21T18:26:16.242507Z",
          "iopub.status.idle": "2023-04-21T18:26:16.256688Z",
          "shell.execute_reply.started": "2023-04-21T18:26:16.242455Z",
          "shell.execute_reply": "2023-04-21T18:26:16.255629Z"
        },
        "trusted": true
      },
      "execution_count": null,
      "outputs": []
    },
    {
      "cell_type": "code",
      "source": [
        "model_cnn.summary()"
      ],
      "metadata": {
        "colab": {
          "base_uri": "https://localhost:8080/"
        },
        "id": "5WxIxNpL-vt5",
        "outputId": "81888ada-3c30-4666-c614-0abc684f5ddf",
        "execution": {
          "iopub.status.busy": "2023-04-21T18:26:17.437344Z",
          "iopub.execute_input": "2023-04-21T18:26:17.438121Z",
          "iopub.status.idle": "2023-04-21T18:26:17.467810Z",
          "shell.execute_reply.started": "2023-04-21T18:26:17.438057Z",
          "shell.execute_reply": "2023-04-21T18:26:17.466991Z"
        },
        "trusted": true
      },
      "execution_count": null,
      "outputs": [
        {
          "output_type": "stream",
          "name": "stdout",
          "text": [
            "Model: \"sequential_2\"\n",
            "_________________________________________________________________\n",
            " Layer (type)                Output Shape              Param #   \n",
            "=================================================================\n",
            " embedding_2 (Embedding)     (None, 256, 64)           1280000   \n",
            "                                                                 \n",
            " conv1d_2 (Conv1D)           (None, 251, 250)          96250     \n",
            "                                                                 \n",
            " global_max_pooling1d_2 (Glo  (None, 250)              0         \n",
            " balMaxPooling1D)                                                \n",
            "                                                                 \n",
            " dense_4 (Dense)             (None, 128)               32128     \n",
            "                                                                 \n",
            " dense_5 (Dense)             (None, 3)                 387       \n",
            "                                                                 \n",
            "=================================================================\n",
            "Total params: 1,408,765\n",
            "Trainable params: 1,408,765\n",
            "Non-trainable params: 0\n",
            "_________________________________________________________________\n"
          ]
        }
      ]
    },
    {
      "cell_type": "code",
      "source": [
        "model_cnn_save_path = 'best_model_cnn.h5'\n",
        "checkpoint_callback_cnn = ModelCheckpoint(model_cnn_save_path,\n",
        "                                      monitor='val_accuracy',\n",
        "                                      save_best_only=True,\n",
        "                                      verbose=1)"
      ],
      "metadata": {
        "id": "nV6Nd0wG-x5j",
        "execution": {
          "iopub.status.busy": "2023-04-21T18:26:18.622884Z",
          "iopub.execute_input": "2023-04-21T18:26:18.623918Z",
          "iopub.status.idle": "2023-04-21T18:26:18.629287Z",
          "shell.execute_reply.started": "2023-04-21T18:26:18.623876Z",
          "shell.execute_reply": "2023-04-21T18:26:18.628358Z"
        },
        "trusted": true
      },
      "execution_count": null,
      "outputs": []
    },
    {
      "cell_type": "code",
      "source": [
        "n_epochs = 100\n",
        "n_batch_size = 8"
      ],
      "metadata": {
        "id": "OB9gQ1RA3myb"
      },
      "execution_count": null,
      "outputs": []
    },
    {
      "cell_type": "code",
      "source": [
        "history_cnn_stance = model_cnn.fit(train_x['input_ids'],\n",
        "                            class_,\n",
        "                            epochs=n_epochs,\n",
        "                            batch_size=n_batch_size,\n",
        "                            validation_split = 0.1,\n",
        "                            callbacks=[checkpoint_callback_cnn])"
      ],
      "metadata": {
        "colab": {
          "base_uri": "https://localhost:8080/"
        },
        "id": "AvGTx_Ni-26h",
        "outputId": "d7a169bd-2119-4b1b-8458-d4d3d2c29b4c",
        "execution": {
          "iopub.status.busy": "2023-04-21T18:26:20.321580Z",
          "iopub.execute_input": "2023-04-21T18:26:20.321987Z",
          "iopub.status.idle": "2023-04-21T18:27:01.071858Z",
          "shell.execute_reply.started": "2023-04-21T18:26:20.321951Z",
          "shell.execute_reply": "2023-04-21T18:27:01.071125Z"
        },
        "trusted": true
      },
      "execution_count": null,
      "outputs": [
        {
          "output_type": "stream",
          "name": "stdout",
          "text": [
            "Epoch 1/100\n",
            "12/12 [==============================] - ETA: 0s - loss: 0.0789 - accuracy: 0.9778\n",
            "Epoch 1: val_accuracy did not improve from 0.60000\n",
            "12/12 [==============================] - 1s 60ms/step - loss: 0.0789 - accuracy: 0.9778 - val_loss: 4.7520 - val_accuracy: 0.5000\n",
            "Epoch 2/100\n",
            "12/12 [==============================] - ETA: 0s - loss: 0.1013 - accuracy: 0.9556\n",
            "Epoch 2: val_accuracy did not improve from 0.60000\n",
            "12/12 [==============================] - 1s 90ms/step - loss: 0.1013 - accuracy: 0.9556 - val_loss: 3.3814 - val_accuracy: 0.6000\n",
            "Epoch 3/100\n",
            "12/12 [==============================] - ETA: 0s - loss: 0.0674 - accuracy: 0.9667\n",
            "Epoch 3: val_accuracy did not improve from 0.60000\n",
            "12/12 [==============================] - 1s 48ms/step - loss: 0.0674 - accuracy: 0.9667 - val_loss: 5.2693 - val_accuracy: 0.5000\n",
            "Epoch 4/100\n",
            "11/12 [==========================>...] - ETA: 0s - loss: 0.0365 - accuracy: 0.9659\n",
            "Epoch 4: val_accuracy did not improve from 0.60000\n",
            "12/12 [==============================] - 0s 29ms/step - loss: 0.0356 - accuracy: 0.9667 - val_loss: 3.9770 - val_accuracy: 0.6000\n",
            "Epoch 5/100\n",
            "12/12 [==============================] - ETA: 0s - loss: 0.0402 - accuracy: 0.9889\n",
            "Epoch 5: val_accuracy did not improve from 0.60000\n",
            "12/12 [==============================] - 1s 70ms/step - loss: 0.0402 - accuracy: 0.9889 - val_loss: 5.4342 - val_accuracy: 0.5000\n",
            "Epoch 6/100\n",
            "12/12 [==============================] - ETA: 0s - loss: 0.0594 - accuracy: 0.9667\n",
            "Epoch 6: val_accuracy did not improve from 0.60000\n",
            "12/12 [==============================] - 1s 73ms/step - loss: 0.0594 - accuracy: 0.9667 - val_loss: 4.4374 - val_accuracy: 0.6000\n",
            "Epoch 7/100\n",
            "12/12 [==============================] - ETA: 0s - loss: 0.0542 - accuracy: 0.9667\n",
            "Epoch 7: val_accuracy did not improve from 0.60000\n",
            "12/12 [==============================] - 1s 89ms/step - loss: 0.0542 - accuracy: 0.9667 - val_loss: 5.5742 - val_accuracy: 0.5000\n",
            "Epoch 8/100\n",
            "11/12 [==========================>...] - ETA: 0s - loss: 0.0176 - accuracy: 0.9886\n",
            "Epoch 8: val_accuracy did not improve from 0.60000\n",
            "12/12 [==============================] - 1s 66ms/step - loss: 0.0172 - accuracy: 0.9889 - val_loss: 4.5888 - val_accuracy: 0.6000\n",
            "Epoch 9/100\n",
            "11/12 [==========================>...] - ETA: 0s - loss: 0.0610 - accuracy: 0.9773\n",
            "Epoch 9: val_accuracy did not improve from 0.60000\n",
            "12/12 [==============================] - 1s 101ms/step - loss: 0.0781 - accuracy: 0.9667 - val_loss: 5.8482 - val_accuracy: 0.5000\n",
            "Epoch 10/100\n",
            "12/12 [==============================] - ETA: 0s - loss: 0.0357 - accuracy: 0.9667\n",
            "Epoch 10: val_accuracy did not improve from 0.60000\n",
            "12/12 [==============================] - 1s 76ms/step - loss: 0.0357 - accuracy: 0.9667 - val_loss: 5.4134 - val_accuracy: 0.6000\n",
            "Epoch 11/100\n",
            "12/12 [==============================] - ETA: 0s - loss: 0.0132 - accuracy: 1.0000\n",
            "Epoch 11: val_accuracy did not improve from 0.60000\n",
            "12/12 [==============================] - 1s 118ms/step - loss: 0.0132 - accuracy: 1.0000 - val_loss: 5.3217 - val_accuracy: 0.6000\n",
            "Epoch 12/100\n",
            "12/12 [==============================] - ETA: 0s - loss: 0.0064 - accuracy: 1.0000    \n",
            "Epoch 12: val_accuracy did not improve from 0.60000\n",
            "12/12 [==============================] - 0s 8ms/step - loss: 0.0064 - accuracy: 1.0000 - val_loss: 5.5475 - val_accuracy: 0.6000\n",
            "Epoch 13/100\n",
            "11/12 [==========================>...] - ETA: 0s - loss: 0.0101 - accuracy: 1.0000\n",
            "Epoch 13: val_accuracy did not improve from 0.60000\n",
            "12/12 [==============================] - 1s 48ms/step - loss: 0.0099 - accuracy: 1.0000 - val_loss: 6.5063 - val_accuracy: 0.5000\n",
            "Epoch 14/100\n",
            " 9/12 [=====================>........] - ETA: 0s - loss: 0.0128 - accuracy: 1.0000\n",
            "Epoch 14: val_accuracy did not improve from 0.60000\n",
            "12/12 [==============================] - 0s 42ms/step - loss: 0.0103 - accuracy: 1.0000 - val_loss: 5.8352 - val_accuracy: 0.6000\n",
            "Epoch 15/100\n",
            " 8/12 [===================>..........] - ETA: 0s - loss: 0.0033 - accuracy: 1.0000\n",
            "Epoch 15: val_accuracy did not improve from 0.60000\n",
            "12/12 [==============================] - 1s 71ms/step - loss: 0.0026 - accuracy: 1.0000 - val_loss: 7.1288 - val_accuracy: 0.5000\n",
            "Epoch 16/100\n",
            "12/12 [==============================] - ETA: 0s - loss: 0.0066 - accuracy: 1.0000\n",
            "Epoch 16: val_accuracy did not improve from 0.60000\n",
            "12/12 [==============================] - 1s 68ms/step - loss: 0.0066 - accuracy: 1.0000 - val_loss: 5.5023 - val_accuracy: 0.6000\n",
            "Epoch 17/100\n",
            "11/12 [==========================>...] - ETA: 0s - loss: 0.0045 - accuracy: 1.0000    \n",
            "Epoch 17: val_accuracy did not improve from 0.60000\n",
            "12/12 [==============================] - 0s 10ms/step - loss: 0.0044 - accuracy: 1.0000 - val_loss: 7.4741 - val_accuracy: 0.5000\n",
            "Epoch 18/100\n",
            "12/12 [==============================] - ETA: 0s - loss: 0.0033 - accuracy: 1.0000\n",
            "Epoch 18: val_accuracy did not improve from 0.60000\n",
            "12/12 [==============================] - 1s 83ms/step - loss: 0.0033 - accuracy: 1.0000 - val_loss: 6.3386 - val_accuracy: 0.6000\n",
            "Epoch 19/100\n",
            "12/12 [==============================] - ETA: 0s - loss: 5.3404e-04 - accuracy: 1.0000\n",
            "Epoch 19: val_accuracy did not improve from 0.60000\n",
            "12/12 [==============================] - 0s 44ms/step - loss: 5.3404e-04 - accuracy: 1.0000 - val_loss: 7.2249 - val_accuracy: 0.5000\n",
            "Epoch 20/100\n",
            "12/12 [==============================] - ETA: 0s - loss: 8.0656e-04 - accuracy: 1.0000\n",
            "Epoch 20: val_accuracy did not improve from 0.60000\n",
            "12/12 [==============================] - 1s 51ms/step - loss: 8.0656e-04 - accuracy: 1.0000 - val_loss: 6.5027 - val_accuracy: 0.6000\n",
            "Epoch 21/100\n",
            " 8/12 [===================>..........] - ETA: 0s - loss: 0.0015 - accuracy: 1.0000\n",
            "Epoch 21: val_accuracy did not improve from 0.60000\n",
            "12/12 [==============================] - 1s 48ms/step - loss: 0.0011 - accuracy: 1.0000 - val_loss: 7.8769 - val_accuracy: 0.5000\n",
            "Epoch 22/100\n",
            "12/12 [==============================] - ETA: 0s - loss: 0.0013 - accuracy: 1.0000    \n",
            "Epoch 22: val_accuracy did not improve from 0.60000\n",
            "12/12 [==============================] - 0s 22ms/step - loss: 0.0013 - accuracy: 1.0000 - val_loss: 6.5980 - val_accuracy: 0.6000\n",
            "Epoch 23/100\n",
            " 9/12 [=====================>........] - ETA: 0s - loss: 8.1404e-04 - accuracy: 1.0000\n",
            "Epoch 23: val_accuracy did not improve from 0.60000\n",
            "12/12 [==============================] - 1s 87ms/step - loss: 6.7515e-04 - accuracy: 1.0000 - val_loss: 7.4562 - val_accuracy: 0.6000\n",
            "Epoch 24/100\n",
            "12/12 [==============================] - ETA: 0s - loss: 3.4983e-04 - accuracy: 1.0000\n",
            "Epoch 24: val_accuracy did not improve from 0.60000\n",
            "12/12 [==============================] - 0s 29ms/step - loss: 3.4983e-04 - accuracy: 1.0000 - val_loss: 7.2484 - val_accuracy: 0.6000\n",
            "Epoch 25/100\n",
            "12/12 [==============================] - ETA: 0s - loss: 2.0917e-04 - accuracy: 1.0000\n",
            "Epoch 25: val_accuracy did not improve from 0.60000\n",
            "12/12 [==============================] - 0s 29ms/step - loss: 2.0917e-04 - accuracy: 1.0000 - val_loss: 7.1549 - val_accuracy: 0.6000\n",
            "Epoch 26/100\n",
            "11/12 [==========================>...] - ETA: 0s - loss: 1.5708e-04 - accuracy: 1.0000\n",
            "Epoch 26: val_accuracy did not improve from 0.60000\n",
            "12/12 [==============================] - 0s 8ms/step - loss: 1.9804e-04 - accuracy: 1.0000 - val_loss: 7.5010 - val_accuracy: 0.6000\n",
            "Epoch 27/100\n",
            "12/12 [==============================] - ETA: 0s - loss: 1.4444e-04 - accuracy: 1.0000\n",
            "Epoch 27: val_accuracy did not improve from 0.60000\n",
            "12/12 [==============================] - 0s 43ms/step - loss: 1.4444e-04 - accuracy: 1.0000 - val_loss: 6.9993 - val_accuracy: 0.6000\n",
            "Epoch 28/100\n",
            " 8/12 [===================>..........] - ETA: 0s - loss: 2.1774e-04 - accuracy: 1.0000\n",
            "Epoch 28: val_accuracy did not improve from 0.60000\n",
            "12/12 [==============================] - 0s 30ms/step - loss: 1.9605e-04 - accuracy: 1.0000 - val_loss: 7.4824 - val_accuracy: 0.6000\n",
            "Epoch 29/100\n",
            "12/12 [==============================] - ETA: 0s - loss: 1.3688e-04 - accuracy: 1.0000\n",
            "Epoch 29: val_accuracy did not improve from 0.60000\n",
            "12/12 [==============================] - 0s 28ms/step - loss: 1.3688e-04 - accuracy: 1.0000 - val_loss: 7.6994 - val_accuracy: 0.6000\n",
            "Epoch 30/100\n",
            "12/12 [==============================] - ETA: 0s - loss: 1.2807e-04 - accuracy: 1.0000\n",
            "Epoch 30: val_accuracy did not improve from 0.60000\n",
            "12/12 [==============================] - 1s 29ms/step - loss: 1.2807e-04 - accuracy: 1.0000 - val_loss: 7.5986 - val_accuracy: 0.6000\n",
            "Epoch 31/100\n",
            "10/12 [========================>.....] - ETA: 0s - loss: 1.3267e-04 - accuracy: 1.0000\n",
            "Epoch 31: val_accuracy did not improve from 0.60000\n",
            "12/12 [==============================] - 0s 9ms/step - loss: 1.3029e-04 - accuracy: 1.0000 - val_loss: 7.4747 - val_accuracy: 0.6000\n",
            "Epoch 32/100\n",
            "10/12 [========================>.....] - ETA: 0s - loss: 1.1405e-04 - accuracy: 1.0000\n",
            "Epoch 32: val_accuracy did not improve from 0.60000\n",
            "12/12 [==============================] - 0s 9ms/step - loss: 1.0917e-04 - accuracy: 1.0000 - val_loss: 7.7392 - val_accuracy: 0.6000\n",
            "Epoch 33/100\n",
            "12/12 [==============================] - ETA: 0s - loss: 1.1882e-04 - accuracy: 1.0000\n",
            "Epoch 33: val_accuracy did not improve from 0.60000\n",
            "12/12 [==============================] - 1s 66ms/step - loss: 1.1882e-04 - accuracy: 1.0000 - val_loss: 7.7254 - val_accuracy: 0.6000\n",
            "Epoch 34/100\n",
            "12/12 [==============================] - ETA: 0s - loss: 1.3800e-04 - accuracy: 1.0000\n",
            "Epoch 34: val_accuracy did not improve from 0.60000\n",
            "12/12 [==============================] - 1s 77ms/step - loss: 1.3800e-04 - accuracy: 1.0000 - val_loss: 7.4322 - val_accuracy: 0.6000\n",
            "Epoch 35/100\n",
            "12/12 [==============================] - ETA: 0s - loss: 1.3014e-04 - accuracy: 1.0000\n",
            "Epoch 35: val_accuracy did not improve from 0.60000\n",
            "12/12 [==============================] - 1s 77ms/step - loss: 1.3014e-04 - accuracy: 1.0000 - val_loss: 8.5715 - val_accuracy: 0.5000\n",
            "Epoch 36/100\n",
            " 7/12 [================>.............] - ETA: 0s - loss: 2.5402e-04 - accuracy: 1.0000\n",
            "Epoch 36: val_accuracy did not improve from 0.60000\n",
            "12/12 [==============================] - 0s 44ms/step - loss: 1.7052e-04 - accuracy: 1.0000 - val_loss: 7.7806 - val_accuracy: 0.6000\n",
            "Epoch 37/100\n",
            "11/12 [==========================>...] - ETA: 0s - loss: 9.3252e-05 - accuracy: 1.0000\n",
            "Epoch 37: val_accuracy did not improve from 0.60000\n",
            "12/12 [==============================] - 1s 128ms/step - loss: 9.2019e-05 - accuracy: 1.0000 - val_loss: 7.5423 - val_accuracy: 0.6000\n",
            "Epoch 38/100\n",
            " 4/12 [=========>....................] - ETA: 2s - loss: 1.3495e-04 - accuracy: 1.0000\n",
            "Epoch 38: val_accuracy did not improve from 0.60000\n",
            "12/12 [==============================] - 1s 81ms/step - loss: 8.3784e-05 - accuracy: 1.0000 - val_loss: 7.8544 - val_accuracy: 0.6000\n",
            "Epoch 39/100\n",
            "12/12 [==============================] - ETA: 0s - loss: 6.9874e-05 - accuracy: 1.0000\n",
            "Epoch 39: val_accuracy did not improve from 0.60000\n",
            "12/12 [==============================] - 1s 126ms/step - loss: 6.9874e-05 - accuracy: 1.0000 - val_loss: 7.9877 - val_accuracy: 0.6000\n",
            "Epoch 40/100\n",
            " 8/12 [===================>..........] - ETA: 0s - loss: 6.9658e-05 - accuracy: 1.0000\n",
            "Epoch 40: val_accuracy did not improve from 0.60000\n",
            "12/12 [==============================] - 1s 30ms/step - loss: 7.0539e-05 - accuracy: 1.0000 - val_loss: 7.9980 - val_accuracy: 0.6000\n",
            "Epoch 41/100\n",
            "10/12 [========================>.....] - ETA: 0s - loss: 7.7318e-05 - accuracy: 1.0000\n",
            "Epoch 41: val_accuracy did not improve from 0.60000\n",
            "12/12 [==============================] - 1s 53ms/step - loss: 7.0432e-05 - accuracy: 1.0000 - val_loss: 7.9113 - val_accuracy: 0.6000\n",
            "Epoch 42/100\n",
            "12/12 [==============================] - ETA: 0s - loss: 6.3184e-05 - accuracy: 1.0000\n",
            "Epoch 42: val_accuracy did not improve from 0.60000\n",
            "12/12 [==============================] - 0s 29ms/step - loss: 6.3184e-05 - accuracy: 1.0000 - val_loss: 7.9542 - val_accuracy: 0.6000\n",
            "Epoch 43/100\n",
            "12/12 [==============================] - ETA: 0s - loss: 6.2258e-05 - accuracy: 1.0000\n",
            "Epoch 43: val_accuracy did not improve from 0.60000\n",
            "12/12 [==============================] - 0s 29ms/step - loss: 6.2258e-05 - accuracy: 1.0000 - val_loss: 8.0093 - val_accuracy: 0.6000\n",
            "Epoch 44/100\n",
            " 3/12 [======>.......................] - ETA: 0s - loss: 8.1840e-05 - accuracy: 1.0000\n",
            "Epoch 44: val_accuracy did not improve from 0.60000\n",
            "12/12 [==============================] - 0s 24ms/step - loss: 5.9667e-05 - accuracy: 1.0000 - val_loss: 8.0577 - val_accuracy: 0.6000\n",
            "Epoch 45/100\n",
            "12/12 [==============================] - ETA: 0s - loss: 5.9886e-05 - accuracy: 1.0000\n",
            "Epoch 45: val_accuracy did not improve from 0.60000\n",
            "12/12 [==============================] - 0s 29ms/step - loss: 5.9886e-05 - accuracy: 1.0000 - val_loss: 8.0100 - val_accuracy: 0.6000\n",
            "Epoch 46/100\n",
            "12/12 [==============================] - ETA: 0s - loss: 6.1875e-05 - accuracy: 1.0000\n",
            "Epoch 46: val_accuracy did not improve from 0.60000\n",
            "12/12 [==============================] - 0s 9ms/step - loss: 6.1875e-05 - accuracy: 1.0000 - val_loss: 8.1577 - val_accuracy: 0.6000\n",
            "Epoch 47/100\n",
            "12/12 [==============================] - ETA: 0s - loss: 5.5409e-05 - accuracy: 1.0000\n",
            "Epoch 47: val_accuracy did not improve from 0.60000\n",
            "12/12 [==============================] - 0s 9ms/step - loss: 5.5409e-05 - accuracy: 1.0000 - val_loss: 8.0654 - val_accuracy: 0.6000\n",
            "Epoch 48/100\n",
            "11/12 [==========================>...] - ETA: 0s - loss: 5.7582e-05 - accuracy: 1.0000\n",
            "Epoch 48: val_accuracy did not improve from 0.60000\n",
            "12/12 [==============================] - 0s 29ms/step - loss: 5.6619e-05 - accuracy: 1.0000 - val_loss: 8.0287 - val_accuracy: 0.6000\n",
            "Epoch 49/100\n",
            " 7/12 [================>.............] - ETA: 0s - loss: 5.5798e-05 - accuracy: 1.0000\n",
            "Epoch 49: val_accuracy did not improve from 0.60000\n",
            "12/12 [==============================] - 0s 29ms/step - loss: 5.1570e-05 - accuracy: 1.0000 - val_loss: 8.1395 - val_accuracy: 0.6000\n",
            "Epoch 50/100\n",
            "11/12 [==========================>...] - ETA: 0s - loss: 5.6638e-05 - accuracy: 1.0000\n",
            "Epoch 50: val_accuracy did not improve from 0.60000\n",
            "12/12 [==============================] - 0s 8ms/step - loss: 5.5383e-05 - accuracy: 1.0000 - val_loss: 8.2108 - val_accuracy: 0.6000\n",
            "Epoch 51/100\n",
            "12/12 [==============================] - ETA: 0s - loss: 4.7443e-05 - accuracy: 1.0000\n",
            "Epoch 51: val_accuracy did not improve from 0.60000\n",
            "12/12 [==============================] - 1s 52ms/step - loss: 4.7443e-05 - accuracy: 1.0000 - val_loss: 8.1443 - val_accuracy: 0.6000\n",
            "Epoch 52/100\n",
            "11/12 [==========================>...] - ETA: 0s - loss: 4.8004e-05 - accuracy: 1.0000\n",
            "Epoch 52: val_accuracy did not improve from 0.60000\n",
            "12/12 [==============================] - 0s 9ms/step - loss: 4.7635e-05 - accuracy: 1.0000 - val_loss: 8.1170 - val_accuracy: 0.6000\n",
            "Epoch 53/100\n",
            "11/12 [==========================>...] - ETA: 0s - loss: 4.6124e-05 - accuracy: 1.0000\n",
            "Epoch 53: val_accuracy did not improve from 0.60000\n",
            "12/12 [==============================] - 0s 9ms/step - loss: 4.5099e-05 - accuracy: 1.0000 - val_loss: 8.1892 - val_accuracy: 0.6000\n",
            "Epoch 54/100\n",
            "11/12 [==========================>...] - ETA: 0s - loss: 4.4108e-05 - accuracy: 1.0000\n",
            "Epoch 54: val_accuracy did not improve from 0.60000\n",
            "12/12 [==============================] - 0s 8ms/step - loss: 4.3361e-05 - accuracy: 1.0000 - val_loss: 8.2699 - val_accuracy: 0.6000\n",
            "Epoch 55/100\n",
            "12/12 [==============================] - ETA: 0s - loss: 4.1866e-05 - accuracy: 1.0000\n",
            "Epoch 55: val_accuracy did not improve from 0.60000\n",
            "12/12 [==============================] - 0s 29ms/step - loss: 4.1866e-05 - accuracy: 1.0000 - val_loss: 8.2719 - val_accuracy: 0.6000\n",
            "Epoch 56/100\n",
            "11/12 [==========================>...] - ETA: 0s - loss: 4.2786e-05 - accuracy: 1.0000\n",
            "Epoch 56: val_accuracy did not improve from 0.60000\n",
            "12/12 [==============================] - 0s 8ms/step - loss: 4.1835e-05 - accuracy: 1.0000 - val_loss: 8.2330 - val_accuracy: 0.6000\n",
            "Epoch 57/100\n",
            "10/12 [========================>.....] - ETA: 0s - loss: 4.2100e-05 - accuracy: 1.0000\n",
            "Epoch 57: val_accuracy did not improve from 0.60000\n",
            "12/12 [==============================] - 0s 29ms/step - loss: 3.9835e-05 - accuracy: 1.0000 - val_loss: 8.2972 - val_accuracy: 0.6000\n",
            "Epoch 58/100\n",
            "12/12 [==============================] - ETA: 0s - loss: 3.8587e-05 - accuracy: 1.0000\n",
            "Epoch 58: val_accuracy did not improve from 0.60000\n",
            "12/12 [==============================] - 1s 51ms/step - loss: 3.8587e-05 - accuracy: 1.0000 - val_loss: 8.3091 - val_accuracy: 0.6000\n",
            "Epoch 59/100\n",
            " 8/12 [===================>..........] - ETA: 0s - loss: 4.7235e-05 - accuracy: 1.0000\n",
            "Epoch 59: val_accuracy did not improve from 0.60000\n",
            "12/12 [==============================] - 0s 28ms/step - loss: 3.8551e-05 - accuracy: 1.0000 - val_loss: 8.3446 - val_accuracy: 0.6000\n",
            "Epoch 60/100\n",
            "12/12 [==============================] - ETA: 0s - loss: 3.9965e-05 - accuracy: 1.0000\n",
            "Epoch 60: val_accuracy did not improve from 0.60000\n",
            "12/12 [==============================] - 0s 8ms/step - loss: 3.9965e-05 - accuracy: 1.0000 - val_loss: 8.4086 - val_accuracy: 0.6000\n",
            "Epoch 61/100\n",
            "11/12 [==========================>...] - ETA: 0s - loss: 3.7158e-05 - accuracy: 1.0000\n",
            "Epoch 61: val_accuracy did not improve from 0.60000\n",
            "12/12 [==============================] - 0s 29ms/step - loss: 3.6353e-05 - accuracy: 1.0000 - val_loss: 8.3615 - val_accuracy: 0.6000\n",
            "Epoch 62/100\n",
            " 4/12 [=========>....................] - ETA: 0s - loss: 3.4956e-05 - accuracy: 1.0000\n",
            "Epoch 62: val_accuracy did not improve from 0.60000\n",
            "12/12 [==============================] - 0s 29ms/step - loss: 3.5086e-05 - accuracy: 1.0000 - val_loss: 8.2871 - val_accuracy: 0.6000\n",
            "Epoch 63/100\n",
            "11/12 [==========================>...] - ETA: 0s - loss: 3.5855e-05 - accuracy: 1.0000\n",
            "Epoch 63: val_accuracy did not improve from 0.60000\n",
            "12/12 [==============================] - 0s 9ms/step - loss: 3.5058e-05 - accuracy: 1.0000 - val_loss: 8.3750 - val_accuracy: 0.6000\n",
            "Epoch 64/100\n",
            "11/12 [==========================>...] - ETA: 0s - loss: 2.7941e-05 - accuracy: 1.0000\n",
            "Epoch 64: val_accuracy did not improve from 0.60000\n",
            "12/12 [==============================] - 0s 9ms/step - loss: 3.2734e-05 - accuracy: 1.0000 - val_loss: 8.3661 - val_accuracy: 0.6000\n",
            "Epoch 65/100\n",
            "12/12 [==============================] - ETA: 0s - loss: 3.4708e-05 - accuracy: 1.0000\n",
            "Epoch 65: val_accuracy did not improve from 0.60000\n",
            "12/12 [==============================] - 0s 32ms/step - loss: 3.4708e-05 - accuracy: 1.0000 - val_loss: 8.2513 - val_accuracy: 0.6000\n",
            "Epoch 66/100\n",
            "12/12 [==============================] - ETA: 0s - loss: 3.2752e-05 - accuracy: 1.0000\n",
            "Epoch 66: val_accuracy did not improve from 0.60000\n",
            "12/12 [==============================] - 0s 43ms/step - loss: 3.2752e-05 - accuracy: 1.0000 - val_loss: 8.3805 - val_accuracy: 0.6000\n",
            "Epoch 67/100\n",
            " 9/12 [=====================>........] - ETA: 0s - loss: 3.5922e-05 - accuracy: 1.0000\n",
            "Epoch 67: val_accuracy did not improve from 0.60000\n",
            "12/12 [==============================] - 0s 11ms/step - loss: 3.1394e-05 - accuracy: 1.0000 - val_loss: 8.5061 - val_accuracy: 0.6000\n",
            "Epoch 68/100\n",
            "12/12 [==============================] - ETA: 0s - loss: 2.8797e-05 - accuracy: 1.0000\n",
            "Epoch 68: val_accuracy did not improve from 0.60000\n",
            "12/12 [==============================] - 1s 48ms/step - loss: 2.8797e-05 - accuracy: 1.0000 - val_loss: 8.4713 - val_accuracy: 0.6000\n",
            "Epoch 69/100\n",
            "12/12 [==============================] - ETA: 0s - loss: 2.7584e-05 - accuracy: 1.0000\n",
            "Epoch 69: val_accuracy did not improve from 0.60000\n",
            "12/12 [==============================] - 1s 77ms/step - loss: 2.7584e-05 - accuracy: 1.0000 - val_loss: 8.4701 - val_accuracy: 0.6000\n",
            "Epoch 70/100\n",
            "12/12 [==============================] - ETA: 0s - loss: 2.6882e-05 - accuracy: 1.0000\n",
            "Epoch 70: val_accuracy did not improve from 0.60000\n",
            "12/12 [==============================] - 1s 45ms/step - loss: 2.6882e-05 - accuracy: 1.0000 - val_loss: 8.4835 - val_accuracy: 0.6000\n",
            "Epoch 71/100\n",
            "12/12 [==============================] - ETA: 0s - loss: 2.6290e-05 - accuracy: 1.0000\n",
            "Epoch 71: val_accuracy did not improve from 0.60000\n",
            "12/12 [==============================] - 0s 43ms/step - loss: 2.6290e-05 - accuracy: 1.0000 - val_loss: 8.4681 - val_accuracy: 0.6000\n",
            "Epoch 72/100\n",
            " 8/12 [===================>..........] - ETA: 0s - loss: 2.6494e-05 - accuracy: 1.0000\n",
            "Epoch 72: val_accuracy did not improve from 0.60000\n",
            "12/12 [==============================] - 0s 12ms/step - loss: 2.5457e-05 - accuracy: 1.0000 - val_loss: 8.4526 - val_accuracy: 0.6000\n",
            "Epoch 73/100\n",
            " 8/12 [===================>..........] - ETA: 0s - loss: 2.3668e-05 - accuracy: 1.0000\n",
            "Epoch 73: val_accuracy did not improve from 0.60000\n",
            "12/12 [==============================] - 0s 12ms/step - loss: 2.5177e-05 - accuracy: 1.0000 - val_loss: 8.4493 - val_accuracy: 0.6000\n",
            "Epoch 74/100\n",
            "12/12 [==============================] - ETA: 0s - loss: 2.4275e-05 - accuracy: 1.0000\n",
            "Epoch 74: val_accuracy did not improve from 0.60000\n",
            "12/12 [==============================] - 1s 45ms/step - loss: 2.4275e-05 - accuracy: 1.0000 - val_loss: 8.4952 - val_accuracy: 0.6000\n",
            "Epoch 75/100\n",
            "12/12 [==============================] - ETA: 0s - loss: 2.3671e-05 - accuracy: 1.0000\n",
            "Epoch 75: val_accuracy did not improve from 0.60000\n",
            "12/12 [==============================] - 0s 36ms/step - loss: 2.3671e-05 - accuracy: 1.0000 - val_loss: 8.5366 - val_accuracy: 0.6000\n",
            "Epoch 76/100\n",
            "12/12 [==============================] - ETA: 0s - loss: 2.3683e-05 - accuracy: 1.0000\n",
            "Epoch 76: val_accuracy did not improve from 0.60000\n",
            "12/12 [==============================] - 0s 29ms/step - loss: 2.3683e-05 - accuracy: 1.0000 - val_loss: 8.5652 - val_accuracy: 0.6000\n",
            "Epoch 77/100\n",
            "11/12 [==========================>...] - ETA: 0s - loss: 2.3251e-05 - accuracy: 1.0000\n",
            "Epoch 77: val_accuracy did not improve from 0.60000\n",
            "12/12 [==============================] - 0s 9ms/step - loss: 2.2744e-05 - accuracy: 1.0000 - val_loss: 8.5299 - val_accuracy: 0.6000\n",
            "Epoch 78/100\n",
            "12/12 [==============================] - ETA: 0s - loss: 2.2243e-05 - accuracy: 1.0000\n",
            "Epoch 78: val_accuracy did not improve from 0.60000\n",
            "12/12 [==============================] - 0s 29ms/step - loss: 2.2243e-05 - accuracy: 1.0000 - val_loss: 8.5021 - val_accuracy: 0.6000\n",
            "Epoch 79/100\n",
            "12/12 [==============================] - ETA: 0s - loss: 2.2061e-05 - accuracy: 1.0000\n",
            "Epoch 79: val_accuracy did not improve from 0.60000\n",
            "12/12 [==============================] - 0s 27ms/step - loss: 2.2061e-05 - accuracy: 1.0000 - val_loss: 8.5144 - val_accuracy: 0.6000\n",
            "Epoch 80/100\n",
            "12/12 [==============================] - ETA: 0s - loss: 2.1030e-05 - accuracy: 1.0000\n",
            "Epoch 80: val_accuracy did not improve from 0.60000\n",
            "12/12 [==============================] - 0s 29ms/step - loss: 2.1030e-05 - accuracy: 1.0000 - val_loss: 8.5502 - val_accuracy: 0.6000\n",
            "Epoch 81/100\n",
            "11/12 [==========================>...] - ETA: 0s - loss: 2.1278e-05 - accuracy: 1.0000\n",
            "Epoch 81: val_accuracy did not improve from 0.60000\n",
            "12/12 [==============================] - 0s 8ms/step - loss: 2.0805e-05 - accuracy: 1.0000 - val_loss: 8.6070 - val_accuracy: 0.6000\n",
            "Epoch 82/100\n",
            "10/12 [========================>.....] - ETA: 0s - loss: 1.2558e-05 - accuracy: 1.0000\n",
            "Epoch 82: val_accuracy did not improve from 0.60000\n",
            "12/12 [==============================] - 0s 9ms/step - loss: 2.0926e-05 - accuracy: 1.0000 - val_loss: 8.6139 - val_accuracy: 0.6000\n",
            "Epoch 83/100\n",
            "12/12 [==============================] - ETA: 0s - loss: 2.0391e-05 - accuracy: 1.0000\n",
            "Epoch 83: val_accuracy did not improve from 0.60000\n",
            "12/12 [==============================] - 0s 8ms/step - loss: 2.0391e-05 - accuracy: 1.0000 - val_loss: 8.4383 - val_accuracy: 0.6000\n",
            "Epoch 84/100\n",
            "11/12 [==========================>...] - ETA: 0s - loss: 2.0614e-05 - accuracy: 1.0000\n",
            "Epoch 84: val_accuracy did not improve from 0.60000\n",
            "12/12 [==============================] - 1s 49ms/step - loss: 2.1242e-05 - accuracy: 1.0000 - val_loss: 8.4194 - val_accuracy: 0.6000\n",
            "Epoch 85/100\n",
            " 9/12 [=====================>........] - ETA: 0s - loss: 1.4617e-05 - accuracy: 1.0000\n",
            "Epoch 85: val_accuracy did not improve from 0.60000\n",
            "12/12 [==============================] - 0s 10ms/step - loss: 2.0576e-05 - accuracy: 1.0000 - val_loss: 8.4710 - val_accuracy: 0.6000\n",
            "Epoch 86/100\n",
            "11/12 [==========================>...] - ETA: 0s - loss: 1.9931e-05 - accuracy: 1.0000\n",
            "Epoch 86: val_accuracy did not improve from 0.60000\n",
            "12/12 [==============================] - 0s 8ms/step - loss: 1.9488e-05 - accuracy: 1.0000 - val_loss: 8.6439 - val_accuracy: 0.5000\n",
            "Epoch 87/100\n",
            "11/12 [==========================>...] - ETA: 0s - loss: 1.8236e-05 - accuracy: 1.0000\n",
            "Epoch 87: val_accuracy did not improve from 0.60000\n",
            "12/12 [==============================] - 0s 9ms/step - loss: 1.7831e-05 - accuracy: 1.0000 - val_loss: 8.6538 - val_accuracy: 0.5000\n",
            "Epoch 88/100\n",
            "11/12 [==========================>...] - ETA: 0s - loss: 1.7988e-05 - accuracy: 1.0000\n",
            "Epoch 88: val_accuracy did not improve from 0.60000\n",
            "12/12 [==============================] - 0s 29ms/step - loss: 1.7589e-05 - accuracy: 1.0000 - val_loss: 8.6678 - val_accuracy: 0.5000\n",
            "Epoch 89/100\n",
            "11/12 [==========================>...] - ETA: 0s - loss: 1.5343e-05 - accuracy: 1.0000\n",
            "Epoch 89: val_accuracy did not improve from 0.60000\n",
            "12/12 [==============================] - 0s 9ms/step - loss: 1.7447e-05 - accuracy: 1.0000 - val_loss: 8.6461 - val_accuracy: 0.6000\n",
            "Epoch 90/100\n",
            "11/12 [==========================>...] - ETA: 0s - loss: 1.7384e-05 - accuracy: 1.0000\n",
            "Epoch 90: val_accuracy did not improve from 0.60000\n",
            "12/12 [==============================] - 0s 9ms/step - loss: 1.7022e-05 - accuracy: 1.0000 - val_loss: 8.5268 - val_accuracy: 0.6000\n",
            "Epoch 91/100\n",
            "12/12 [==============================] - ETA: 0s - loss: 1.7810e-05 - accuracy: 1.0000\n",
            "Epoch 91: val_accuracy did not improve from 0.60000\n",
            "12/12 [==============================] - 0s 28ms/step - loss: 1.7810e-05 - accuracy: 1.0000 - val_loss: 8.5314 - val_accuracy: 0.6000\n",
            "Epoch 92/100\n",
            "10/12 [========================>.....] - ETA: 0s - loss: 1.8378e-05 - accuracy: 1.0000\n",
            "Epoch 92: val_accuracy did not improve from 0.60000\n",
            "12/12 [==============================] - 0s 10ms/step - loss: 1.6372e-05 - accuracy: 1.0000 - val_loss: 8.6532 - val_accuracy: 0.6000\n",
            "Epoch 93/100\n",
            " 6/12 [==============>...............] - ETA: 0s - loss: 1.1478e-05 - accuracy: 1.0000\n",
            "Epoch 93: val_accuracy did not improve from 0.60000\n",
            "12/12 [==============================] - 0s 30ms/step - loss: 1.6590e-05 - accuracy: 1.0000 - val_loss: 8.7239 - val_accuracy: 0.6000\n",
            "Epoch 94/100\n",
            " 5/12 [===========>..................] - ETA: 0s - loss: 1.3178e-05 - accuracy: 1.0000\n",
            "Epoch 94: val_accuracy did not improve from 0.60000\n",
            "12/12 [==============================] - 0s 27ms/step - loss: 1.5719e-05 - accuracy: 1.0000 - val_loss: 8.6602 - val_accuracy: 0.6000\n",
            "Epoch 95/100\n",
            "11/12 [==========================>...] - ETA: 0s - loss: 1.5951e-05 - accuracy: 1.0000\n",
            "Epoch 95: val_accuracy did not improve from 0.60000\n",
            "12/12 [==============================] - 0s 9ms/step - loss: 1.5597e-05 - accuracy: 1.0000 - val_loss: 8.6413 - val_accuracy: 0.6000\n",
            "Epoch 96/100\n",
            " 4/12 [=========>....................] - ETA: 0s - loss: 1.5720e-05 - accuracy: 1.0000\n",
            "Epoch 96: val_accuracy did not improve from 0.60000\n",
            "12/12 [==============================] - 0s 27ms/step - loss: 1.5250e-05 - accuracy: 1.0000 - val_loss: 8.7005 - val_accuracy: 0.6000\n",
            "Epoch 97/100\n",
            "11/12 [==========================>...] - ETA: 0s - loss: 1.3109e-05 - accuracy: 1.0000\n",
            "Epoch 97: val_accuracy did not improve from 0.60000\n",
            "12/12 [==============================] - 0s 9ms/step - loss: 1.4879e-05 - accuracy: 1.0000 - val_loss: 8.7285 - val_accuracy: 0.6000\n",
            "Epoch 98/100\n",
            "11/12 [==========================>...] - ETA: 0s - loss: 1.4839e-05 - accuracy: 1.0000\n",
            "Epoch 98: val_accuracy did not improve from 0.60000\n",
            "12/12 [==============================] - 0s 9ms/step - loss: 1.4510e-05 - accuracy: 1.0000 - val_loss: 8.6145 - val_accuracy: 0.6000\n",
            "Epoch 99/100\n",
            "11/12 [==========================>...] - ETA: 0s - loss: 1.4919e-05 - accuracy: 1.0000\n",
            "Epoch 99: val_accuracy did not improve from 0.60000\n",
            "12/12 [==============================] - 0s 10ms/step - loss: 1.4588e-05 - accuracy: 1.0000 - val_loss: 8.6526 - val_accuracy: 0.6000\n",
            "Epoch 100/100\n",
            "11/12 [==========================>...] - ETA: 0s - loss: 1.3061e-05 - accuracy: 1.0000\n",
            "Epoch 100: val_accuracy did not improve from 0.60000\n",
            "12/12 [==============================] - 0s 29ms/step - loss: 1.4132e-05 - accuracy: 1.0000 - val_loss: 8.6996 - val_accuracy: 0.6000\n"
          ]
        }
      ]
    },
    {
      "cell_type": "code",
      "source": [
        "plt.plot(history_cnn_stance.history['accuracy'],\n",
        "         label='Proportion of correct answers on the training set')\n",
        "plt.plot(history_cnn_stance.history['val_accuracy'],\n",
        "         label='Proportion of correct answers on the validation set')\n",
        "plt.xlabel('Train epoch')\n",
        "plt.ylabel('Percentage of correct answers')\n",
        "plt.legend()\n",
        "plt.show()"
      ],
      "metadata": {
        "colab": {
          "base_uri": "https://localhost:8080/",
          "height": 449
        },
        "id": "jdgngq66-__y",
        "outputId": "30e600ac-6d14-489c-885c-f6b6741e9f99",
        "execution": {
          "iopub.status.busy": "2023-04-21T18:17:28.534233Z",
          "iopub.execute_input": "2023-04-21T18:17:28.535293Z",
          "iopub.status.idle": "2023-04-21T18:17:28.777239Z",
          "shell.execute_reply.started": "2023-04-21T18:17:28.535242Z",
          "shell.execute_reply": "2023-04-21T18:17:28.776088Z"
        },
        "trusted": true
      },
      "execution_count": null,
      "outputs": [
        {
          "output_type": "display_data",
          "data": {
            "text/plain": [
              "<Figure size 640x480 with 1 Axes>"
            ],
            "image/png": "[encoded data removed]"
          },
          "metadata": {}
        }
      ]
    },
    {
      "cell_type": "code",
      "source": [
        "history_cnn_argument = model_cnn.fit(train_x['input_ids'],\n",
        "                            y_argument,\n",
        "                            epochs=n_epochs,\n",
        "                            batch_size=n_batch_size,\n",
        "                            validation_split = 0.1,\n",
        "                            callbacks=[checkpoint_callback_cnn])"
      ],
      "metadata": {
        "colab": {
          "base_uri": "https://localhost:8080/"
        },
        "id": "62iJ0AMy_cxR",
        "outputId": "72acd52a-a545-46cc-90ff-535c5bf7feb3",
        "execution": {
          "iopub.status.busy": "2023-04-21T17:36:34.826540Z",
          "iopub.execute_input": "2023-04-21T17:36:34.826938Z",
          "iopub.status.idle": "2023-04-21T17:37:00.882811Z",
          "shell.execute_reply.started": "2023-04-21T17:36:34.826901Z",
          "shell.execute_reply": "2023-04-21T17:37:00.881805Z"
        },
        "trusted": true
      },
      "execution_count": null,
      "outputs": [
        {
          "output_type": "stream",
          "name": "stdout",
          "text": [
            "Epoch 1/5\n",
            "189/189 [==============================] - ETA: 0s - loss: 0.1759 - accuracy: 0.9519\n",
            "Epoch 1: val_accuracy improved from 0.45536 to 0.69940, saving model to best_model_cnn.h5\n",
            "189/189 [==============================] - 6s 34ms/step - loss: 0.1759 - accuracy: 0.9519 - val_loss: 0.9700 - val_accuracy: 0.6994\n",
            "Epoch 2/5\n",
            "188/189 [============================>.] - ETA: 0s - loss: 0.0775 - accuracy: 0.9757\n",
            "Epoch 2: val_accuracy improved from 0.69940 to 0.71577, saving model to best_model_cnn.h5\n",
            "189/189 [==============================] - 6s 33ms/step - loss: 0.0783 - accuracy: 0.9757 - val_loss: 1.9206 - val_accuracy: 0.7158\n",
            "Epoch 3/5\n",
            "189/189 [==============================] - ETA: 0s - loss: 0.0200 - accuracy: 0.9935\n",
            "Epoch 3: val_accuracy did not improve from 0.71577\n",
            "189/189 [==============================] - 5s 24ms/step - loss: 0.0200 - accuracy: 0.9935 - val_loss: 2.3190 - val_accuracy: 0.7024\n",
            "Epoch 4/5\n",
            "189/189 [==============================] - ETA: 0s - loss: 0.0057 - accuracy: 0.9987\n",
            "Epoch 4: val_accuracy did not improve from 0.71577\n",
            "189/189 [==============================] - 4s 21ms/step - loss: 0.0057 - accuracy: 0.9987 - val_loss: 2.2335 - val_accuracy: 0.6920\n",
            "Epoch 5/5\n",
            "189/189 [==============================] - ETA: 0s - loss: 8.3372e-05 - accuracy: 1.0000\n",
            "Epoch 5: val_accuracy did not improve from 0.71577\n",
            "189/189 [==============================] - 3s 16ms/step - loss: 8.3372e-05 - accuracy: 1.0000 - val_loss: 2.6687 - val_accuracy: 0.7054\n"
          ]
        }
      ]
    },
    {
      "cell_type": "code",
      "source": [
        "plt.plot(history_cnn_argument.history['accuracy'],\n",
        "         label='Proportion of correct answers on the training set')\n",
        "plt.plot(history_cnn_argument.history['val_accuracy'],\n",
        "         label='Proportion of correct answers on the validation set')\n",
        "plt.xlabel('Train epoch')\n",
        "plt.ylabel('Percentage of correct answers')\n",
        "plt.legend()\n",
        "plt.show()"
      ],
      "metadata": {
        "colab": {
          "base_uri": "https://localhost:8080/",
          "height": 449
        },
        "id": "WgFol6v3_tKV",
        "outputId": "9c55564a-2c42-40ce-e9bf-44ebffe04214",
        "execution": {
          "iopub.status.busy": "2023-04-21T17:37:08.649241Z",
          "iopub.execute_input": "2023-04-21T17:37:08.650408Z",
          "iopub.status.idle": "2023-04-21T17:37:08.907147Z",
          "shell.execute_reply.started": "2023-04-21T17:37:08.650362Z",
          "shell.execute_reply": "2023-04-21T17:37:08.906114Z"
        },
        "trusted": true
      },
      "execution_count": null,
      "outputs": [
        {
          "output_type": "display_data",
          "data": {
            "text/plain": [
              "<Figure size 640x480 with 1 Axes>"
            ],
            "image/png": "[encoded data removed]"
          },
          "metadata": {}
        }
      ]
    },
    {
      "cell_type": "code",
      "source": [
        "xx_test = tokenizer(\n",
        "    text=data_test['text'].to_list(),\n",
        "    add_special_tokens=True,\n",
        "    max_length=256,\n",
        "    truncation=True,\n",
        "    padding='max_length',\n",
        "    return_tensors='tf',\n",
        "    return_token_type_ids = False,\n",
        "    return_attention_mask = False,\n",
        "    verbose = True)\n",
        "xx_test"
      ],
      "metadata": {
        "colab": {
          "base_uri": "https://localhost:8080/"
        },
        "id": "rqCuBYIOyg71",
        "outputId": "2d0b7070-888a-4ff2-e3aa-b21fa32a2c4b"
      },
      "execution_count": null,
      "outputs": [
        {
          "output_type": "execute_result",
          "data": {
            "text/plain": [
              "{'input_ids': <tf.Tensor: shape=(96, 256), dtype=int32, numpy=\n",
              "array([[  101,   284,   108, ...,   130, 11564,   102],\n",
              "       [  101,   284,   108, ...,   134, 41675,   102],\n",
              "       [  101,   284,   108, ..., 10723, 24627,   102],\n",
              "       ...,\n",
              "       [  101,   284,   108, ...,     0,     0,     0],\n",
              "       [  101,   284,   108, ..., 13733,   156,   102],\n",
              "       [  101,   284,   108, ..., 12195, 10213,   102]], dtype=int32)>}"
            ]
          },
          "metadata": {},
          "execution_count": 52
        }
      ]
    },
    {
      "cell_type": "code",
      "source": [
        "# test_sequences = tokenizer.texts_to_sequences(data_test['text'])\n",
        "# x_test = pad_sequences(test_sequences, maxlen=100)"
      ],
      "metadata": {
        "id": "lH8o9H_MAinu",
        "execution": {
          "iopub.status.busy": "2023-04-21T18:27:12.599903Z",
          "iopub.execute_input": "2023-04-21T18:27:12.600597Z",
          "iopub.status.idle": "2023-04-21T18:27:12.649816Z",
          "shell.execute_reply.started": "2023-04-21T18:27:12.600558Z",
          "shell.execute_reply": "2023-04-21T18:27:12.648823Z"
        },
        "trusted": true
      },
      "execution_count": null,
      "outputs": []
    },
    {
      "cell_type": "code",
      "source": [
        "y_test_stance = utils.to_categorical(data_test['class'], 3)\n",
        "y_test_stance"
      ],
      "metadata": {
        "id": "uSC2X9M_GfH7",
        "execution": {
          "iopub.status.busy": "2023-04-21T18:27:13.651453Z",
          "iopub.execute_input": "2023-04-21T18:27:13.651841Z",
          "iopub.status.idle": "2023-04-21T18:27:13.662891Z",
          "shell.execute_reply.started": "2023-04-21T18:27:13.651805Z",
          "shell.execute_reply": "2023-04-21T18:27:13.661463Z"
        },
        "trusted": true,
        "colab": {
          "base_uri": "https://localhost:8080/"
        },
        "outputId": "e9776049-e9db-4ad3-8df2-634f854b6bb9"
      },
      "execution_count": null,
      "outputs": [
        {
          "output_type": "execute_result",
          "data": {
            "text/plain": [
              "array([[1., 0., 0.],\n",
              "       [0., 1., 0.],\n",
              "       [1., 0., 0.],\n",
              "       [0., 1., 0.],\n",
              "       [0., 1., 0.],\n",
              "       [0., 1., 0.],\n",
              "       [0., 1., 0.],\n",
              "       [1., 0., 0.],\n",
              "       [1., 0., 0.],\n",
              "       [1., 0., 0.],\n",
              "       [0., 1., 0.],\n",
              "       [1., 0., 0.],\n",
              "       [0., 1., 0.],\n",
              "       [0., 1., 0.],\n",
              "       [0., 1., 0.],\n",
              "       [1., 0., 0.],\n",
              "       [1., 0., 0.],\n",
              "       [1., 0., 0.],\n",
              "       [0., 1., 0.],\n",
              "       [0., 1., 0.],\n",
              "       [1., 0., 0.],\n",
              "       [0., 0., 1.],\n",
              "       [1., 0., 0.],\n",
              "       [0., 0., 1.],\n",
              "       [1., 0., 0.],\n",
              "       [0., 0., 1.],\n",
              "       [0., 0., 1.],\n",
              "       [0., 0., 1.],\n",
              "       [0., 0., 1.],\n",
              "       [0., 0., 1.],\n",
              "       [1., 0., 0.],\n",
              "       [1., 0., 0.],\n",
              "       [1., 0., 0.],\n",
              "       [1., 0., 0.],\n",
              "       [1., 0., 0.],\n",
              "       [1., 0., 0.],\n",
              "       [1., 0., 0.],\n",
              "       [1., 0., 0.],\n",
              "       [1., 0., 0.],\n",
              "       [1., 0., 0.],\n",
              "       [1., 0., 0.],\n",
              "       [1., 0., 0.],\n",
              "       [1., 0., 0.],\n",
              "       [1., 0., 0.],\n",
              "       [1., 0., 0.],\n",
              "       [1., 0., 0.],\n",
              "       [1., 0., 0.],\n",
              "       [1., 0., 0.],\n",
              "       [1., 0., 0.],\n",
              "       [1., 0., 0.],\n",
              "       [1., 0., 0.],\n",
              "       [1., 0., 0.],\n",
              "       [1., 0., 0.],\n",
              "       [1., 0., 0.],\n",
              "       [1., 0., 0.],\n",
              "       [1., 0., 0.],\n",
              "       [1., 0., 0.],\n",
              "       [1., 0., 0.],\n",
              "       [1., 0., 0.],\n",
              "       [1., 0., 0.],\n",
              "       [1., 0., 0.],\n",
              "       [1., 0., 0.],\n",
              "       [1., 0., 0.],\n",
              "       [1., 0., 0.],\n",
              "       [1., 0., 0.],\n",
              "       [1., 0., 0.],\n",
              "       [1., 0., 0.],\n",
              "       [1., 0., 0.],\n",
              "       [1., 0., 0.],\n",
              "       [1., 0., 0.],\n",
              "       [1., 0., 0.],\n",
              "       [1., 0., 0.],\n",
              "       [1., 0., 0.],\n",
              "       [1., 0., 0.],\n",
              "       [1., 0., 0.],\n",
              "       [1., 0., 0.],\n",
              "       [1., 0., 0.],\n",
              "       [1., 0., 0.],\n",
              "       [1., 0., 0.],\n",
              "       [1., 0., 0.],\n",
              "       [1., 0., 0.],\n",
              "       [1., 0., 0.],\n",
              "       [1., 0., 0.],\n",
              "       [1., 0., 0.],\n",
              "       [1., 0., 0.],\n",
              "       [1., 0., 0.],\n",
              "       [1., 0., 0.],\n",
              "       [1., 0., 0.],\n",
              "       [1., 0., 0.],\n",
              "       [1., 0., 0.],\n",
              "       [1., 0., 0.],\n",
              "       [1., 0., 0.],\n",
              "       [1., 0., 0.],\n",
              "       [1., 0., 0.],\n",
              "       [1., 0., 0.],\n",
              "       [1., 0., 0.]], dtype=float32)"
            ]
          },
          "metadata": {},
          "execution_count": 53
        }
      ]
    },
    {
      "cell_type": "code",
      "source": [
        "y_test_argument = utils.to_categorical(data_test[f'{CLASS_NAME}_argument'] - 1, 4)\n",
        "y_test_argument"
      ],
      "metadata": {
        "id": "6wHqUgg1JShF",
        "execution": {
          "iopub.status.busy": "2023-04-21T18:14:19.778155Z",
          "iopub.execute_input": "2023-04-21T18:14:19.778540Z",
          "iopub.status.idle": "2023-04-21T18:14:19.791520Z",
          "shell.execute_reply.started": "2023-04-21T18:14:19.778503Z",
          "shell.execute_reply": "2023-04-21T18:14:19.790250Z"
        },
        "trusted": true,
        "colab": {
          "base_uri": "https://localhost:8080/"
        },
        "outputId": "e7b034a3-20ab-495f-bf16-b55437ea4c53"
      },
      "execution_count": null,
      "outputs": [
        {
          "output_type": "execute_result",
          "data": {
            "text/plain": [
              "array([[0., 0., 1., 0.],\n",
              "       [0., 0., 1., 0.],\n",
              "       [0., 0., 1., 0.],\n",
              "       ...,\n",
              "       [0., 0., 1., 0.],\n",
              "       [0., 0., 1., 0.],\n",
              "       [0., 0., 1., 0.]], dtype=float32)"
            ]
          },
          "metadata": {},
          "execution_count": 311
        }
      ]
    },
    {
      "cell_type": "code",
      "source": [
        "# model_cnn.load_weights(model_cnn_save_path)"
      ],
      "metadata": {
        "id": "h1hFP3z7A0no",
        "execution": {
          "iopub.status.busy": "2023-04-21T08:00:14.994437Z",
          "iopub.execute_input": "2023-04-21T08:00:14.995496Z",
          "iopub.status.idle": "2023-04-21T08:00:15.026950Z",
          "shell.execute_reply.started": "2023-04-21T08:00:14.995435Z",
          "shell.execute_reply": "2023-04-21T08:00:15.025821Z"
        },
        "trusted": true
      },
      "execution_count": null,
      "outputs": []
    },
    {
      "cell_type": "code",
      "source": [
        "val_results = model_cnn.predict(xx_test['input_ids'])"
      ],
      "metadata": {
        "execution": {
          "iopub.status.busy": "2023-04-21T18:27:18.033576Z",
          "iopub.execute_input": "2023-04-21T18:27:18.033959Z",
          "iopub.status.idle": "2023-04-21T18:27:18.278674Z",
          "shell.execute_reply.started": "2023-04-21T18:27:18.033916Z",
          "shell.execute_reply": "2023-04-21T18:27:18.277263Z"
        },
        "trusted": true,
        "colab": {
          "base_uri": "https://localhost:8080/"
        },
        "id": "CRctHtiHtYeN",
        "outputId": "2f29114c-c320-4de5-a9d2-ce6c98eaa35a"
      },
      "execution_count": null,
      "outputs": [
        {
          "output_type": "stream",
          "name": "stdout",
          "text": [
            "3/3 [==============================] - 0s 3ms/step\n"
          ]
        }
      ]
    },
    {
      "cell_type": "code",
      "source": [
        "model_cnn.evaluate(xx_test['input_ids'], val_results, verbose=1)"
      ],
      "metadata": {
        "colab": {
          "base_uri": "https://localhost:8080/"
        },
        "id": "0-Aj0mhoBk1k",
        "outputId": "1c34c881-704e-459a-c8ee-c80acbeabc21",
        "execution": {
          "iopub.status.busy": "2023-04-21T18:27:18.478251Z",
          "iopub.execute_input": "2023-04-21T18:27:18.479060Z",
          "iopub.status.idle": "2023-04-21T18:27:18.802091Z",
          "shell.execute_reply.started": "2023-04-21T18:27:18.479026Z",
          "shell.execute_reply": "2023-04-21T18:27:18.801106Z"
        },
        "trusted": true
      },
      "execution_count": null,
      "outputs": [
        {
          "output_type": "stream",
          "name": "stdout",
          "text": [
            "3/3 [==============================] - 0s 8ms/step - loss: 0.0515 - accuracy: 1.0000\n"
          ]
        },
        {
          "output_type": "execute_result",
          "data": {
            "text/plain": [
              "[0.05145149305462837, 1.0]"
            ]
          },
          "metadata": {},
          "execution_count": 55
        }
      ]
    },
    {
      "cell_type": "code",
      "source": [
        "# data_test[f'{CLASS_NAME}_stance_predict'] = val_results.argmax(axis=-1)\n",
        "data_test['class1'] = val_results.argmax(axis=-1)"
      ],
      "metadata": {
        "id": "5CbAl-6jB3Yd",
        "execution": {
          "iopub.status.busy": "2023-04-21T18:27:34.510552Z",
          "iopub.execute_input": "2023-04-21T18:27:34.511552Z",
          "iopub.status.idle": "2023-04-21T18:27:34.517921Z",
          "shell.execute_reply.started": "2023-04-21T18:27:34.511514Z",
          "shell.execute_reply": "2023-04-21T18:27:34.516828Z"
        },
        "trusted": true
      },
      "execution_count": null,
      "outputs": []
    },
    {
      "cell_type": "code",
      "source": [
        "data_test['class'].values"
      ],
      "metadata": {
        "id": "OVlMKZmlTWaR",
        "outputId": "f6dc7adb-61fa-443a-a60b-aa2fa8fffa1d",
        "colab": {
          "base_uri": "https://localhost:8080/"
        }
      },
      "execution_count": null,
      "outputs": [
        {
          "output_type": "execute_result",
          "data": {
            "text/plain": [
              "array([0, 1, 0, 1, 1, 1, 1, 0, 0, 0, 1, 0, 1, 1, 1, 0, 0, 0, 1, 1, 0, 2,\n",
              "       0, 2, 0, 2, 2, 2, 2, 2, 0, 0, 0, 0, 0, 0, 0, 0, 0, 0, 0, 0, 0, 0,\n",
              "       0, 0, 0, 0, 0, 0, 0, 0, 0, 0, 0, 0, 0, 0, 0, 0, 0, 0, 0, 0, 0, 0,\n",
              "       0, 0, 0, 0, 0, 0, 0, 0, 0, 0, 0, 0, 0, 0, 0, 0, 0, 0, 0, 0, 0, 0,\n",
              "       0, 0, 0, 0, 0, 0, 0, 0], dtype=int8)"
            ]
          },
          "metadata": {},
          "execution_count": 60
        }
      ]
    },
    {
      "cell_type": "code",
      "source": [
        "data_test['class1'].values"
      ],
      "metadata": {
        "colab": {
          "base_uri": "https://localhost:8080/"
        },
        "id": "IyDtgGg4TNzS",
        "outputId": "e888cd25-6da0-4050-9340-47dc6e766fbb"
      },
      "execution_count": null,
      "outputs": [
        {
          "output_type": "execute_result",
          "data": {
            "text/plain": [
              "array([0, 0, 0, 0, 0, 1, 0, 0, 0, 0, 0, 0, 0, 0, 0, 0, 0, 0, 0, 0, 0, 0,\n",
              "       0, 0, 0, 0, 0, 0, 0, 0, 0, 0, 0, 0, 0, 0, 0, 0, 0, 0, 0, 1, 0, 0,\n",
              "       0, 0, 1, 0, 0, 0, 0, 0, 0, 0, 1, 1, 0, 0, 0, 0, 0, 0, 0, 0, 0, 0,\n",
              "       0, 0, 0, 0, 0, 0, 0, 0, 1, 0, 0, 2, 0, 1, 0, 0, 2, 0, 0, 0, 0, 0,\n",
              "       0, 0, 0, 0, 0, 0, 0, 0])"
            ]
          },
          "metadata": {},
          "execution_count": 59
        }
      ]
    }
  ]
}